{
  "nbformat": 4,
  "nbformat_minor": 0,
  "metadata": {
    "accelerator": "GPU",
    "colab": {
      "name": "LSTM_2outputs.ipynb",
      "provenance": [],
      "collapsed_sections": [],
      "include_colab_link": true
    },
    "kernelspec": {
      "display_name": "Python 3",
      "language": "python",
      "name": "python3"
    },
    "language_info": {
      "codemirror_mode": {
        "name": "ipython",
        "version": 3
      },
      "file_extension": ".py",
      "mimetype": "text/x-python",
      "name": "python",
      "nbconvert_exporter": "python",
      "pygments_lexer": "ipython3",
      "version": "3.7.6"
    }
  },
  "cells": [
    {
      "cell_type": "markdown",
      "metadata": {
        "id": "view-in-github",
        "colab_type": "text"
      },
      "source": [
        "<a href=\"https://colab.research.google.com/github/chan-kh/Music-Sentiment-Analysis/blob/main/LSTM_2outputs.ipynb\" target=\"_parent\"><img src=\"https://colab.research.google.com/assets/colab-badge.svg\" alt=\"Open In Colab\"/></a>"
      ]
    },
    {
      "cell_type": "code",
      "metadata": {
        "id": "vbaXYegNi0Id"
      },
      "source": [
        "import os\n",
        "import datetime\n",
        "from google.colab import drive\n",
        "\n",
        "import IPython\n",
        "import IPython.display\n",
        "import matplotlib as mpl\n",
        "import matplotlib.pyplot as plt\n",
        "import numpy as np\n",
        "import pandas as pd\n",
        "import tensorflow as tf\n",
        "import tensorflow_datasets as tfds\n",
        "from sklearn.preprocessing import MinMaxScaler\n",
        "\n",
        "from numpy import loadtxt\n",
        "from keras.models import Sequential\n",
        "from keras.layers import LSTM\n",
        "from keras.layers import Dense\n",
        "from keras.layers import Dropout\n",
        "\n",
        "from keras import layers\n",
        "from keras.optimizers import RMSprop\n",
        "from keras.layers import Bidirectional\n",
        "\n",
        "from math import sqrt\n",
        "from scipy.stats.stats import pearsonr, spearmanr\n",
        "from sklearn.metrics import mean_absolute_error,mean_squared_error,r2_score"
      ],
      "execution_count": 96,
      "outputs": []
    },
    {
      "cell_type": "code",
      "metadata": {
        "id": "bBHlWjU0jQsx",
        "outputId": "2010d18b-0ceb-40cc-827e-16ef0231a8ff",
        "colab": {
          "base_uri": "https://localhost:8080/",
          "height": 244
        }
      },
      "source": [
        "drive.mount(\"/content/drive\")\n",
        "df = pd.read_csv('/content/drive/My Drive/Colab Notebooks/Sentiment/features_60frames_allsongs.csv')\n",
        "df.head()\n"
      ],
      "execution_count": 97,
      "outputs": [
        {
          "output_type": "stream",
          "text": [
            "Drive already mounted at /content/drive; to attempt to forcibly remount, call drive.mount(\"/content/drive\", force_remount=True).\n"
          ],
          "name": "stdout"
        },
        {
          "output_type": "execute_result",
          "data": {
            "text/html": [
              "<div>\n",
              "<style scoped>\n",
              "    .dataframe tbody tr th:only-of-type {\n",
              "        vertical-align: middle;\n",
              "    }\n",
              "\n",
              "    .dataframe tbody tr th {\n",
              "        vertical-align: top;\n",
              "    }\n",
              "\n",
              "    .dataframe thead th {\n",
              "        text-align: right;\n",
              "    }\n",
              "</style>\n",
              "<table border=\"1\" class=\"dataframe\">\n",
              "  <thead>\n",
              "    <tr style=\"text-align: right;\">\n",
              "      <th></th>\n",
              "      <th>song_id</th>\n",
              "      <th>frame_num</th>\n",
              "      <th>zcr</th>\n",
              "      <th>rms</th>\n",
              "      <th>spectral_centroid</th>\n",
              "      <th>spectral_bandwidth</th>\n",
              "      <th>spectral_rolloff</th>\n",
              "      <th>spectral_contrast</th>\n",
              "      <th>spectral_flatness</th>\n",
              "      <th>melspectrogram</th>\n",
              "      <th>mfcc_0</th>\n",
              "      <th>mfcc_1</th>\n",
              "      <th>mfcc_2</th>\n",
              "      <th>mfcc_3</th>\n",
              "      <th>mfcc_4</th>\n",
              "      <th>mfcc_5</th>\n",
              "      <th>mfcc_6</th>\n",
              "      <th>mfcc_7</th>\n",
              "      <th>mfcc_8</th>\n",
              "      <th>mfcc_9</th>\n",
              "      <th>mfcc_10</th>\n",
              "      <th>mfcc_11</th>\n",
              "      <th>mfcc_12</th>\n",
              "      <th>mfcc_13</th>\n",
              "      <th>mfcc_14</th>\n",
              "      <th>mfcc_15</th>\n",
              "      <th>mfcc_16</th>\n",
              "      <th>mfcc_17</th>\n",
              "      <th>mfcc_18</th>\n",
              "      <th>mfcc_19</th>\n",
              "      <th>chroma_stft_0</th>\n",
              "      <th>chroma_stft_1</th>\n",
              "      <th>chroma_stft_2</th>\n",
              "      <th>chroma_stft_3</th>\n",
              "      <th>chroma_stft_4</th>\n",
              "      <th>chroma_stft_5</th>\n",
              "      <th>chroma_stft_6</th>\n",
              "      <th>chroma_stft_7</th>\n",
              "      <th>chroma_stft_8</th>\n",
              "      <th>chroma_stft_9</th>\n",
              "      <th>chroma_stft_10</th>\n",
              "      <th>chroma_stft_11</th>\n",
              "      <th>chroma_cqt_0</th>\n",
              "      <th>chroma_cqt_1</th>\n",
              "      <th>chroma_cqt_2</th>\n",
              "      <th>chroma_cqt_3</th>\n",
              "      <th>chroma_cqt_4</th>\n",
              "      <th>chroma_cqt_5</th>\n",
              "      <th>chroma_cqt_6</th>\n",
              "      <th>chroma_cqt_7</th>\n",
              "      <th>chroma_cqt_8</th>\n",
              "      <th>chroma_cqt_9</th>\n",
              "      <th>chroma_cqt_10</th>\n",
              "      <th>chroma_cqt_11</th>\n",
              "      <th>chroma_cens_0</th>\n",
              "      <th>chroma_cens_1</th>\n",
              "      <th>chroma_cens_2</th>\n",
              "      <th>chroma_cens_3</th>\n",
              "      <th>chroma_cens_4</th>\n",
              "      <th>chroma_cens_5</th>\n",
              "      <th>chroma_cens_6</th>\n",
              "      <th>chroma_cens_7</th>\n",
              "      <th>chroma_cens_8</th>\n",
              "      <th>chroma_cens_9</th>\n",
              "      <th>chroma_cens_10</th>\n",
              "      <th>chroma_cens_11</th>\n",
              "      <th>tonnetz_0</th>\n",
              "      <th>tonnetz_1</th>\n",
              "      <th>tonnetz_2</th>\n",
              "      <th>tonnetz_3</th>\n",
              "      <th>tonnetz_4</th>\n",
              "      <th>tonnetz_5</th>\n",
              "      <th>valence</th>\n",
              "      <th>arousal</th>\n",
              "    </tr>\n",
              "  </thead>\n",
              "  <tbody>\n",
              "    <tr>\n",
              "      <th>0</th>\n",
              "      <td>2</td>\n",
              "      <td>0</td>\n",
              "      <td>0.157715</td>\n",
              "      <td>0.000011</td>\n",
              "      <td>5604.262879</td>\n",
              "      <td>3246.069688</td>\n",
              "      <td>9549.975586</td>\n",
              "      <td>18.349374</td>\n",
              "      <td>0.283305</td>\n",
              "      <td>0.000000</td>\n",
              "      <td>-636.134705</td>\n",
              "      <td>0.000000</td>\n",
              "      <td>0.000000</td>\n",
              "      <td>0.000000</td>\n",
              "      <td>0.000000</td>\n",
              "      <td>0.000000</td>\n",
              "      <td>0.000000</td>\n",
              "      <td>0.000000</td>\n",
              "      <td>0.000000</td>\n",
              "      <td>0.000000</td>\n",
              "      <td>0.000000</td>\n",
              "      <td>0.000000</td>\n",
              "      <td>0.000000</td>\n",
              "      <td>0.000000</td>\n",
              "      <td>0.000000</td>\n",
              "      <td>0.000000</td>\n",
              "      <td>0.000000</td>\n",
              "      <td>0.000000</td>\n",
              "      <td>0.000000</td>\n",
              "      <td>0.000000</td>\n",
              "      <td>0.654255</td>\n",
              "      <td>0.699066</td>\n",
              "      <td>0.261531</td>\n",
              "      <td>0.874848</td>\n",
              "      <td>1.000000</td>\n",
              "      <td>0.333313</td>\n",
              "      <td>0.812421</td>\n",
              "      <td>0.488101</td>\n",
              "      <td>0.413135</td>\n",
              "      <td>0.640419</td>\n",
              "      <td>0.671442</td>\n",
              "      <td>0.490904</td>\n",
              "      <td>0.725918</td>\n",
              "      <td>0.250459</td>\n",
              "      <td>0.284098</td>\n",
              "      <td>0.647150</td>\n",
              "      <td>0.349017</td>\n",
              "      <td>0.147453</td>\n",
              "      <td>0.501239</td>\n",
              "      <td>0.074669</td>\n",
              "      <td>0.070883</td>\n",
              "      <td>0.633342</td>\n",
              "      <td>0.184297</td>\n",
              "      <td>0.136420</td>\n",
              "      <td>0.700169</td>\n",
              "      <td>0.030602</td>\n",
              "      <td>0.209675</td>\n",
              "      <td>0.828279</td>\n",
              "      <td>0.124886</td>\n",
              "      <td>0.257948</td>\n",
              "      <td>1.000000</td>\n",
              "      <td>0.071105</td>\n",
              "      <td>0.309559</td>\n",
              "      <td>0.798000</td>\n",
              "      <td>0.076693</td>\n",
              "      <td>0.276441</td>\n",
              "      <td>-0.134078</td>\n",
              "      <td>0.072852</td>\n",
              "      <td>-0.134683</td>\n",
              "      <td>0.086125</td>\n",
              "      <td>0.060471</td>\n",
              "      <td>0.042898</td>\n",
              "      <td>-0.073341</td>\n",
              "      <td>-0.109386</td>\n",
              "    </tr>\n",
              "    <tr>\n",
              "      <th>1</th>\n",
              "      <td>2</td>\n",
              "      <td>1</td>\n",
              "      <td>0.051758</td>\n",
              "      <td>0.096817</td>\n",
              "      <td>1443.667160</td>\n",
              "      <td>2057.611806</td>\n",
              "      <td>3036.181641</td>\n",
              "      <td>27.017306</td>\n",
              "      <td>0.003931</td>\n",
              "      <td>1.576688</td>\n",
              "      <td>-120.319748</td>\n",
              "      <td>129.464996</td>\n",
              "      <td>-4.253306</td>\n",
              "      <td>22.214062</td>\n",
              "      <td>8.163963</td>\n",
              "      <td>16.415987</td>\n",
              "      <td>15.152133</td>\n",
              "      <td>7.878392</td>\n",
              "      <td>-6.823561</td>\n",
              "      <td>-0.831550</td>\n",
              "      <td>-7.218902</td>\n",
              "      <td>-4.558928</td>\n",
              "      <td>-1.807601</td>\n",
              "      <td>12.948887</td>\n",
              "      <td>-9.162554</td>\n",
              "      <td>-3.758020</td>\n",
              "      <td>-5.506585</td>\n",
              "      <td>-1.227700</td>\n",
              "      <td>-4.439484</td>\n",
              "      <td>1.684063</td>\n",
              "      <td>0.528904</td>\n",
              "      <td>0.624552</td>\n",
              "      <td>0.263783</td>\n",
              "      <td>0.891966</td>\n",
              "      <td>0.850903</td>\n",
              "      <td>0.331133</td>\n",
              "      <td>1.000000</td>\n",
              "      <td>1.000000</td>\n",
              "      <td>0.408033</td>\n",
              "      <td>0.713866</td>\n",
              "      <td>0.681263</td>\n",
              "      <td>0.480444</td>\n",
              "      <td>0.245905</td>\n",
              "      <td>0.378263</td>\n",
              "      <td>0.278916</td>\n",
              "      <td>0.160639</td>\n",
              "      <td>0.397115</td>\n",
              "      <td>0.147040</td>\n",
              "      <td>0.285743</td>\n",
              "      <td>0.536704</td>\n",
              "      <td>0.072041</td>\n",
              "      <td>0.314144</td>\n",
              "      <td>0.652729</td>\n",
              "      <td>0.144099</td>\n",
              "      <td>0.269362</td>\n",
              "      <td>0.637670</td>\n",
              "      <td>0.218737</td>\n",
              "      <td>0.382769</td>\n",
              "      <td>0.677961</td>\n",
              "      <td>0.263132</td>\n",
              "      <td>0.424450</td>\n",
              "      <td>0.649488</td>\n",
              "      <td>0.317883</td>\n",
              "      <td>0.517798</td>\n",
              "      <td>0.579528</td>\n",
              "      <td>0.282752</td>\n",
              "      <td>-0.088692</td>\n",
              "      <td>0.052331</td>\n",
              "      <td>-0.112961</td>\n",
              "      <td>0.075804</td>\n",
              "      <td>0.041915</td>\n",
              "      <td>0.033029</td>\n",
              "      <td>-0.074661</td>\n",
              "      <td>-0.114942</td>\n",
              "    </tr>\n",
              "    <tr>\n",
              "      <th>2</th>\n",
              "      <td>2</td>\n",
              "      <td>2</td>\n",
              "      <td>0.101562</td>\n",
              "      <td>0.096426</td>\n",
              "      <td>2348.097128</td>\n",
              "      <td>2387.006355</td>\n",
              "      <td>4941.870117</td>\n",
              "      <td>22.434103</td>\n",
              "      <td>0.013857</td>\n",
              "      <td>0.152583</td>\n",
              "      <td>-107.915352</td>\n",
              "      <td>76.319107</td>\n",
              "      <td>-14.175928</td>\n",
              "      <td>45.124214</td>\n",
              "      <td>1.209538</td>\n",
              "      <td>7.516734</td>\n",
              "      <td>-5.023264</td>\n",
              "      <td>6.480774</td>\n",
              "      <td>-0.513962</td>\n",
              "      <td>8.108901</td>\n",
              "      <td>-0.198636</td>\n",
              "      <td>-3.022716</td>\n",
              "      <td>2.078595</td>\n",
              "      <td>4.819644</td>\n",
              "      <td>-16.200150</td>\n",
              "      <td>-3.348299</td>\n",
              "      <td>-5.746615</td>\n",
              "      <td>-9.680576</td>\n",
              "      <td>-17.688511</td>\n",
              "      <td>-5.846364</td>\n",
              "      <td>0.190785</td>\n",
              "      <td>0.290683</td>\n",
              "      <td>0.265836</td>\n",
              "      <td>0.206553</td>\n",
              "      <td>0.217986</td>\n",
              "      <td>0.329024</td>\n",
              "      <td>0.491271</td>\n",
              "      <td>0.576434</td>\n",
              "      <td>0.402986</td>\n",
              "      <td>1.000000</td>\n",
              "      <td>0.924618</td>\n",
              "      <td>0.469653</td>\n",
              "      <td>0.706139</td>\n",
              "      <td>0.605435</td>\n",
              "      <td>0.273279</td>\n",
              "      <td>0.307669</td>\n",
              "      <td>0.224213</td>\n",
              "      <td>0.146400</td>\n",
              "      <td>0.107266</td>\n",
              "      <td>0.206321</td>\n",
              "      <td>0.073380</td>\n",
              "      <td>0.222554</td>\n",
              "      <td>0.297425</td>\n",
              "      <td>0.151825</td>\n",
              "      <td>0.408395</td>\n",
              "      <td>0.409732</td>\n",
              "      <td>0.227828</td>\n",
              "      <td>0.563377</td>\n",
              "      <td>0.734764</td>\n",
              "      <td>0.268284</td>\n",
              "      <td>0.755202</td>\n",
              "      <td>1.000000</td>\n",
              "      <td>0.326054</td>\n",
              "      <td>0.528056</td>\n",
              "      <td>0.687259</td>\n",
              "      <td>0.288720</td>\n",
              "      <td>-0.034494</td>\n",
              "      <td>0.031843</td>\n",
              "      <td>-0.070020</td>\n",
              "      <td>0.068549</td>\n",
              "      <td>0.021691</td>\n",
              "      <td>0.023202</td>\n",
              "      <td>-0.074077</td>\n",
              "      <td>-0.116413</td>\n",
              "    </tr>\n",
              "    <tr>\n",
              "      <th>3</th>\n",
              "      <td>2</td>\n",
              "      <td>3</td>\n",
              "      <td>0.062500</td>\n",
              "      <td>0.086847</td>\n",
              "      <td>1692.187106</td>\n",
              "      <td>1872.280637</td>\n",
              "      <td>3219.213867</td>\n",
              "      <td>21.295763</td>\n",
              "      <td>0.004178</td>\n",
              "      <td>0.224268</td>\n",
              "      <td>-148.255432</td>\n",
              "      <td>121.565720</td>\n",
              "      <td>-36.703545</td>\n",
              "      <td>33.151939</td>\n",
              "      <td>4.518500</td>\n",
              "      <td>5.197342</td>\n",
              "      <td>-8.610166</td>\n",
              "      <td>4.267920</td>\n",
              "      <td>8.706326</td>\n",
              "      <td>-17.273952</td>\n",
              "      <td>-11.429454</td>\n",
              "      <td>4.515498</td>\n",
              "      <td>-7.324573</td>\n",
              "      <td>4.467141</td>\n",
              "      <td>-13.720921</td>\n",
              "      <td>-3.195490</td>\n",
              "      <td>-3.931114</td>\n",
              "      <td>-7.317858</td>\n",
              "      <td>-15.654930</td>\n",
              "      <td>-15.824336</td>\n",
              "      <td>0.245845</td>\n",
              "      <td>0.300974</td>\n",
              "      <td>0.267710</td>\n",
              "      <td>0.523842</td>\n",
              "      <td>0.578168</td>\n",
              "      <td>0.326966</td>\n",
              "      <td>1.000000</td>\n",
              "      <td>0.842026</td>\n",
              "      <td>0.397746</td>\n",
              "      <td>0.846539</td>\n",
              "      <td>1.000000</td>\n",
              "      <td>0.458391</td>\n",
              "      <td>0.477668</td>\n",
              "      <td>0.673670</td>\n",
              "      <td>0.267148</td>\n",
              "      <td>0.095004</td>\n",
              "      <td>0.189054</td>\n",
              "      <td>0.145584</td>\n",
              "      <td>0.031817</td>\n",
              "      <td>0.101448</td>\n",
              "      <td>0.075003</td>\n",
              "      <td>0.024125</td>\n",
              "      <td>0.114284</td>\n",
              "      <td>0.159790</td>\n",
              "      <td>0.044276</td>\n",
              "      <td>0.137589</td>\n",
              "      <td>0.237066</td>\n",
              "      <td>0.215029</td>\n",
              "      <td>0.300263</td>\n",
              "      <td>0.273559</td>\n",
              "      <td>0.177739</td>\n",
              "      <td>0.341496</td>\n",
              "      <td>0.334054</td>\n",
              "      <td>0.110806</td>\n",
              "      <td>0.207098</td>\n",
              "      <td>0.294537</td>\n",
              "      <td>-0.013095</td>\n",
              "      <td>0.020309</td>\n",
              "      <td>-0.055259</td>\n",
              "      <td>0.034349</td>\n",
              "      <td>0.011610</td>\n",
              "      <td>0.012032</td>\n",
              "      <td>-0.078154</td>\n",
              "      <td>-0.118613</td>\n",
              "    </tr>\n",
              "    <tr>\n",
              "      <th>4</th>\n",
              "      <td>2</td>\n",
              "      <td>4</td>\n",
              "      <td>0.120605</td>\n",
              "      <td>0.113167</td>\n",
              "      <td>2632.895857</td>\n",
              "      <td>2453.043616</td>\n",
              "      <td>5329.467773</td>\n",
              "      <td>18.914987</td>\n",
              "      <td>0.025196</td>\n",
              "      <td>1.035493</td>\n",
              "      <td>-71.919838</td>\n",
              "      <td>76.267471</td>\n",
              "      <td>-28.003765</td>\n",
              "      <td>15.988888</td>\n",
              "      <td>4.667567</td>\n",
              "      <td>35.548042</td>\n",
              "      <td>-6.664427</td>\n",
              "      <td>-5.128408</td>\n",
              "      <td>9.827440</td>\n",
              "      <td>-1.635414</td>\n",
              "      <td>-5.240368</td>\n",
              "      <td>-1.569069</td>\n",
              "      <td>-1.458279</td>\n",
              "      <td>7.581460</td>\n",
              "      <td>-16.175152</td>\n",
              "      <td>-6.295955</td>\n",
              "      <td>-9.435411</td>\n",
              "      <td>-3.781498</td>\n",
              "      <td>-8.782184</td>\n",
              "      <td>-7.635081</td>\n",
              "      <td>0.223808</td>\n",
              "      <td>0.355715</td>\n",
              "      <td>0.269517</td>\n",
              "      <td>0.202841</td>\n",
              "      <td>0.376315</td>\n",
              "      <td>0.324933</td>\n",
              "      <td>0.624933</td>\n",
              "      <td>0.684395</td>\n",
              "      <td>0.392219</td>\n",
              "      <td>1.000000</td>\n",
              "      <td>1.000000</td>\n",
              "      <td>0.446547</td>\n",
              "      <td>0.319092</td>\n",
              "      <td>0.448243</td>\n",
              "      <td>0.260494</td>\n",
              "      <td>0.103011</td>\n",
              "      <td>0.139945</td>\n",
              "      <td>0.144729</td>\n",
              "      <td>0.191945</td>\n",
              "      <td>0.245747</td>\n",
              "      <td>0.076884</td>\n",
              "      <td>0.266807</td>\n",
              "      <td>0.286048</td>\n",
              "      <td>0.167931</td>\n",
              "      <td>0.120557</td>\n",
              "      <td>0.326037</td>\n",
              "      <td>0.246430</td>\n",
              "      <td>0.267567</td>\n",
              "      <td>0.356422</td>\n",
              "      <td>0.278966</td>\n",
              "      <td>0.506787</td>\n",
              "      <td>0.398466</td>\n",
              "      <td>0.341865</td>\n",
              "      <td>0.328212</td>\n",
              "      <td>0.283725</td>\n",
              "      <td>0.300338</td>\n",
              "      <td>-0.001744</td>\n",
              "      <td>0.005818</td>\n",
              "      <td>-0.024928</td>\n",
              "      <td>-0.016238</td>\n",
              "      <td>0.001600</td>\n",
              "      <td>0.001166</td>\n",
              "      <td>-0.081588</td>\n",
              "      <td>-0.126457</td>\n",
              "    </tr>\n",
              "  </tbody>\n",
              "</table>\n",
              "</div>"
            ],
            "text/plain": [
              "   song_id  frame_num       zcr  ...  tonnetz_5   valence   arousal\n",
              "0        2          0  0.157715  ...   0.042898 -0.073341 -0.109386\n",
              "1        2          1  0.051758  ...   0.033029 -0.074661 -0.114942\n",
              "2        2          2  0.101562  ...   0.023202 -0.074077 -0.116413\n",
              "3        2          3  0.062500  ...   0.012032 -0.078154 -0.118613\n",
              "4        2          4  0.120605  ...   0.001166 -0.081588 -0.126457\n",
              "\n",
              "[5 rows x 74 columns]"
            ]
          },
          "metadata": {
            "tags": []
          },
          "execution_count": 97
        }
      ]
    },
    {
      "cell_type": "code",
      "metadata": {
        "id": "RZbxLv5TYf_L",
        "outputId": "50041a51-dce3-48c2-a594-389fd9b37be1",
        "colab": {
          "base_uri": "https://localhost:8080/"
        }
      },
      "source": [
        "df.shape"
      ],
      "execution_count": 98,
      "outputs": [
        {
          "output_type": "execute_result",
          "data": {
            "text/plain": [
              "(104640, 74)"
            ]
          },
          "metadata": {
            "tags": []
          },
          "execution_count": 98
        }
      ]
    },
    {
      "cell_type": "code",
      "metadata": {
        "id": "2j1vh4AKW9hf"
      },
      "source": [
        "df =df.iloc[np.random.permutation(np.arange(104640).reshape(-1,60)).ravel()]"
      ],
      "execution_count": 99,
      "outputs": []
    },
    {
      "cell_type": "code",
      "metadata": {
        "id": "6QzFAy0YXqwe"
      },
      "source": [
        "# df.to_csv('/content/drive/My Drive/Colab Notebooks/Sentiment/shuffled_data.csv',index=False)"
      ],
      "execution_count": 100,
      "outputs": []
    },
    {
      "cell_type": "code",
      "metadata": {
        "id": "Z8T9KBOOXbBI",
        "outputId": "61ad71ff-3af4-48e1-a084-b72a2b31c7a1",
        "colab": {
          "base_uri": "https://localhost:8080/"
        }
      },
      "source": [
        "df.shape"
      ],
      "execution_count": 101,
      "outputs": [
        {
          "output_type": "execute_result",
          "data": {
            "text/plain": [
              "(104640, 74)"
            ]
          },
          "metadata": {
            "tags": []
          },
          "execution_count": 101
        }
      ]
    },
    {
      "cell_type": "code",
      "metadata": {
        "id": "n-hTjsnHYYiF",
        "outputId": "c183ccc7-b186-4f87-87bd-be5d52b355dd",
        "colab": {
          "base_uri": "https://localhost:8080/"
        }
      },
      "source": [
        "df.pop('song_id')\n",
        "df.pop('frame_num')"
      ],
      "execution_count": 102,
      "outputs": [
        {
          "output_type": "execute_result",
          "data": {
            "text/plain": [
              "6000       0\n",
              "6001       1\n",
              "6002       2\n",
              "6003       3\n",
              "6004       4\n",
              "          ..\n",
              "102235    55\n",
              "102236    56\n",
              "102237    57\n",
              "102238    58\n",
              "102239    59\n",
              "Name: frame_num, Length: 104640, dtype: int64"
            ]
          },
          "metadata": {
            "tags": []
          },
          "execution_count": 102
        }
      ]
    },
    {
      "cell_type": "code",
      "metadata": {
        "id": "yrUOopsQY6kx",
        "outputId": "5ee6e521-772d-4245-eb31-88d1af88ba9c",
        "colab": {
          "base_uri": "https://localhost:8080/",
          "height": 224
        }
      },
      "source": [
        "y = df.loc[:,'valence':'arousal']\n",
        "print(y.shape)\n",
        "y.head()"
      ],
      "execution_count": 103,
      "outputs": [
        {
          "output_type": "stream",
          "text": [
            "(104640, 2)\n"
          ],
          "name": "stdout"
        },
        {
          "output_type": "execute_result",
          "data": {
            "text/html": [
              "<div>\n",
              "<style scoped>\n",
              "    .dataframe tbody tr th:only-of-type {\n",
              "        vertical-align: middle;\n",
              "    }\n",
              "\n",
              "    .dataframe tbody tr th {\n",
              "        vertical-align: top;\n",
              "    }\n",
              "\n",
              "    .dataframe thead th {\n",
              "        text-align: right;\n",
              "    }\n",
              "</style>\n",
              "<table border=\"1\" class=\"dataframe\">\n",
              "  <thead>\n",
              "    <tr style=\"text-align: right;\">\n",
              "      <th></th>\n",
              "      <th>valence</th>\n",
              "      <th>arousal</th>\n",
              "    </tr>\n",
              "  </thead>\n",
              "  <tbody>\n",
              "    <tr>\n",
              "      <th>6000</th>\n",
              "      <td>0.294602</td>\n",
              "      <td>0.012693</td>\n",
              "    </tr>\n",
              "    <tr>\n",
              "      <th>6001</th>\n",
              "      <td>0.294602</td>\n",
              "      <td>0.031680</td>\n",
              "    </tr>\n",
              "    <tr>\n",
              "      <th>6002</th>\n",
              "      <td>0.298488</td>\n",
              "      <td>0.035081</td>\n",
              "    </tr>\n",
              "    <tr>\n",
              "      <th>6003</th>\n",
              "      <td>0.306569</td>\n",
              "      <td>0.037969</td>\n",
              "    </tr>\n",
              "    <tr>\n",
              "      <th>6004</th>\n",
              "      <td>0.313229</td>\n",
              "      <td>0.039714</td>\n",
              "    </tr>\n",
              "  </tbody>\n",
              "</table>\n",
              "</div>"
            ],
            "text/plain": [
              "       valence   arousal\n",
              "6000  0.294602  0.012693\n",
              "6001  0.294602  0.031680\n",
              "6002  0.298488  0.035081\n",
              "6003  0.306569  0.037969\n",
              "6004  0.313229  0.039714"
            ]
          },
          "metadata": {
            "tags": []
          },
          "execution_count": 103
        }
      ]
    },
    {
      "cell_type": "code",
      "metadata": {
        "id": "43fIaAjPySoy",
        "outputId": "9f6104cf-f006-4d01-a9c4-787f79611dad",
        "colab": {
          "base_uri": "https://localhost:8080/"
        }
      },
      "source": [
        "df.pop('valence')\n",
        "df.pop('arousal')"
      ],
      "execution_count": 104,
      "outputs": [
        {
          "output_type": "execute_result",
          "data": {
            "text/plain": [
              "6000      0.012693\n",
              "6001      0.031680\n",
              "6002      0.035081\n",
              "6003      0.037969\n",
              "6004      0.039714\n",
              "            ...   \n",
              "102235    0.494000\n",
              "102236    0.474000\n",
              "102237    0.449000\n",
              "102238    0.420000\n",
              "102239    0.407000\n",
              "Name: arousal, Length: 104640, dtype: float64"
            ]
          },
          "metadata": {
            "tags": []
          },
          "execution_count": 104
        }
      ]
    },
    {
      "cell_type": "code",
      "metadata": {
        "id": "owPx7nW_yZwi",
        "outputId": "7cd6f862-cbb5-4e7b-bb8f-fc6c8dd591b4",
        "colab": {
          "base_uri": "https://localhost:8080/",
          "height": 226
        }
      },
      "source": [
        "df.head()\n"
      ],
      "execution_count": 105,
      "outputs": [
        {
          "output_type": "execute_result",
          "data": {
            "text/html": [
              "<div>\n",
              "<style scoped>\n",
              "    .dataframe tbody tr th:only-of-type {\n",
              "        vertical-align: middle;\n",
              "    }\n",
              "\n",
              "    .dataframe tbody tr th {\n",
              "        vertical-align: top;\n",
              "    }\n",
              "\n",
              "    .dataframe thead th {\n",
              "        text-align: right;\n",
              "    }\n",
              "</style>\n",
              "<table border=\"1\" class=\"dataframe\">\n",
              "  <thead>\n",
              "    <tr style=\"text-align: right;\">\n",
              "      <th></th>\n",
              "      <th>zcr</th>\n",
              "      <th>rms</th>\n",
              "      <th>spectral_centroid</th>\n",
              "      <th>spectral_bandwidth</th>\n",
              "      <th>spectral_rolloff</th>\n",
              "      <th>spectral_contrast</th>\n",
              "      <th>spectral_flatness</th>\n",
              "      <th>melspectrogram</th>\n",
              "      <th>mfcc_0</th>\n",
              "      <th>mfcc_1</th>\n",
              "      <th>mfcc_2</th>\n",
              "      <th>mfcc_3</th>\n",
              "      <th>mfcc_4</th>\n",
              "      <th>mfcc_5</th>\n",
              "      <th>mfcc_6</th>\n",
              "      <th>mfcc_7</th>\n",
              "      <th>mfcc_8</th>\n",
              "      <th>mfcc_9</th>\n",
              "      <th>mfcc_10</th>\n",
              "      <th>mfcc_11</th>\n",
              "      <th>mfcc_12</th>\n",
              "      <th>mfcc_13</th>\n",
              "      <th>mfcc_14</th>\n",
              "      <th>mfcc_15</th>\n",
              "      <th>mfcc_16</th>\n",
              "      <th>mfcc_17</th>\n",
              "      <th>mfcc_18</th>\n",
              "      <th>mfcc_19</th>\n",
              "      <th>chroma_stft_0</th>\n",
              "      <th>chroma_stft_1</th>\n",
              "      <th>chroma_stft_2</th>\n",
              "      <th>chroma_stft_3</th>\n",
              "      <th>chroma_stft_4</th>\n",
              "      <th>chroma_stft_5</th>\n",
              "      <th>chroma_stft_6</th>\n",
              "      <th>chroma_stft_7</th>\n",
              "      <th>chroma_stft_8</th>\n",
              "      <th>chroma_stft_9</th>\n",
              "      <th>chroma_stft_10</th>\n",
              "      <th>chroma_stft_11</th>\n",
              "      <th>chroma_cqt_0</th>\n",
              "      <th>chroma_cqt_1</th>\n",
              "      <th>chroma_cqt_2</th>\n",
              "      <th>chroma_cqt_3</th>\n",
              "      <th>chroma_cqt_4</th>\n",
              "      <th>chroma_cqt_5</th>\n",
              "      <th>chroma_cqt_6</th>\n",
              "      <th>chroma_cqt_7</th>\n",
              "      <th>chroma_cqt_8</th>\n",
              "      <th>chroma_cqt_9</th>\n",
              "      <th>chroma_cqt_10</th>\n",
              "      <th>chroma_cqt_11</th>\n",
              "      <th>chroma_cens_0</th>\n",
              "      <th>chroma_cens_1</th>\n",
              "      <th>chroma_cens_2</th>\n",
              "      <th>chroma_cens_3</th>\n",
              "      <th>chroma_cens_4</th>\n",
              "      <th>chroma_cens_5</th>\n",
              "      <th>chroma_cens_6</th>\n",
              "      <th>chroma_cens_7</th>\n",
              "      <th>chroma_cens_8</th>\n",
              "      <th>chroma_cens_9</th>\n",
              "      <th>chroma_cens_10</th>\n",
              "      <th>chroma_cens_11</th>\n",
              "      <th>tonnetz_0</th>\n",
              "      <th>tonnetz_1</th>\n",
              "      <th>tonnetz_2</th>\n",
              "      <th>tonnetz_3</th>\n",
              "      <th>tonnetz_4</th>\n",
              "      <th>tonnetz_5</th>\n",
              "    </tr>\n",
              "  </thead>\n",
              "  <tbody>\n",
              "    <tr>\n",
              "      <th>6000</th>\n",
              "      <td>0.141113</td>\n",
              "      <td>0.000010</td>\n",
              "      <td>5451.606124</td>\n",
              "      <td>3207.522551</td>\n",
              "      <td>9280.810547</td>\n",
              "      <td>17.201578</td>\n",
              "      <td>0.294784</td>\n",
              "      <td>0.000000</td>\n",
              "      <td>-561.617371</td>\n",
              "      <td>0.000000</td>\n",
              "      <td>0.000000</td>\n",
              "      <td>0.000000</td>\n",
              "      <td>0.000000</td>\n",
              "      <td>0.000000</td>\n",
              "      <td>0.000000</td>\n",
              "      <td>0.000000</td>\n",
              "      <td>0.000000</td>\n",
              "      <td>0.000000</td>\n",
              "      <td>0.000000</td>\n",
              "      <td>0.000000</td>\n",
              "      <td>0.000000</td>\n",
              "      <td>0.000000</td>\n",
              "      <td>0.000000</td>\n",
              "      <td>0.000000</td>\n",
              "      <td>0.000000</td>\n",
              "      <td>0.000000</td>\n",
              "      <td>0.000000</td>\n",
              "      <td>0.000000</td>\n",
              "      <td>0.794174</td>\n",
              "      <td>1.000000</td>\n",
              "      <td>0.304179</td>\n",
              "      <td>0.777023</td>\n",
              "      <td>0.512578</td>\n",
              "      <td>0.339244</td>\n",
              "      <td>0.894913</td>\n",
              "      <td>0.634983</td>\n",
              "      <td>0.389342</td>\n",
              "      <td>0.904084</td>\n",
              "      <td>0.347266</td>\n",
              "      <td>0.381413</td>\n",
              "      <td>1.000000</td>\n",
              "      <td>0.281876</td>\n",
              "      <td>0.313827</td>\n",
              "      <td>0.861948</td>\n",
              "      <td>0.324543</td>\n",
              "      <td>0.185899</td>\n",
              "      <td>0.707108</td>\n",
              "      <td>0.064382</td>\n",
              "      <td>0.106956</td>\n",
              "      <td>0.804820</td>\n",
              "      <td>0.392920</td>\n",
              "      <td>0.122715</td>\n",
              "      <td>0.920282</td>\n",
              "      <td>0.043195</td>\n",
              "      <td>0.115549</td>\n",
              "      <td>0.668877</td>\n",
              "      <td>0.469315</td>\n",
              "      <td>0.361519</td>\n",
              "      <td>0.778337</td>\n",
              "      <td>0.252722</td>\n",
              "      <td>0.353159</td>\n",
              "      <td>0.945763</td>\n",
              "      <td>0.304892</td>\n",
              "      <td>0.258869</td>\n",
              "      <td>0.127498</td>\n",
              "      <td>0.244201</td>\n",
              "      <td>-0.056465</td>\n",
              "      <td>0.080581</td>\n",
              "      <td>0.012394</td>\n",
              "      <td>0.054779</td>\n",
              "    </tr>\n",
              "    <tr>\n",
              "      <th>6001</th>\n",
              "      <td>0.070312</td>\n",
              "      <td>0.160624</td>\n",
              "      <td>1578.628939</td>\n",
              "      <td>1792.320573</td>\n",
              "      <td>3176.147461</td>\n",
              "      <td>23.359878</td>\n",
              "      <td>0.001231</td>\n",
              "      <td>0.068604</td>\n",
              "      <td>-127.679337</td>\n",
              "      <td>130.868637</td>\n",
              "      <td>-13.561966</td>\n",
              "      <td>37.563728</td>\n",
              "      <td>-3.118347</td>\n",
              "      <td>2.024320</td>\n",
              "      <td>-0.441411</td>\n",
              "      <td>-2.874517</td>\n",
              "      <td>-4.389047</td>\n",
              "      <td>14.443587</td>\n",
              "      <td>15.189127</td>\n",
              "      <td>12.707404</td>\n",
              "      <td>-10.949821</td>\n",
              "      <td>-3.817486</td>\n",
              "      <td>-2.781801</td>\n",
              "      <td>6.440133</td>\n",
              "      <td>-4.067625</td>\n",
              "      <td>4.070465</td>\n",
              "      <td>8.320124</td>\n",
              "      <td>-6.586600</td>\n",
              "      <td>0.056849</td>\n",
              "      <td>0.082226</td>\n",
              "      <td>0.317466</td>\n",
              "      <td>0.107098</td>\n",
              "      <td>0.063184</td>\n",
              "      <td>0.345458</td>\n",
              "      <td>0.455835</td>\n",
              "      <td>0.653647</td>\n",
              "      <td>0.371558</td>\n",
              "      <td>0.944236</td>\n",
              "      <td>1.000000</td>\n",
              "      <td>0.366754</td>\n",
              "      <td>0.336722</td>\n",
              "      <td>0.452403</td>\n",
              "      <td>0.316715</td>\n",
              "      <td>0.126117</td>\n",
              "      <td>0.069034</td>\n",
              "      <td>0.196198</td>\n",
              "      <td>0.218736</td>\n",
              "      <td>0.155410</td>\n",
              "      <td>0.112954</td>\n",
              "      <td>1.000000</td>\n",
              "      <td>0.236836</td>\n",
              "      <td>0.119453</td>\n",
              "      <td>0.244571</td>\n",
              "      <td>0.120829</td>\n",
              "      <td>0.120914</td>\n",
              "      <td>0.076822</td>\n",
              "      <td>0.143545</td>\n",
              "      <td>0.364675</td>\n",
              "      <td>0.377864</td>\n",
              "      <td>0.241040</td>\n",
              "      <td>0.351587</td>\n",
              "      <td>0.141533</td>\n",
              "      <td>0.135133</td>\n",
              "      <td>0.265066</td>\n",
              "      <td>0.034303</td>\n",
              "      <td>0.090570</td>\n",
              "      <td>-0.001988</td>\n",
              "      <td>0.014742</td>\n",
              "      <td>-0.000943</td>\n",
              "      <td>0.014890</td>\n",
              "    </tr>\n",
              "    <tr>\n",
              "      <th>6002</th>\n",
              "      <td>0.059570</td>\n",
              "      <td>0.134000</td>\n",
              "      <td>1437.271925</td>\n",
              "      <td>2143.414058</td>\n",
              "      <td>3079.248047</td>\n",
              "      <td>26.475980</td>\n",
              "      <td>0.000295</td>\n",
              "      <td>0.024787</td>\n",
              "      <td>-198.893539</td>\n",
              "      <td>121.950150</td>\n",
              "      <td>9.176940</td>\n",
              "      <td>29.434889</td>\n",
              "      <td>9.993509</td>\n",
              "      <td>17.735172</td>\n",
              "      <td>31.758251</td>\n",
              "      <td>18.087759</td>\n",
              "      <td>10.631529</td>\n",
              "      <td>-7.000125</td>\n",
              "      <td>-11.175638</td>\n",
              "      <td>-6.225150</td>\n",
              "      <td>16.539246</td>\n",
              "      <td>-6.256649</td>\n",
              "      <td>-21.957447</td>\n",
              "      <td>7.558070</td>\n",
              "      <td>-11.520791</td>\n",
              "      <td>-9.982869</td>\n",
              "      <td>10.335238</td>\n",
              "      <td>8.007994</td>\n",
              "      <td>0.448922</td>\n",
              "      <td>0.078883</td>\n",
              "      <td>0.330740</td>\n",
              "      <td>0.316128</td>\n",
              "      <td>0.092846</td>\n",
              "      <td>0.350692</td>\n",
              "      <td>0.598222</td>\n",
              "      <td>0.655061</td>\n",
              "      <td>0.353385</td>\n",
              "      <td>1.000000</td>\n",
              "      <td>1.000000</td>\n",
              "      <td>0.352001</td>\n",
              "      <td>0.635603</td>\n",
              "      <td>0.472281</td>\n",
              "      <td>0.320058</td>\n",
              "      <td>0.315811</td>\n",
              "      <td>0.038202</td>\n",
              "      <td>0.207496</td>\n",
              "      <td>0.185165</td>\n",
              "      <td>0.072753</td>\n",
              "      <td>0.119489</td>\n",
              "      <td>0.225106</td>\n",
              "      <td>0.105957</td>\n",
              "      <td>0.116371</td>\n",
              "      <td>0.049091</td>\n",
              "      <td>0.050351</td>\n",
              "      <td>0.125712</td>\n",
              "      <td>0.015765</td>\n",
              "      <td>0.053205</td>\n",
              "      <td>0.367039</td>\n",
              "      <td>0.051849</td>\n",
              "      <td>0.067186</td>\n",
              "      <td>0.348992</td>\n",
              "      <td>0.110364</td>\n",
              "      <td>0.069138</td>\n",
              "      <td>0.270578</td>\n",
              "      <td>0.006101</td>\n",
              "      <td>0.025003</td>\n",
              "      <td>0.009455</td>\n",
              "      <td>0.010212</td>\n",
              "      <td>-0.003536</td>\n",
              "      <td>0.003332</td>\n",
              "    </tr>\n",
              "    <tr>\n",
              "      <th>6003</th>\n",
              "      <td>0.086426</td>\n",
              "      <td>0.133992</td>\n",
              "      <td>1594.489503</td>\n",
              "      <td>1753.154011</td>\n",
              "      <td>3111.547852</td>\n",
              "      <td>22.812773</td>\n",
              "      <td>0.001086</td>\n",
              "      <td>0.094767</td>\n",
              "      <td>-150.320114</td>\n",
              "      <td>118.856476</td>\n",
              "      <td>-28.151754</td>\n",
              "      <td>22.274742</td>\n",
              "      <td>-18.738892</td>\n",
              "      <td>2.935785</td>\n",
              "      <td>5.585246</td>\n",
              "      <td>4.892658</td>\n",
              "      <td>9.589656</td>\n",
              "      <td>12.104349</td>\n",
              "      <td>10.895155</td>\n",
              "      <td>10.744671</td>\n",
              "      <td>7.328943</td>\n",
              "      <td>-14.161003</td>\n",
              "      <td>-16.797060</td>\n",
              "      <td>-8.592272</td>\n",
              "      <td>-5.751778</td>\n",
              "      <td>-0.773222</td>\n",
              "      <td>-1.273052</td>\n",
              "      <td>-1.955971</td>\n",
              "      <td>0.049758</td>\n",
              "      <td>0.242632</td>\n",
              "      <td>0.344157</td>\n",
              "      <td>0.020306</td>\n",
              "      <td>0.158737</td>\n",
              "      <td>0.355162</td>\n",
              "      <td>0.063541</td>\n",
              "      <td>0.595995</td>\n",
              "      <td>0.334814</td>\n",
              "      <td>0.359435</td>\n",
              "      <td>0.963544</td>\n",
              "      <td>0.337154</td>\n",
              "      <td>0.081149</td>\n",
              "      <td>0.474327</td>\n",
              "      <td>0.323609</td>\n",
              "      <td>0.017476</td>\n",
              "      <td>0.154847</td>\n",
              "      <td>0.219306</td>\n",
              "      <td>0.097684</td>\n",
              "      <td>0.411432</td>\n",
              "      <td>0.126220</td>\n",
              "      <td>1.000000</td>\n",
              "      <td>0.801530</td>\n",
              "      <td>0.113359</td>\n",
              "      <td>0.312496</td>\n",
              "      <td>0.555487</td>\n",
              "      <td>0.129841</td>\n",
              "      <td>0.046303</td>\n",
              "      <td>0.740701</td>\n",
              "      <td>0.368455</td>\n",
              "      <td>0.121028</td>\n",
              "      <td>1.000000</td>\n",
              "      <td>0.345608</td>\n",
              "      <td>0.049262</td>\n",
              "      <td>0.495642</td>\n",
              "      <td>0.275645</td>\n",
              "      <td>-0.000697</td>\n",
              "      <td>0.009782</td>\n",
              "      <td>0.007624</td>\n",
              "      <td>0.020318</td>\n",
              "      <td>-0.002627</td>\n",
              "      <td>0.003008</td>\n",
              "    </tr>\n",
              "    <tr>\n",
              "      <th>6004</th>\n",
              "      <td>0.066406</td>\n",
              "      <td>0.179081</td>\n",
              "      <td>1187.876099</td>\n",
              "      <td>1504.160814</td>\n",
              "      <td>2271.752930</td>\n",
              "      <td>25.055424</td>\n",
              "      <td>0.000435</td>\n",
              "      <td>1.428291</td>\n",
              "      <td>-140.792297</td>\n",
              "      <td>153.991302</td>\n",
              "      <td>-12.304159</td>\n",
              "      <td>35.381855</td>\n",
              "      <td>-3.984808</td>\n",
              "      <td>-4.250056</td>\n",
              "      <td>1.597709</td>\n",
              "      <td>-8.591660</td>\n",
              "      <td>10.093275</td>\n",
              "      <td>11.263559</td>\n",
              "      <td>9.918025</td>\n",
              "      <td>12.500872</td>\n",
              "      <td>21.627079</td>\n",
              "      <td>-4.515545</td>\n",
              "      <td>-20.598873</td>\n",
              "      <td>-8.221111</td>\n",
              "      <td>-8.154872</td>\n",
              "      <td>-10.602357</td>\n",
              "      <td>-10.007217</td>\n",
              "      <td>-8.833066</td>\n",
              "      <td>0.028428</td>\n",
              "      <td>0.092178</td>\n",
              "      <td>0.357759</td>\n",
              "      <td>0.174923</td>\n",
              "      <td>0.579406</td>\n",
              "      <td>0.358978</td>\n",
              "      <td>0.747368</td>\n",
              "      <td>1.000000</td>\n",
              "      <td>0.316034</td>\n",
              "      <td>0.208005</td>\n",
              "      <td>0.487870</td>\n",
              "      <td>0.322173</td>\n",
              "      <td>0.112299</td>\n",
              "      <td>0.179941</td>\n",
              "      <td>0.327110</td>\n",
              "      <td>1.000000</td>\n",
              "      <td>0.305064</td>\n",
              "      <td>0.231164</td>\n",
              "      <td>0.314643</td>\n",
              "      <td>0.183345</td>\n",
              "      <td>0.133011</td>\n",
              "      <td>0.012239</td>\n",
              "      <td>0.044711</td>\n",
              "      <td>0.110580</td>\n",
              "      <td>0.033761</td>\n",
              "      <td>0.154528</td>\n",
              "      <td>0.133365</td>\n",
              "      <td>0.111362</td>\n",
              "      <td>0.276421</td>\n",
              "      <td>0.368760</td>\n",
              "      <td>0.126061</td>\n",
              "      <td>0.224749</td>\n",
              "      <td>0.341564</td>\n",
              "      <td>0.033862</td>\n",
              "      <td>0.098320</td>\n",
              "      <td>0.280492</td>\n",
              "      <td>-0.002954</td>\n",
              "      <td>0.008065</td>\n",
              "      <td>0.005111</td>\n",
              "      <td>0.093731</td>\n",
              "      <td>0.005960</td>\n",
              "      <td>0.001803</td>\n",
              "    </tr>\n",
              "  </tbody>\n",
              "</table>\n",
              "</div>"
            ],
            "text/plain": [
              "           zcr       rms  spectral_centroid  ...  tonnetz_3  tonnetz_4  tonnetz_5\n",
              "6000  0.141113  0.000010        5451.606124  ...   0.080581   0.012394   0.054779\n",
              "6001  0.070312  0.160624        1578.628939  ...   0.014742  -0.000943   0.014890\n",
              "6002  0.059570  0.134000        1437.271925  ...   0.010212  -0.003536   0.003332\n",
              "6003  0.086426  0.133992        1594.489503  ...   0.020318  -0.002627   0.003008\n",
              "6004  0.066406  0.179081        1187.876099  ...   0.093731   0.005960   0.001803\n",
              "\n",
              "[5 rows x 70 columns]"
            ]
          },
          "metadata": {
            "tags": []
          },
          "execution_count": 105
        }
      ]
    },
    {
      "cell_type": "code",
      "metadata": {
        "id": "Vp0ZBgdrwh-6"
      },
      "source": [
        "# df_mean = df.mean()\n",
        "# df_std = df.std()\n",
        "\n",
        "# df = (df - df_mean) / df_std\n"
      ],
      "execution_count": 106,
      "outputs": []
    },
    {
      "cell_type": "code",
      "metadata": {
        "id": "UeJr9UgKcOsd"
      },
      "source": [
        "# print(type(df))"
      ],
      "execution_count": 107,
      "outputs": []
    },
    {
      "cell_type": "code",
      "metadata": {
        "id": "yNKS_ddKXPe-"
      },
      "source": [
        "features = df.to_numpy()\n",
        "y = y.to_numpy()"
      ],
      "execution_count": 108,
      "outputs": []
    },
    {
      "cell_type": "code",
      "metadata": {
        "id": "4ZFq097oYHka",
        "outputId": "6bc9d6d1-dd70-4777-c66b-21335cdb3e00",
        "colab": {
          "base_uri": "https://localhost:8080/"
        }
      },
      "source": [
        "print(features.shape)\n",
        "print(y.shape)"
      ],
      "execution_count": 109,
      "outputs": [
        {
          "output_type": "stream",
          "text": [
            "(104640, 70)\n",
            "(104640, 2)\n"
          ],
          "name": "stdout"
        }
      ]
    },
    {
      "cell_type": "code",
      "metadata": {
        "id": "vH36lfbDYHdI"
      },
      "source": [
        "features = features.reshape(1744,60,70)\n",
        "y = y.reshape(1744,60,2)"
      ],
      "execution_count": 110,
      "outputs": []
    },
    {
      "cell_type": "code",
      "metadata": {
        "id": "86W_1rgzlv1M"
      },
      "source": [
        "train_X , train_y = features[0:1220] , y[0:1220]\n",
        "test_X , test_y = features[1220:1744] , y[1220:1744]\n",
        "# val_X , val_y = features [1569:1744] , valence[0:1220]"
      ],
      "execution_count": 111,
      "outputs": []
    },
    {
      "cell_type": "code",
      "metadata": {
        "id": "n0kO1fD6mZPO",
        "outputId": "df862a50-c12e-41e9-b262-bcc7340ec009",
        "colab": {
          "base_uri": "https://localhost:8080/"
        }
      },
      "source": [
        "print(\"train_X :\" , train_X.shape , \"train_y shape:\" , train_y.shape)\n",
        "print(\"test_X :\" , test_X.shape , \"test_y shape:\" , test_y.shape)\n",
        "# print(\"val_X :\" , val_X.shape , \"val_y shape:\" , val_y.shape)\n"
      ],
      "execution_count": 112,
      "outputs": [
        {
          "output_type": "stream",
          "text": [
            "train_X : (1220, 60, 70) train_y shape: (1220, 60, 2)\n",
            "test_X : (524, 60, 70) test_y shape: (524, 60, 2)\n"
          ],
          "name": "stdout"
        }
      ]
    },
    {
      "cell_type": "code",
      "metadata": {
        "id": "xPUKoT6UZJqK"
      },
      "source": [
        "# print(features.shape)\n",
        "# for i in range(1):\n",
        "#   print(features)"
      ],
      "execution_count": 113,
      "outputs": []
    },
    {
      "cell_type": "code",
      "metadata": {
        "id": "KlPmZirqZnwO"
      },
      "source": [
        "# print(valence.shape)\n",
        "# print(valence)"
      ],
      "execution_count": 114,
      "outputs": []
    },
    {
      "cell_type": "code",
      "metadata": {
        "id": "I8_NKb8rbt7s"
      },
      "source": [
        "# print(type(features))\n",
        "# print(features.shape)"
      ],
      "execution_count": 115,
      "outputs": []
    },
    {
      "cell_type": "code",
      "metadata": {
        "id": "ihLB68_nle5M"
      },
      "source": [
        "model = Sequential()\n",
        "\n",
        "# model.add(Bidirectional(LSTM(128,return_sequences=True, input_shape=(60,70))))\n",
        "# model.add(Dropout(0.2))\n",
        "# model.add(Bidirectional(LSTM(128,return_sequences=True, input_shape=(60,70))))\n",
        "# model.add(Dropout(0.2))\n",
        "# model.add(Bidirectional(LSTM(128,return_sequences=True, input_shape=(60,70))))\n",
        "# model.add(Dropout(0.2))\n",
        "\n",
        "# model.add(Bidirectional(LSTM(128,return_sequences=True, input_shape=(60,70))))\n",
        "model.add(Bidirectional(LSTM(128,return_sequences=True, input_shape=(60,70))))\n",
        "model.add(Dropout(0.3))\n",
        "model.add(Bidirectional(LSTM(128,return_sequences=True, input_shape=(60,70))))\n",
        "model.add(Dropout(0.3))\n",
        "# model.add(Bidirectional(LSTM(64,return_sequences=True, input_shape=(60,70))))\n",
        "# model.add(Dropout(0.3))\n",
        "# model.add(Bidirectional(LSTM(32,return_sequences=True, input_shape=(60,70))))\n",
        "# model.add(Bidirectional(LSTM(16,return_sequences=True, input_shape=(60,70))))\n",
        "# model.add(Bidirectional(LSTM(8,return_sequences=True, input_shape=(60,70))))\n",
        "\n",
        "\n",
        "\n",
        "\n",
        "model.add(Dense(2))\n",
        "model.compile(loss='mse', optimizer='adam')"
      ],
      "execution_count": 116,
      "outputs": []
    },
    {
      "cell_type": "code",
      "metadata": {
        "id": "27usXwSelDL0",
        "outputId": "7b094231-52eb-4b12-8ef2-4bc930af22c8",
        "colab": {
          "base_uri": "https://localhost:8080/"
        }
      },
      "source": [
        "history = model.fit(train_X, train_y, epochs=100, validation_data=(test_X, test_y), verbose=2, shuffle=False)\n"
      ],
      "execution_count": 117,
      "outputs": [
        {
          "output_type": "stream",
          "text": [
            "Epoch 1/100\n",
            "39/39 - 2s - loss: 0.1207 - val_loss: 0.0565\n",
            "Epoch 2/100\n",
            "39/39 - 1s - loss: 0.0607 - val_loss: 0.0477\n",
            "Epoch 3/100\n",
            "39/39 - 1s - loss: 0.0546 - val_loss: 0.0455\n",
            "Epoch 4/100\n",
            "39/39 - 1s - loss: 0.0502 - val_loss: 0.0452\n",
            "Epoch 5/100\n",
            "39/39 - 1s - loss: 0.0482 - val_loss: 0.0460\n",
            "Epoch 6/100\n",
            "39/39 - 1s - loss: 0.0472 - val_loss: 0.0429\n",
            "Epoch 7/100\n",
            "39/39 - 1s - loss: 0.0454 - val_loss: 0.0432\n",
            "Epoch 8/100\n",
            "39/39 - 1s - loss: 0.0456 - val_loss: 0.0428\n",
            "Epoch 9/100\n",
            "39/39 - 1s - loss: 0.0436 - val_loss: 0.0429\n",
            "Epoch 10/100\n",
            "39/39 - 1s - loss: 0.0438 - val_loss: 0.0424\n",
            "Epoch 11/100\n",
            "39/39 - 1s - loss: 0.0432 - val_loss: 0.0417\n",
            "Epoch 12/100\n",
            "39/39 - 1s - loss: 0.0421 - val_loss: 0.0420\n",
            "Epoch 13/100\n",
            "39/39 - 1s - loss: 0.0424 - val_loss: 0.0419\n",
            "Epoch 14/100\n",
            "39/39 - 1s - loss: 0.0417 - val_loss: 0.0405\n",
            "Epoch 15/100\n",
            "39/39 - 1s - loss: 0.0409 - val_loss: 0.0404\n",
            "Epoch 16/100\n",
            "39/39 - 1s - loss: 0.0404 - val_loss: 0.0400\n",
            "Epoch 17/100\n",
            "39/39 - 1s - loss: 0.0411 - val_loss: 0.0411\n",
            "Epoch 18/100\n",
            "39/39 - 1s - loss: 0.0412 - val_loss: 0.0400\n",
            "Epoch 19/100\n",
            "39/39 - 1s - loss: 0.0396 - val_loss: 0.0390\n",
            "Epoch 20/100\n",
            "39/39 - 1s - loss: 0.0402 - val_loss: 0.0401\n",
            "Epoch 21/100\n",
            "39/39 - 1s - loss: 0.0402 - val_loss: 0.0405\n",
            "Epoch 22/100\n",
            "39/39 - 1s - loss: 0.0407 - val_loss: 0.0395\n",
            "Epoch 23/100\n",
            "39/39 - 1s - loss: 0.0397 - val_loss: 0.0392\n",
            "Epoch 24/100\n",
            "39/39 - 1s - loss: 0.0394 - val_loss: 0.0386\n",
            "Epoch 25/100\n",
            "39/39 - 1s - loss: 0.0381 - val_loss: 0.0377\n",
            "Epoch 26/100\n",
            "39/39 - 1s - loss: 0.0384 - val_loss: 0.0393\n",
            "Epoch 27/100\n",
            "39/39 - 1s - loss: 0.0382 - val_loss: 0.0397\n",
            "Epoch 28/100\n",
            "39/39 - 1s - loss: 0.0396 - val_loss: 0.0386\n",
            "Epoch 29/100\n",
            "39/39 - 1s - loss: 0.0378 - val_loss: 0.0373\n",
            "Epoch 30/100\n",
            "39/39 - 1s - loss: 0.0381 - val_loss: 0.0390\n",
            "Epoch 31/100\n",
            "39/39 - 1s - loss: 0.0376 - val_loss: 0.0386\n",
            "Epoch 32/100\n",
            "39/39 - 1s - loss: 0.0389 - val_loss: 0.0374\n",
            "Epoch 33/100\n",
            "39/39 - 1s - loss: 0.0376 - val_loss: 0.0376\n",
            "Epoch 34/100\n",
            "39/39 - 1s - loss: 0.0375 - val_loss: 0.0395\n",
            "Epoch 35/100\n",
            "39/39 - 1s - loss: 0.0382 - val_loss: 0.0377\n",
            "Epoch 36/100\n",
            "39/39 - 1s - loss: 0.0368 - val_loss: 0.0386\n",
            "Epoch 37/100\n",
            "39/39 - 1s - loss: 0.0396 - val_loss: 0.0397\n",
            "Epoch 38/100\n",
            "39/39 - 1s - loss: 0.0381 - val_loss: 0.0384\n",
            "Epoch 39/100\n",
            "39/39 - 1s - loss: 0.0397 - val_loss: 0.0374\n",
            "Epoch 40/100\n",
            "39/39 - 1s - loss: 0.0374 - val_loss: 0.0380\n",
            "Epoch 41/100\n",
            "39/39 - 1s - loss: 0.0367 - val_loss: 0.0377\n",
            "Epoch 42/100\n",
            "39/39 - 1s - loss: 0.0375 - val_loss: 0.0367\n",
            "Epoch 43/100\n",
            "39/39 - 1s - loss: 0.0373 - val_loss: 0.0379\n",
            "Epoch 44/100\n",
            "39/39 - 1s - loss: 0.0370 - val_loss: 0.0378\n",
            "Epoch 45/100\n",
            "39/39 - 1s - loss: 0.0380 - val_loss: 0.0370\n",
            "Epoch 46/100\n",
            "39/39 - 1s - loss: 0.0380 - val_loss: 0.0374\n",
            "Epoch 47/100\n",
            "39/39 - 1s - loss: 0.0362 - val_loss: 0.0376\n",
            "Epoch 48/100\n",
            "39/39 - 1s - loss: 0.0361 - val_loss: 0.0383\n",
            "Epoch 49/100\n",
            "39/39 - 1s - loss: 0.0362 - val_loss: 0.0378\n",
            "Epoch 50/100\n",
            "39/39 - 1s - loss: 0.0353 - val_loss: 0.0358\n",
            "Epoch 51/100\n",
            "39/39 - 1s - loss: 0.0360 - val_loss: 0.0369\n",
            "Epoch 52/100\n",
            "39/39 - 1s - loss: 0.0355 - val_loss: 0.0374\n",
            "Epoch 53/100\n",
            "39/39 - 1s - loss: 0.0370 - val_loss: 0.0375\n",
            "Epoch 54/100\n",
            "39/39 - 1s - loss: 0.0394 - val_loss: 0.0392\n",
            "Epoch 55/100\n",
            "39/39 - 1s - loss: 0.0371 - val_loss: 0.0371\n",
            "Epoch 56/100\n",
            "39/39 - 1s - loss: 0.0363 - val_loss: 0.0374\n",
            "Epoch 57/100\n",
            "39/39 - 1s - loss: 0.0356 - val_loss: 0.0378\n",
            "Epoch 58/100\n",
            "39/39 - 1s - loss: 0.0375 - val_loss: 0.0403\n",
            "Epoch 59/100\n",
            "39/39 - 1s - loss: 0.0378 - val_loss: 0.0380\n",
            "Epoch 60/100\n",
            "39/39 - 1s - loss: 0.0369 - val_loss: 0.0402\n",
            "Epoch 61/100\n",
            "39/39 - 1s - loss: 0.0374 - val_loss: 0.0374\n",
            "Epoch 62/100\n",
            "39/39 - 1s - loss: 0.0375 - val_loss: 0.0387\n",
            "Epoch 63/100\n",
            "39/39 - 1s - loss: 0.0369 - val_loss: 0.0405\n",
            "Epoch 64/100\n",
            "39/39 - 1s - loss: 0.0385 - val_loss: 0.0369\n",
            "Epoch 65/100\n",
            "39/39 - 1s - loss: 0.0368 - val_loss: 0.0368\n",
            "Epoch 66/100\n",
            "39/39 - 1s - loss: 0.0358 - val_loss: 0.0369\n",
            "Epoch 67/100\n",
            "39/39 - 1s - loss: 0.0366 - val_loss: 0.0387\n",
            "Epoch 68/100\n",
            "39/39 - 1s - loss: 0.0379 - val_loss: 0.0392\n",
            "Epoch 69/100\n",
            "39/39 - 1s - loss: 0.0369 - val_loss: 0.0395\n",
            "Epoch 70/100\n",
            "39/39 - 1s - loss: 0.0372 - val_loss: 0.0387\n",
            "Epoch 71/100\n",
            "39/39 - 1s - loss: 0.0357 - val_loss: 0.0372\n",
            "Epoch 72/100\n",
            "39/39 - 1s - loss: 0.0372 - val_loss: 0.0395\n",
            "Epoch 73/100\n",
            "39/39 - 1s - loss: 0.0361 - val_loss: 0.0375\n",
            "Epoch 74/100\n",
            "39/39 - 1s - loss: 0.0367 - val_loss: 0.0381\n",
            "Epoch 75/100\n",
            "39/39 - 1s - loss: 0.0361 - val_loss: 0.0384\n",
            "Epoch 76/100\n",
            "39/39 - 1s - loss: 0.0366 - val_loss: 0.0363\n",
            "Epoch 77/100\n",
            "39/39 - 1s - loss: 0.0361 - val_loss: 0.0372\n",
            "Epoch 78/100\n",
            "39/39 - 1s - loss: 0.0348 - val_loss: 0.0371\n",
            "Epoch 79/100\n",
            "39/39 - 1s - loss: 0.0356 - val_loss: 0.0362\n",
            "Epoch 80/100\n",
            "39/39 - 1s - loss: 0.0351 - val_loss: 0.0364\n",
            "Epoch 81/100\n",
            "39/39 - 1s - loss: 0.0364 - val_loss: 0.0397\n",
            "Epoch 82/100\n",
            "39/39 - 1s - loss: 0.0382 - val_loss: 0.0371\n",
            "Epoch 83/100\n",
            "39/39 - 1s - loss: 0.0355 - val_loss: 0.0386\n",
            "Epoch 84/100\n",
            "39/39 - 1s - loss: 0.0361 - val_loss: 0.0384\n",
            "Epoch 85/100\n",
            "39/39 - 1s - loss: 0.0355 - val_loss: 0.0396\n",
            "Epoch 86/100\n",
            "39/39 - 1s - loss: 0.0359 - val_loss: 0.0373\n",
            "Epoch 87/100\n",
            "39/39 - 1s - loss: 0.0349 - val_loss: 0.0367\n",
            "Epoch 88/100\n",
            "39/39 - 1s - loss: 0.0351 - val_loss: 0.0374\n",
            "Epoch 89/100\n",
            "39/39 - 1s - loss: 0.0348 - val_loss: 0.0381\n",
            "Epoch 90/100\n",
            "39/39 - 1s - loss: 0.0353 - val_loss: 0.0369\n",
            "Epoch 91/100\n",
            "39/39 - 1s - loss: 0.0347 - val_loss: 0.0400\n",
            "Epoch 92/100\n",
            "39/39 - 1s - loss: 0.0353 - val_loss: 0.0397\n",
            "Epoch 93/100\n",
            "39/39 - 1s - loss: 0.0368 - val_loss: 0.0389\n",
            "Epoch 94/100\n",
            "39/39 - 1s - loss: 0.0377 - val_loss: 0.0400\n",
            "Epoch 95/100\n",
            "39/39 - 1s - loss: 0.0394 - val_loss: 0.0404\n",
            "Epoch 96/100\n",
            "39/39 - 1s - loss: 0.0391 - val_loss: 0.0415\n",
            "Epoch 97/100\n",
            "39/39 - 1s - loss: 0.0379 - val_loss: 0.0400\n",
            "Epoch 98/100\n",
            "39/39 - 1s - loss: 0.0374 - val_loss: 0.0392\n",
            "Epoch 99/100\n",
            "39/39 - 1s - loss: 0.0365 - val_loss: 0.0391\n",
            "Epoch 100/100\n",
            "39/39 - 1s - loss: 0.0365 - val_loss: 0.0379\n"
          ],
          "name": "stdout"
        }
      ]
    },
    {
      "cell_type": "code",
      "metadata": {
        "id": "_ACHp8c0YFOP",
        "outputId": "4f007b3f-4aea-4314-b683-867bf7580234",
        "colab": {
          "base_uri": "https://localhost:8080/",
          "height": 282
        }
      },
      "source": [
        "plt.plot(history.history['loss'], label='train')\n",
        "plt.plot(history.history['val_loss'], label='test')\n",
        "plt.legend()\n",
        "plt.show()\n",
        "plt.savefig(\"training loss 350epochs_5layers\")"
      ],
      "execution_count": 118,
      "outputs": [
        {
          "output_type": "display_data",
          "data": {
            "image/png": "[encoded data removed]",
            "text/plain": [
              "<Figure size 432x288 with 1 Axes>"
            ]
          },
          "metadata": {
            "tags": [],
            "needs_background": "light"
          }
        },
        {
          "output_type": "display_data",
          "data": {
            "text/plain": [
              "<Figure size 432x288 with 0 Axes>"
            ]
          },
          "metadata": {
            "tags": []
          }
        }
      ]
    },
    {
      "cell_type": "code",
      "metadata": {
        "id": "SwKISLlZXV2d",
        "outputId": "75abcbcb-4f2b-4b70-9213-0073e6345ee6",
        "colab": {
          "base_uri": "https://localhost:8080/"
        }
      },
      "source": [
        "history.history\n",
        "print('overall loss' , np.mean(history.history['loss']))\n",
        "print('overall val_loss' , np.mean(history.history['val_loss']))"
      ],
      "execution_count": 119,
      "outputs": [
        {
          "output_type": "stream",
          "text": [
            "overall loss 0.039418045878410336\n",
            "overall val_loss 0.03923206508159637\n"
          ],
          "name": "stdout"
        }
      ]
    },
    {
      "cell_type": "code",
      "metadata": {
        "id": "Pw8CtS1BlHPk"
      },
      "source": [
        "predicted_y = model.predict(test_X)\n"
      ],
      "execution_count": 120,
      "outputs": []
    },
    {
      "cell_type": "code",
      "metadata": {
        "id": "4s5LCQCHzgjS",
        "outputId": "42b51427-cfbe-4a3b-b930-0c0812aa31f9",
        "colab": {
          "base_uri": "https://localhost:8080/"
        }
      },
      "source": [
        "print(predicted_y.shape)\n",
        "print(test_y.shape)"
      ],
      "execution_count": 121,
      "outputs": [
        {
          "output_type": "stream",
          "text": [
            "(524, 60, 2)\n",
            "(524, 60, 2)\n"
          ],
          "name": "stdout"
        }
      ]
    },
    {
      "cell_type": "code",
      "metadata": {
        "id": "tQZgAGhuBAGj"
      },
      "source": [
        "predicted_valence = predicted_y[:,:,0]\n",
        "predicted_arousal = predicted_y[:,:,1]\n",
        "test_valence = test_y[:,:,0]\n",
        "test_arousal = test_y[:,:,1]"
      ],
      "execution_count": 122,
      "outputs": []
    },
    {
      "cell_type": "code",
      "metadata": {
        "id": "Bx3FtbF1CC-q"
      },
      "source": [
        "# for i in range(1):\n",
        "  # print(predicted_valence[i])\n",
        "  # print(predicted_arousal[i])\n",
        "  # print(test_valence[i])\n",
        "  # print(test_arousal[i])"
      ],
      "execution_count": 123,
      "outputs": []
    },
    {
      "cell_type": "code",
      "metadata": {
        "id": "vAZfp3jyV0_f"
      },
      "source": [
        "predicted_valence = predicted_valence.reshape(31440,)\n",
        "test_valence = test_valence.reshape(31440,)\n",
        "predicted_arousal = predicted_arousal.reshape(31440,)\n",
        "test_arousal = test_arousal.reshape(31440,)"
      ],
      "execution_count": 124,
      "outputs": []
    },
    {
      "cell_type": "code",
      "metadata": {
        "id": "-cQpvl4DYkwQ"
      },
      "source": [
        "def metrics(y_true,y_pred,name):\n",
        "  print(name,\"\")\n",
        "  mae = mean_absolute_error(y_true,y_pred)\n",
        "  rmse = sqrt(mean_squared_error(y_true,y_pred))\n",
        "  r2 = r2_score(y_true,y_pred)\n",
        "  pearson_corr = pearsonr(y_true,y_pred)\n",
        "  spearman_corr = spearmanr(y_true,y_pred)\n",
        "  \n",
        "  print('RMSE : ',rmse)\n",
        "  print('Pearson : ',pearson_corr)\n",
        "  print('MAE : ',mae)\n",
        "  print('R2 : ',r2)\n",
        "  print('Spearman : ',spearman_corr,'\\n')\n"
      ],
      "execution_count": 125,
      "outputs": []
    },
    {
      "cell_type": "code",
      "metadata": {
        "id": "wI22IyyxfafF"
      },
      "source": [
        "def graph_results(x,y,title, xlim=-1, ylim=-1):\n",
        "  #x and y are variables ( y_pred vs y_true )\n",
        "  #Important\n",
        "  plt.scatter(x,y,s=15)\n",
        "\n",
        "  # if xlim != -1: plt.xlim([0, xlim])\n",
        "  # if ylim != -1: plt.ylim([0, ylim])\n",
        "  # plt.gca().set_ylim([1.5,7.5])\n",
        "  # plt.gca().set_xlim([1.5,9])\n",
        "  #Fix \n",
        "  plt.xlabel(\"Actual\")\n",
        "  plt.ylabel(\"Predicted\")\n",
        "  plt.title((title))\n",
        "  # m, b = np.polyfit(x, y, 1)\n",
        "  # plt.plot(x, m*x + b, color='red')  \n",
        "  plt.savefig(title)\n",
        "\n",
        "  plt.show()"
      ],
      "execution_count": 126,
      "outputs": []
    },
    {
      "cell_type": "code",
      "metadata": {
        "id": "zbJaq7WqaLB9",
        "outputId": "d1200b69-2f92-4e8c-9930-38ba37a81d3b",
        "colab": {
          "base_uri": "https://localhost:8080/",
          "height": 417
        }
      },
      "source": [
        "metrics(test_valence,predicted_valence,'valence')\n",
        "graph_results(test_valence,predicted_valence,'valence actual vs prediction')\n"
      ],
      "execution_count": 127,
      "outputs": [
        {
          "output_type": "stream",
          "text": [
            "valence \n",
            "RMSE :  0.20389463126297605\n",
            "Pearson :  (0.5023936314659895, 0.0)\n",
            "MAE :  0.16477665335836292\n",
            "R2 :  0.24671395888305292\n",
            "Spearman :  SpearmanrResult(correlation=0.5009811703701559, pvalue=0.0) \n",
            "\n"
          ],
          "name": "stdout"
        },
        {
          "output_type": "display_data",
          "data": {
            "image/png": "[encoded data removed]",
            "text/plain": [
              "<Figure size 432x288 with 1 Axes>"
            ]
          },
          "metadata": {
            "tags": [],
            "needs_background": "light"
          }
        }
      ]
    },
    {
      "cell_type": "code",
      "metadata": {
        "id": "ZaFzNqaBC-9q",
        "outputId": "0ed781b5-6572-47bb-b874-432eb0d826cd",
        "colab": {
          "base_uri": "https://localhost:8080/",
          "height": 417
        }
      },
      "source": [
        "metrics(test_arousal,predicted_arousal,'arousal')\n",
        "graph_results(test_arousal,predicted_arousal,'arousal actual vs prediction')"
      ],
      "execution_count": 128,
      "outputs": [
        {
          "output_type": "stream",
          "text": [
            "arousal \n",
            "RMSE :  0.18514979306853396\n",
            "Pearson :  (0.7798058612635339, 0.0)\n",
            "MAE :  0.1510438101515187\n",
            "R2 :  0.5999385568227855\n",
            "Spearman :  SpearmanrResult(correlation=0.7806283499263154, pvalue=0.0) \n",
            "\n"
          ],
          "name": "stdout"
        },
        {
          "output_type": "display_data",
          "data": {
            "image/png": "[encoded data removed]",
            "text/plain": [
              "<Figure size 432x288 with 1 Axes>"
            ]
          },
          "metadata": {
            "tags": [],
            "needs_background": "light"
          }
        }
      ]
    },
    {
      "cell_type": "code",
      "metadata": {
        "id": "pcQaHYbFSziG"
      },
      "source": [
        ""
      ],
      "execution_count": 128,
      "outputs": []
    }
  ]
}