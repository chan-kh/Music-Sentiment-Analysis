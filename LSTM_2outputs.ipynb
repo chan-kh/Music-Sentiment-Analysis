{
  "nbformat": 4,
  "nbformat_minor": 0,
  "metadata": {
    "accelerator": "GPU",
    "colab": {
      "name": "LSTM_2outputs.ipynb",
      "provenance": [],
      "collapsed_sections": [],
      "include_colab_link": true
    },
    "kernelspec": {
      "display_name": "Python 3",
      "language": "python",
      "name": "python3"
    },
    "language_info": {
      "codemirror_mode": {
        "name": "ipython",
        "version": 3
      },
      "file_extension": ".py",
      "mimetype": "text/x-python",
      "name": "python",
      "nbconvert_exporter": "python",
      "pygments_lexer": "ipython3",
      "version": "3.7.6"
    }
  },
  "cells": [
    {
      "cell_type": "markdown",
      "metadata": {
        "id": "view-in-github",
        "colab_type": "text"
      },
      "source": [
        "<a href=\"https://colab.research.google.com/github/chan-kh/Music-Sentiment-Analysis/blob/main/LSTM_2outputs.ipynb\" target=\"_parent\"><img src=\"https://colab.research.google.com/assets/colab-badge.svg\" alt=\"Open In Colab\"/></a>"
      ]
    },
    {
      "cell_type": "code",
      "metadata": {
        "id": "vbaXYegNi0Id"
      },
      "source": [
        "import os\n",
        "import datetime\n",
        "from google.colab import drive\n",
        "\n",
        "import IPython\n",
        "import IPython.display\n",
        "import matplotlib as mpl\n",
        "import matplotlib.pyplot as plt\n",
        "import numpy as np\n",
        "import pandas as pd\n",
        "import tensorflow as tf\n",
        "import tensorflow_datasets as tfds\n",
        "from sklearn.preprocessing import MinMaxScaler\n",
        "\n",
        "from numpy import loadtxt\n",
        "from keras.models import Sequential\n",
        "from keras.layers import LSTM\n",
        "from keras.layers import Dense\n",
        "from keras.layers import Dropout\n",
        "\n",
        "from keras import layers\n",
        "from keras.optimizers import RMSprop\n",
        "from keras.layers import Bidirectional\n",
        "\n",
        "from math import sqrt\n",
        "from scipy.stats.stats import pearsonr, spearmanr\n",
        "from sklearn.metrics import mean_absolute_error,mean_squared_error,r2_score"
      ],
      "execution_count": 67,
      "outputs": []
    },
    {
      "cell_type": "code",
      "metadata": {
        "id": "bBHlWjU0jQsx",
        "outputId": "15365e9c-775c-4985-d2b7-063a76955bba",
        "colab": {
          "base_uri": "https://localhost:8080/",
          "height": 244
        }
      },
      "source": [
        "drive.mount(\"/content/drive\")\n",
        "df = pd.read_csv('/content/drive/My Drive/Colab Notebooks/Sentiment/features_60frames_allsongs.csv')\n",
        "df.head()\n"
      ],
      "execution_count": 68,
      "outputs": [
        {
          "output_type": "stream",
          "text": [
            "Drive already mounted at /content/drive; to attempt to forcibly remount, call drive.mount(\"/content/drive\", force_remount=True).\n"
          ],
          "name": "stdout"
        },
        {
          "output_type": "execute_result",
          "data": {
            "text/html": [
              "<div>\n",
              "<style scoped>\n",
              "    .dataframe tbody tr th:only-of-type {\n",
              "        vertical-align: middle;\n",
              "    }\n",
              "\n",
              "    .dataframe tbody tr th {\n",
              "        vertical-align: top;\n",
              "    }\n",
              "\n",
              "    .dataframe thead th {\n",
              "        text-align: right;\n",
              "    }\n",
              "</style>\n",
              "<table border=\"1\" class=\"dataframe\">\n",
              "  <thead>\n",
              "    <tr style=\"text-align: right;\">\n",
              "      <th></th>\n",
              "      <th>song_id</th>\n",
              "      <th>frame_num</th>\n",
              "      <th>zcr</th>\n",
              "      <th>rms</th>\n",
              "      <th>spectral_centroid</th>\n",
              "      <th>spectral_bandwidth</th>\n",
              "      <th>spectral_rolloff</th>\n",
              "      <th>spectral_contrast</th>\n",
              "      <th>spectral_flatness</th>\n",
              "      <th>melspectrogram</th>\n",
              "      <th>mfcc_0</th>\n",
              "      <th>mfcc_1</th>\n",
              "      <th>mfcc_2</th>\n",
              "      <th>mfcc_3</th>\n",
              "      <th>mfcc_4</th>\n",
              "      <th>mfcc_5</th>\n",
              "      <th>mfcc_6</th>\n",
              "      <th>mfcc_7</th>\n",
              "      <th>mfcc_8</th>\n",
              "      <th>mfcc_9</th>\n",
              "      <th>mfcc_10</th>\n",
              "      <th>mfcc_11</th>\n",
              "      <th>mfcc_12</th>\n",
              "      <th>mfcc_13</th>\n",
              "      <th>mfcc_14</th>\n",
              "      <th>mfcc_15</th>\n",
              "      <th>mfcc_16</th>\n",
              "      <th>mfcc_17</th>\n",
              "      <th>mfcc_18</th>\n",
              "      <th>mfcc_19</th>\n",
              "      <th>chroma_stft_0</th>\n",
              "      <th>chroma_stft_1</th>\n",
              "      <th>chroma_stft_2</th>\n",
              "      <th>chroma_stft_3</th>\n",
              "      <th>chroma_stft_4</th>\n",
              "      <th>chroma_stft_5</th>\n",
              "      <th>chroma_stft_6</th>\n",
              "      <th>chroma_stft_7</th>\n",
              "      <th>chroma_stft_8</th>\n",
              "      <th>chroma_stft_9</th>\n",
              "      <th>chroma_stft_10</th>\n",
              "      <th>chroma_stft_11</th>\n",
              "      <th>chroma_cqt_0</th>\n",
              "      <th>chroma_cqt_1</th>\n",
              "      <th>chroma_cqt_2</th>\n",
              "      <th>chroma_cqt_3</th>\n",
              "      <th>chroma_cqt_4</th>\n",
              "      <th>chroma_cqt_5</th>\n",
              "      <th>chroma_cqt_6</th>\n",
              "      <th>chroma_cqt_7</th>\n",
              "      <th>chroma_cqt_8</th>\n",
              "      <th>chroma_cqt_9</th>\n",
              "      <th>chroma_cqt_10</th>\n",
              "      <th>chroma_cqt_11</th>\n",
              "      <th>chroma_cens_0</th>\n",
              "      <th>chroma_cens_1</th>\n",
              "      <th>chroma_cens_2</th>\n",
              "      <th>chroma_cens_3</th>\n",
              "      <th>chroma_cens_4</th>\n",
              "      <th>chroma_cens_5</th>\n",
              "      <th>chroma_cens_6</th>\n",
              "      <th>chroma_cens_7</th>\n",
              "      <th>chroma_cens_8</th>\n",
              "      <th>chroma_cens_9</th>\n",
              "      <th>chroma_cens_10</th>\n",
              "      <th>chroma_cens_11</th>\n",
              "      <th>tonnetz_0</th>\n",
              "      <th>tonnetz_1</th>\n",
              "      <th>tonnetz_2</th>\n",
              "      <th>tonnetz_3</th>\n",
              "      <th>tonnetz_4</th>\n",
              "      <th>tonnetz_5</th>\n",
              "      <th>valence</th>\n",
              "      <th>arousal</th>\n",
              "    </tr>\n",
              "  </thead>\n",
              "  <tbody>\n",
              "    <tr>\n",
              "      <th>0</th>\n",
              "      <td>2</td>\n",
              "      <td>0</td>\n",
              "      <td>0.157715</td>\n",
              "      <td>0.000011</td>\n",
              "      <td>5604.262879</td>\n",
              "      <td>3246.069688</td>\n",
              "      <td>9549.975586</td>\n",
              "      <td>18.349374</td>\n",
              "      <td>0.283305</td>\n",
              "      <td>0.000000</td>\n",
              "      <td>-636.134705</td>\n",
              "      <td>0.000000</td>\n",
              "      <td>0.000000</td>\n",
              "      <td>0.000000</td>\n",
              "      <td>0.000000</td>\n",
              "      <td>0.000000</td>\n",
              "      <td>0.000000</td>\n",
              "      <td>0.000000</td>\n",
              "      <td>0.000000</td>\n",
              "      <td>0.000000</td>\n",
              "      <td>0.000000</td>\n",
              "      <td>0.000000</td>\n",
              "      <td>0.000000</td>\n",
              "      <td>0.000000</td>\n",
              "      <td>0.000000</td>\n",
              "      <td>0.000000</td>\n",
              "      <td>0.000000</td>\n",
              "      <td>0.000000</td>\n",
              "      <td>0.000000</td>\n",
              "      <td>0.000000</td>\n",
              "      <td>0.654255</td>\n",
              "      <td>0.699066</td>\n",
              "      <td>0.261531</td>\n",
              "      <td>0.874848</td>\n",
              "      <td>1.000000</td>\n",
              "      <td>0.333313</td>\n",
              "      <td>0.812421</td>\n",
              "      <td>0.488101</td>\n",
              "      <td>0.413135</td>\n",
              "      <td>0.640419</td>\n",
              "      <td>0.671442</td>\n",
              "      <td>0.490904</td>\n",
              "      <td>0.725918</td>\n",
              "      <td>0.250459</td>\n",
              "      <td>0.284098</td>\n",
              "      <td>0.647150</td>\n",
              "      <td>0.349017</td>\n",
              "      <td>0.147453</td>\n",
              "      <td>0.501239</td>\n",
              "      <td>0.074669</td>\n",
              "      <td>0.070883</td>\n",
              "      <td>0.633342</td>\n",
              "      <td>0.184297</td>\n",
              "      <td>0.136420</td>\n",
              "      <td>0.700169</td>\n",
              "      <td>0.030602</td>\n",
              "      <td>0.209675</td>\n",
              "      <td>0.828279</td>\n",
              "      <td>0.124886</td>\n",
              "      <td>0.257948</td>\n",
              "      <td>1.000000</td>\n",
              "      <td>0.071105</td>\n",
              "      <td>0.309559</td>\n",
              "      <td>0.798000</td>\n",
              "      <td>0.076693</td>\n",
              "      <td>0.276441</td>\n",
              "      <td>-0.134078</td>\n",
              "      <td>0.072852</td>\n",
              "      <td>-0.134683</td>\n",
              "      <td>0.086125</td>\n",
              "      <td>0.060471</td>\n",
              "      <td>0.042898</td>\n",
              "      <td>-0.073341</td>\n",
              "      <td>-0.109386</td>\n",
              "    </tr>\n",
              "    <tr>\n",
              "      <th>1</th>\n",
              "      <td>2</td>\n",
              "      <td>1</td>\n",
              "      <td>0.051758</td>\n",
              "      <td>0.096817</td>\n",
              "      <td>1443.667160</td>\n",
              "      <td>2057.611806</td>\n",
              "      <td>3036.181641</td>\n",
              "      <td>27.017306</td>\n",
              "      <td>0.003931</td>\n",
              "      <td>1.576688</td>\n",
              "      <td>-120.319748</td>\n",
              "      <td>129.464996</td>\n",
              "      <td>-4.253306</td>\n",
              "      <td>22.214062</td>\n",
              "      <td>8.163963</td>\n",
              "      <td>16.415987</td>\n",
              "      <td>15.152133</td>\n",
              "      <td>7.878392</td>\n",
              "      <td>-6.823561</td>\n",
              "      <td>-0.831550</td>\n",
              "      <td>-7.218902</td>\n",
              "      <td>-4.558928</td>\n",
              "      <td>-1.807601</td>\n",
              "      <td>12.948887</td>\n",
              "      <td>-9.162554</td>\n",
              "      <td>-3.758020</td>\n",
              "      <td>-5.506585</td>\n",
              "      <td>-1.227700</td>\n",
              "      <td>-4.439484</td>\n",
              "      <td>1.684063</td>\n",
              "      <td>0.528904</td>\n",
              "      <td>0.624552</td>\n",
              "      <td>0.263783</td>\n",
              "      <td>0.891966</td>\n",
              "      <td>0.850903</td>\n",
              "      <td>0.331133</td>\n",
              "      <td>1.000000</td>\n",
              "      <td>1.000000</td>\n",
              "      <td>0.408033</td>\n",
              "      <td>0.713866</td>\n",
              "      <td>0.681263</td>\n",
              "      <td>0.480444</td>\n",
              "      <td>0.245905</td>\n",
              "      <td>0.378263</td>\n",
              "      <td>0.278916</td>\n",
              "      <td>0.160639</td>\n",
              "      <td>0.397115</td>\n",
              "      <td>0.147040</td>\n",
              "      <td>0.285743</td>\n",
              "      <td>0.536704</td>\n",
              "      <td>0.072041</td>\n",
              "      <td>0.314144</td>\n",
              "      <td>0.652729</td>\n",
              "      <td>0.144099</td>\n",
              "      <td>0.269362</td>\n",
              "      <td>0.637670</td>\n",
              "      <td>0.218737</td>\n",
              "      <td>0.382769</td>\n",
              "      <td>0.677961</td>\n",
              "      <td>0.263132</td>\n",
              "      <td>0.424450</td>\n",
              "      <td>0.649488</td>\n",
              "      <td>0.317883</td>\n",
              "      <td>0.517798</td>\n",
              "      <td>0.579528</td>\n",
              "      <td>0.282752</td>\n",
              "      <td>-0.088692</td>\n",
              "      <td>0.052331</td>\n",
              "      <td>-0.112961</td>\n",
              "      <td>0.075804</td>\n",
              "      <td>0.041915</td>\n",
              "      <td>0.033029</td>\n",
              "      <td>-0.074661</td>\n",
              "      <td>-0.114942</td>\n",
              "    </tr>\n",
              "    <tr>\n",
              "      <th>2</th>\n",
              "      <td>2</td>\n",
              "      <td>2</td>\n",
              "      <td>0.101562</td>\n",
              "      <td>0.096426</td>\n",
              "      <td>2348.097128</td>\n",
              "      <td>2387.006355</td>\n",
              "      <td>4941.870117</td>\n",
              "      <td>22.434103</td>\n",
              "      <td>0.013857</td>\n",
              "      <td>0.152583</td>\n",
              "      <td>-107.915352</td>\n",
              "      <td>76.319107</td>\n",
              "      <td>-14.175928</td>\n",
              "      <td>45.124214</td>\n",
              "      <td>1.209538</td>\n",
              "      <td>7.516734</td>\n",
              "      <td>-5.023264</td>\n",
              "      <td>6.480774</td>\n",
              "      <td>-0.513962</td>\n",
              "      <td>8.108901</td>\n",
              "      <td>-0.198636</td>\n",
              "      <td>-3.022716</td>\n",
              "      <td>2.078595</td>\n",
              "      <td>4.819644</td>\n",
              "      <td>-16.200150</td>\n",
              "      <td>-3.348299</td>\n",
              "      <td>-5.746615</td>\n",
              "      <td>-9.680576</td>\n",
              "      <td>-17.688511</td>\n",
              "      <td>-5.846364</td>\n",
              "      <td>0.190785</td>\n",
              "      <td>0.290683</td>\n",
              "      <td>0.265836</td>\n",
              "      <td>0.206553</td>\n",
              "      <td>0.217986</td>\n",
              "      <td>0.329024</td>\n",
              "      <td>0.491271</td>\n",
              "      <td>0.576434</td>\n",
              "      <td>0.402986</td>\n",
              "      <td>1.000000</td>\n",
              "      <td>0.924618</td>\n",
              "      <td>0.469653</td>\n",
              "      <td>0.706139</td>\n",
              "      <td>0.605435</td>\n",
              "      <td>0.273279</td>\n",
              "      <td>0.307669</td>\n",
              "      <td>0.224213</td>\n",
              "      <td>0.146400</td>\n",
              "      <td>0.107266</td>\n",
              "      <td>0.206321</td>\n",
              "      <td>0.073380</td>\n",
              "      <td>0.222554</td>\n",
              "      <td>0.297425</td>\n",
              "      <td>0.151825</td>\n",
              "      <td>0.408395</td>\n",
              "      <td>0.409732</td>\n",
              "      <td>0.227828</td>\n",
              "      <td>0.563377</td>\n",
              "      <td>0.734764</td>\n",
              "      <td>0.268284</td>\n",
              "      <td>0.755202</td>\n",
              "      <td>1.000000</td>\n",
              "      <td>0.326054</td>\n",
              "      <td>0.528056</td>\n",
              "      <td>0.687259</td>\n",
              "      <td>0.288720</td>\n",
              "      <td>-0.034494</td>\n",
              "      <td>0.031843</td>\n",
              "      <td>-0.070020</td>\n",
              "      <td>0.068549</td>\n",
              "      <td>0.021691</td>\n",
              "      <td>0.023202</td>\n",
              "      <td>-0.074077</td>\n",
              "      <td>-0.116413</td>\n",
              "    </tr>\n",
              "    <tr>\n",
              "      <th>3</th>\n",
              "      <td>2</td>\n",
              "      <td>3</td>\n",
              "      <td>0.062500</td>\n",
              "      <td>0.086847</td>\n",
              "      <td>1692.187106</td>\n",
              "      <td>1872.280637</td>\n",
              "      <td>3219.213867</td>\n",
              "      <td>21.295763</td>\n",
              "      <td>0.004178</td>\n",
              "      <td>0.224268</td>\n",
              "      <td>-148.255432</td>\n",
              "      <td>121.565720</td>\n",
              "      <td>-36.703545</td>\n",
              "      <td>33.151939</td>\n",
              "      <td>4.518500</td>\n",
              "      <td>5.197342</td>\n",
              "      <td>-8.610166</td>\n",
              "      <td>4.267920</td>\n",
              "      <td>8.706326</td>\n",
              "      <td>-17.273952</td>\n",
              "      <td>-11.429454</td>\n",
              "      <td>4.515498</td>\n",
              "      <td>-7.324573</td>\n",
              "      <td>4.467141</td>\n",
              "      <td>-13.720921</td>\n",
              "      <td>-3.195490</td>\n",
              "      <td>-3.931114</td>\n",
              "      <td>-7.317858</td>\n",
              "      <td>-15.654930</td>\n",
              "      <td>-15.824336</td>\n",
              "      <td>0.245845</td>\n",
              "      <td>0.300974</td>\n",
              "      <td>0.267710</td>\n",
              "      <td>0.523842</td>\n",
              "      <td>0.578168</td>\n",
              "      <td>0.326966</td>\n",
              "      <td>1.000000</td>\n",
              "      <td>0.842026</td>\n",
              "      <td>0.397746</td>\n",
              "      <td>0.846539</td>\n",
              "      <td>1.000000</td>\n",
              "      <td>0.458391</td>\n",
              "      <td>0.477668</td>\n",
              "      <td>0.673670</td>\n",
              "      <td>0.267148</td>\n",
              "      <td>0.095004</td>\n",
              "      <td>0.189054</td>\n",
              "      <td>0.145584</td>\n",
              "      <td>0.031817</td>\n",
              "      <td>0.101448</td>\n",
              "      <td>0.075003</td>\n",
              "      <td>0.024125</td>\n",
              "      <td>0.114284</td>\n",
              "      <td>0.159790</td>\n",
              "      <td>0.044276</td>\n",
              "      <td>0.137589</td>\n",
              "      <td>0.237066</td>\n",
              "      <td>0.215029</td>\n",
              "      <td>0.300263</td>\n",
              "      <td>0.273559</td>\n",
              "      <td>0.177739</td>\n",
              "      <td>0.341496</td>\n",
              "      <td>0.334054</td>\n",
              "      <td>0.110806</td>\n",
              "      <td>0.207098</td>\n",
              "      <td>0.294537</td>\n",
              "      <td>-0.013095</td>\n",
              "      <td>0.020309</td>\n",
              "      <td>-0.055259</td>\n",
              "      <td>0.034349</td>\n",
              "      <td>0.011610</td>\n",
              "      <td>0.012032</td>\n",
              "      <td>-0.078154</td>\n",
              "      <td>-0.118613</td>\n",
              "    </tr>\n",
              "    <tr>\n",
              "      <th>4</th>\n",
              "      <td>2</td>\n",
              "      <td>4</td>\n",
              "      <td>0.120605</td>\n",
              "      <td>0.113167</td>\n",
              "      <td>2632.895857</td>\n",
              "      <td>2453.043616</td>\n",
              "      <td>5329.467773</td>\n",
              "      <td>18.914987</td>\n",
              "      <td>0.025196</td>\n",
              "      <td>1.035493</td>\n",
              "      <td>-71.919838</td>\n",
              "      <td>76.267471</td>\n",
              "      <td>-28.003765</td>\n",
              "      <td>15.988888</td>\n",
              "      <td>4.667567</td>\n",
              "      <td>35.548042</td>\n",
              "      <td>-6.664427</td>\n",
              "      <td>-5.128408</td>\n",
              "      <td>9.827440</td>\n",
              "      <td>-1.635414</td>\n",
              "      <td>-5.240368</td>\n",
              "      <td>-1.569069</td>\n",
              "      <td>-1.458279</td>\n",
              "      <td>7.581460</td>\n",
              "      <td>-16.175152</td>\n",
              "      <td>-6.295955</td>\n",
              "      <td>-9.435411</td>\n",
              "      <td>-3.781498</td>\n",
              "      <td>-8.782184</td>\n",
              "      <td>-7.635081</td>\n",
              "      <td>0.223808</td>\n",
              "      <td>0.355715</td>\n",
              "      <td>0.269517</td>\n",
              "      <td>0.202841</td>\n",
              "      <td>0.376315</td>\n",
              "      <td>0.324933</td>\n",
              "      <td>0.624933</td>\n",
              "      <td>0.684395</td>\n",
              "      <td>0.392219</td>\n",
              "      <td>1.000000</td>\n",
              "      <td>1.000000</td>\n",
              "      <td>0.446547</td>\n",
              "      <td>0.319092</td>\n",
              "      <td>0.448243</td>\n",
              "      <td>0.260494</td>\n",
              "      <td>0.103011</td>\n",
              "      <td>0.139945</td>\n",
              "      <td>0.144729</td>\n",
              "      <td>0.191945</td>\n",
              "      <td>0.245747</td>\n",
              "      <td>0.076884</td>\n",
              "      <td>0.266807</td>\n",
              "      <td>0.286048</td>\n",
              "      <td>0.167931</td>\n",
              "      <td>0.120557</td>\n",
              "      <td>0.326037</td>\n",
              "      <td>0.246430</td>\n",
              "      <td>0.267567</td>\n",
              "      <td>0.356422</td>\n",
              "      <td>0.278966</td>\n",
              "      <td>0.506787</td>\n",
              "      <td>0.398466</td>\n",
              "      <td>0.341865</td>\n",
              "      <td>0.328212</td>\n",
              "      <td>0.283725</td>\n",
              "      <td>0.300338</td>\n",
              "      <td>-0.001744</td>\n",
              "      <td>0.005818</td>\n",
              "      <td>-0.024928</td>\n",
              "      <td>-0.016238</td>\n",
              "      <td>0.001600</td>\n",
              "      <td>0.001166</td>\n",
              "      <td>-0.081588</td>\n",
              "      <td>-0.126457</td>\n",
              "    </tr>\n",
              "  </tbody>\n",
              "</table>\n",
              "</div>"
            ],
            "text/plain": [
              "   song_id  frame_num       zcr  ...  tonnetz_5   valence   arousal\n",
              "0        2          0  0.157715  ...   0.042898 -0.073341 -0.109386\n",
              "1        2          1  0.051758  ...   0.033029 -0.074661 -0.114942\n",
              "2        2          2  0.101562  ...   0.023202 -0.074077 -0.116413\n",
              "3        2          3  0.062500  ...   0.012032 -0.078154 -0.118613\n",
              "4        2          4  0.120605  ...   0.001166 -0.081588 -0.126457\n",
              "\n",
              "[5 rows x 74 columns]"
            ]
          },
          "metadata": {
            "tags": []
          },
          "execution_count": 68
        }
      ]
    },
    {
      "cell_type": "code",
      "metadata": {
        "id": "RZbxLv5TYf_L",
        "outputId": "e7a4ed72-4afe-4a6a-8729-c51730d3354d",
        "colab": {
          "base_uri": "https://localhost:8080/"
        }
      },
      "source": [
        "df.shape"
      ],
      "execution_count": 69,
      "outputs": [
        {
          "output_type": "execute_result",
          "data": {
            "text/plain": [
              "(104640, 74)"
            ]
          },
          "metadata": {
            "tags": []
          },
          "execution_count": 69
        }
      ]
    },
    {
      "cell_type": "code",
      "metadata": {
        "id": "2j1vh4AKW9hf"
      },
      "source": [
        "df =df.iloc[np.random.permutation(np.arange(104640).reshape(-1,60)).ravel()]"
      ],
      "execution_count": 70,
      "outputs": []
    },
    {
      "cell_type": "code",
      "metadata": {
        "id": "6QzFAy0YXqwe"
      },
      "source": [
        "# df.to_csv('/content/drive/My Drive/Colab Notebooks/Sentiment/shuffled_data.csv',index=False)"
      ],
      "execution_count": 71,
      "outputs": []
    },
    {
      "cell_type": "code",
      "metadata": {
        "id": "Z8T9KBOOXbBI",
        "outputId": "e1e2e5b1-ffa8-4281-9d65-f9de9b0dfb75",
        "colab": {
          "base_uri": "https://localhost:8080/"
        }
      },
      "source": [
        "df.shape"
      ],
      "execution_count": 72,
      "outputs": [
        {
          "output_type": "execute_result",
          "data": {
            "text/plain": [
              "(104640, 74)"
            ]
          },
          "metadata": {
            "tags": []
          },
          "execution_count": 72
        }
      ]
    },
    {
      "cell_type": "code",
      "metadata": {
        "id": "n-hTjsnHYYiF",
        "outputId": "4f3a6543-f980-41d4-a6b4-4264018fce58",
        "colab": {
          "base_uri": "https://localhost:8080/"
        }
      },
      "source": [
        "df.pop('song_id')\n",
        "df.pop('frame_num')"
      ],
      "execution_count": 73,
      "outputs": [
        {
          "output_type": "execute_result",
          "data": {
            "text/plain": [
              "86340     0\n",
              "86341     1\n",
              "86342     2\n",
              "86343     3\n",
              "86344     4\n",
              "         ..\n",
              "29395    55\n",
              "29396    56\n",
              "29397    57\n",
              "29398    58\n",
              "29399    59\n",
              "Name: frame_num, Length: 104640, dtype: int64"
            ]
          },
          "metadata": {
            "tags": []
          },
          "execution_count": 73
        }
      ]
    },
    {
      "cell_type": "code",
      "metadata": {
        "id": "yrUOopsQY6kx",
        "outputId": "e4412191-b1a2-41b2-f28a-f466e76ac70e",
        "colab": {
          "base_uri": "https://localhost:8080/",
          "height": 224
        }
      },
      "source": [
        "y = df.loc[:,'valence':'arousal']\n",
        "print(y.shape)\n",
        "y.head()"
      ],
      "execution_count": 74,
      "outputs": [
        {
          "output_type": "stream",
          "text": [
            "(104640, 2)\n"
          ],
          "name": "stdout"
        },
        {
          "output_type": "execute_result",
          "data": {
            "text/html": [
              "<div>\n",
              "<style scoped>\n",
              "    .dataframe tbody tr th:only-of-type {\n",
              "        vertical-align: middle;\n",
              "    }\n",
              "\n",
              "    .dataframe tbody tr th {\n",
              "        vertical-align: top;\n",
              "    }\n",
              "\n",
              "    .dataframe thead th {\n",
              "        text-align: right;\n",
              "    }\n",
              "</style>\n",
              "<table border=\"1\" class=\"dataframe\">\n",
              "  <thead>\n",
              "    <tr style=\"text-align: right;\">\n",
              "      <th></th>\n",
              "      <th>valence</th>\n",
              "      <th>arousal</th>\n",
              "    </tr>\n",
              "  </thead>\n",
              "  <tbody>\n",
              "    <tr>\n",
              "      <th>86340</th>\n",
              "      <td>0.149</td>\n",
              "      <td>0.024</td>\n",
              "    </tr>\n",
              "    <tr>\n",
              "      <th>86341</th>\n",
              "      <td>0.152</td>\n",
              "      <td>0.018</td>\n",
              "    </tr>\n",
              "    <tr>\n",
              "      <th>86342</th>\n",
              "      <td>0.144</td>\n",
              "      <td>0.012</td>\n",
              "    </tr>\n",
              "    <tr>\n",
              "      <th>86343</th>\n",
              "      <td>0.136</td>\n",
              "      <td>-0.011</td>\n",
              "    </tr>\n",
              "    <tr>\n",
              "      <th>86344</th>\n",
              "      <td>0.138</td>\n",
              "      <td>-0.001</td>\n",
              "    </tr>\n",
              "  </tbody>\n",
              "</table>\n",
              "</div>"
            ],
            "text/plain": [
              "       valence  arousal\n",
              "86340    0.149    0.024\n",
              "86341    0.152    0.018\n",
              "86342    0.144    0.012\n",
              "86343    0.136   -0.011\n",
              "86344    0.138   -0.001"
            ]
          },
          "metadata": {
            "tags": []
          },
          "execution_count": 74
        }
      ]
    },
    {
      "cell_type": "code",
      "metadata": {
        "id": "43fIaAjPySoy",
        "outputId": "c3349218-859d-4dd8-95ea-85b9a6cdbe41",
        "colab": {
          "base_uri": "https://localhost:8080/"
        }
      },
      "source": [
        "df.pop('valence')\n",
        "df.pop('arousal')"
      ],
      "execution_count": 75,
      "outputs": [
        {
          "output_type": "execute_result",
          "data": {
            "text/plain": [
              "86340    0.024000\n",
              "86341    0.018000\n",
              "86342    0.012000\n",
              "86343   -0.011000\n",
              "86344   -0.001000\n",
              "           ...   \n",
              "29395    0.342557\n",
              "29396    0.346522\n",
              "29397    0.345609\n",
              "29398    0.345690\n",
              "29399    0.343687\n",
              "Name: arousal, Length: 104640, dtype: float64"
            ]
          },
          "metadata": {
            "tags": []
          },
          "execution_count": 75
        }
      ]
    },
    {
      "cell_type": "code",
      "metadata": {
        "id": "owPx7nW_yZwi",
        "outputId": "12ce8fd3-6c7f-4548-f714-cfff8631b607",
        "colab": {
          "base_uri": "https://localhost:8080/",
          "height": 226
        }
      },
      "source": [
        "df.head()\n"
      ],
      "execution_count": 76,
      "outputs": [
        {
          "output_type": "execute_result",
          "data": {
            "text/html": [
              "<div>\n",
              "<style scoped>\n",
              "    .dataframe tbody tr th:only-of-type {\n",
              "        vertical-align: middle;\n",
              "    }\n",
              "\n",
              "    .dataframe tbody tr th {\n",
              "        vertical-align: top;\n",
              "    }\n",
              "\n",
              "    .dataframe thead th {\n",
              "        text-align: right;\n",
              "    }\n",
              "</style>\n",
              "<table border=\"1\" class=\"dataframe\">\n",
              "  <thead>\n",
              "    <tr style=\"text-align: right;\">\n",
              "      <th></th>\n",
              "      <th>zcr</th>\n",
              "      <th>rms</th>\n",
              "      <th>spectral_centroid</th>\n",
              "      <th>spectral_bandwidth</th>\n",
              "      <th>spectral_rolloff</th>\n",
              "      <th>spectral_contrast</th>\n",
              "      <th>spectral_flatness</th>\n",
              "      <th>melspectrogram</th>\n",
              "      <th>mfcc_0</th>\n",
              "      <th>mfcc_1</th>\n",
              "      <th>mfcc_2</th>\n",
              "      <th>mfcc_3</th>\n",
              "      <th>mfcc_4</th>\n",
              "      <th>mfcc_5</th>\n",
              "      <th>mfcc_6</th>\n",
              "      <th>mfcc_7</th>\n",
              "      <th>mfcc_8</th>\n",
              "      <th>mfcc_9</th>\n",
              "      <th>mfcc_10</th>\n",
              "      <th>mfcc_11</th>\n",
              "      <th>mfcc_12</th>\n",
              "      <th>mfcc_13</th>\n",
              "      <th>mfcc_14</th>\n",
              "      <th>mfcc_15</th>\n",
              "      <th>mfcc_16</th>\n",
              "      <th>mfcc_17</th>\n",
              "      <th>mfcc_18</th>\n",
              "      <th>mfcc_19</th>\n",
              "      <th>chroma_stft_0</th>\n",
              "      <th>chroma_stft_1</th>\n",
              "      <th>chroma_stft_2</th>\n",
              "      <th>chroma_stft_3</th>\n",
              "      <th>chroma_stft_4</th>\n",
              "      <th>chroma_stft_5</th>\n",
              "      <th>chroma_stft_6</th>\n",
              "      <th>chroma_stft_7</th>\n",
              "      <th>chroma_stft_8</th>\n",
              "      <th>chroma_stft_9</th>\n",
              "      <th>chroma_stft_10</th>\n",
              "      <th>chroma_stft_11</th>\n",
              "      <th>chroma_cqt_0</th>\n",
              "      <th>chroma_cqt_1</th>\n",
              "      <th>chroma_cqt_2</th>\n",
              "      <th>chroma_cqt_3</th>\n",
              "      <th>chroma_cqt_4</th>\n",
              "      <th>chroma_cqt_5</th>\n",
              "      <th>chroma_cqt_6</th>\n",
              "      <th>chroma_cqt_7</th>\n",
              "      <th>chroma_cqt_8</th>\n",
              "      <th>chroma_cqt_9</th>\n",
              "      <th>chroma_cqt_10</th>\n",
              "      <th>chroma_cqt_11</th>\n",
              "      <th>chroma_cens_0</th>\n",
              "      <th>chroma_cens_1</th>\n",
              "      <th>chroma_cens_2</th>\n",
              "      <th>chroma_cens_3</th>\n",
              "      <th>chroma_cens_4</th>\n",
              "      <th>chroma_cens_5</th>\n",
              "      <th>chroma_cens_6</th>\n",
              "      <th>chroma_cens_7</th>\n",
              "      <th>chroma_cens_8</th>\n",
              "      <th>chroma_cens_9</th>\n",
              "      <th>chroma_cens_10</th>\n",
              "      <th>chroma_cens_11</th>\n",
              "      <th>tonnetz_0</th>\n",
              "      <th>tonnetz_1</th>\n",
              "      <th>tonnetz_2</th>\n",
              "      <th>tonnetz_3</th>\n",
              "      <th>tonnetz_4</th>\n",
              "      <th>tonnetz_5</th>\n",
              "    </tr>\n",
              "  </thead>\n",
              "  <tbody>\n",
              "    <tr>\n",
              "      <th>86340</th>\n",
              "      <td>0.120605</td>\n",
              "      <td>0.038553</td>\n",
              "      <td>1577.434054</td>\n",
              "      <td>1671.046392</td>\n",
              "      <td>2250.219727</td>\n",
              "      <td>18.183141</td>\n",
              "      <td>0.003548</td>\n",
              "      <td>0.000029</td>\n",
              "      <td>-442.687195</td>\n",
              "      <td>112.834274</td>\n",
              "      <td>-13.682774</td>\n",
              "      <td>-32.775444</td>\n",
              "      <td>-3.775378</td>\n",
              "      <td>4.155223</td>\n",
              "      <td>-27.204559</td>\n",
              "      <td>-9.475449</td>\n",
              "      <td>13.916375</td>\n",
              "      <td>-15.171112</td>\n",
              "      <td>-24.885111</td>\n",
              "      <td>-23.455908</td>\n",
              "      <td>-8.788421</td>\n",
              "      <td>9.080820</td>\n",
              "      <td>0.303365</td>\n",
              "      <td>-2.910561</td>\n",
              "      <td>-7.393029</td>\n",
              "      <td>-4.228126</td>\n",
              "      <td>0.438693</td>\n",
              "      <td>-12.561666</td>\n",
              "      <td>0.369850</td>\n",
              "      <td>0.181056</td>\n",
              "      <td>0.151105</td>\n",
              "      <td>0.235034</td>\n",
              "      <td>0.650926</td>\n",
              "      <td>0.256763</td>\n",
              "      <td>0.172141</td>\n",
              "      <td>0.828379</td>\n",
              "      <td>0.239882</td>\n",
              "      <td>0.103425</td>\n",
              "      <td>0.645466</td>\n",
              "      <td>0.058582</td>\n",
              "      <td>0.175454</td>\n",
              "      <td>1.000000</td>\n",
              "      <td>0.163177</td>\n",
              "      <td>0.212558</td>\n",
              "      <td>0.620084</td>\n",
              "      <td>0.390085</td>\n",
              "      <td>0.116848</td>\n",
              "      <td>0.925773</td>\n",
              "      <td>0.387404</td>\n",
              "      <td>0.158432</td>\n",
              "      <td>0.958756</td>\n",
              "      <td>0.279527</td>\n",
              "      <td>0.318741</td>\n",
              "      <td>0.481833</td>\n",
              "      <td>0.230939</td>\n",
              "      <td>0.724031</td>\n",
              "      <td>0.383059</td>\n",
              "      <td>0.311966</td>\n",
              "      <td>1.000000</td>\n",
              "      <td>0.602575</td>\n",
              "      <td>0.446670</td>\n",
              "      <td>0.786495</td>\n",
              "      <td>0.658540</td>\n",
              "      <td>0.305098</td>\n",
              "      <td>0.069935</td>\n",
              "      <td>-0.067646</td>\n",
              "      <td>0.076696</td>\n",
              "      <td>-0.087424</td>\n",
              "      <td>0.034014</td>\n",
              "      <td>-0.048207</td>\n",
              "    </tr>\n",
              "    <tr>\n",
              "      <th>86341</th>\n",
              "      <td>0.184570</td>\n",
              "      <td>0.086144</td>\n",
              "      <td>2317.171423</td>\n",
              "      <td>1989.845062</td>\n",
              "      <td>4231.274414</td>\n",
              "      <td>17.841289</td>\n",
              "      <td>0.001813</td>\n",
              "      <td>0.003158</td>\n",
              "      <td>-190.000504</td>\n",
              "      <td>84.880325</td>\n",
              "      <td>-39.797684</td>\n",
              "      <td>-3.060449</td>\n",
              "      <td>5.649426</td>\n",
              "      <td>10.913260</td>\n",
              "      <td>-28.205669</td>\n",
              "      <td>1.514402</td>\n",
              "      <td>11.492004</td>\n",
              "      <td>-41.236710</td>\n",
              "      <td>-16.413885</td>\n",
              "      <td>-7.118959</td>\n",
              "      <td>-38.735615</td>\n",
              "      <td>-12.488440</td>\n",
              "      <td>-14.545168</td>\n",
              "      <td>21.246307</td>\n",
              "      <td>12.295847</td>\n",
              "      <td>17.781853</td>\n",
              "      <td>-19.499474</td>\n",
              "      <td>4.713183</td>\n",
              "      <td>0.009959</td>\n",
              "      <td>0.221803</td>\n",
              "      <td>0.159048</td>\n",
              "      <td>0.389888</td>\n",
              "      <td>0.700065</td>\n",
              "      <td>0.255547</td>\n",
              "      <td>1.000000</td>\n",
              "      <td>0.751510</td>\n",
              "      <td>0.235262</td>\n",
              "      <td>0.060287</td>\n",
              "      <td>0.316950</td>\n",
              "      <td>0.059930</td>\n",
              "      <td>0.077361</td>\n",
              "      <td>0.384289</td>\n",
              "      <td>0.160255</td>\n",
              "      <td>0.403686</td>\n",
              "      <td>0.904175</td>\n",
              "      <td>0.389569</td>\n",
              "      <td>0.166357</td>\n",
              "      <td>0.889498</td>\n",
              "      <td>0.385300</td>\n",
              "      <td>0.026866</td>\n",
              "      <td>0.386009</td>\n",
              "      <td>0.282417</td>\n",
              "      <td>0.005470</td>\n",
              "      <td>0.119766</td>\n",
              "      <td>0.235516</td>\n",
              "      <td>0.105243</td>\n",
              "      <td>0.559785</td>\n",
              "      <td>0.318234</td>\n",
              "      <td>0.454249</td>\n",
              "      <td>1.000000</td>\n",
              "      <td>0.443215</td>\n",
              "      <td>0.062020</td>\n",
              "      <td>0.518760</td>\n",
              "      <td>0.302687</td>\n",
              "      <td>0.008373</td>\n",
              "      <td>-0.004198</td>\n",
              "      <td>0.030584</td>\n",
              "      <td>-0.017830</td>\n",
              "      <td>0.010579</td>\n",
              "      <td>-0.002771</td>\n",
              "    </tr>\n",
              "    <tr>\n",
              "      <th>86342</th>\n",
              "      <td>0.117188</td>\n",
              "      <td>0.052132</td>\n",
              "      <td>2008.069167</td>\n",
              "      <td>2452.510632</td>\n",
              "      <td>4532.739258</td>\n",
              "      <td>16.084488</td>\n",
              "      <td>0.004401</td>\n",
              "      <td>0.164401</td>\n",
              "      <td>-196.750641</td>\n",
              "      <td>111.722649</td>\n",
              "      <td>0.924732</td>\n",
              "      <td>-9.006064</td>\n",
              "      <td>-13.416687</td>\n",
              "      <td>-1.960280</td>\n",
              "      <td>-8.148701</td>\n",
              "      <td>10.587578</td>\n",
              "      <td>22.875343</td>\n",
              "      <td>-13.403354</td>\n",
              "      <td>-4.272635</td>\n",
              "      <td>-23.539728</td>\n",
              "      <td>-18.215202</td>\n",
              "      <td>0.231350</td>\n",
              "      <td>5.764665</td>\n",
              "      <td>-4.071016</td>\n",
              "      <td>7.429517</td>\n",
              "      <td>10.884590</td>\n",
              "      <td>-1.014562</td>\n",
              "      <td>5.679839</td>\n",
              "      <td>0.031768</td>\n",
              "      <td>0.254755</td>\n",
              "      <td>0.166420</td>\n",
              "      <td>0.042155</td>\n",
              "      <td>0.367593</td>\n",
              "      <td>0.254436</td>\n",
              "      <td>0.020217</td>\n",
              "      <td>0.265739</td>\n",
              "      <td>0.230777</td>\n",
              "      <td>0.006680</td>\n",
              "      <td>0.161439</td>\n",
              "      <td>0.061000</td>\n",
              "      <td>0.070156</td>\n",
              "      <td>0.384032</td>\n",
              "      <td>0.157587</td>\n",
              "      <td>0.342242</td>\n",
              "      <td>0.630120</td>\n",
              "      <td>0.389387</td>\n",
              "      <td>0.062298</td>\n",
              "      <td>0.419727</td>\n",
              "      <td>0.383629</td>\n",
              "      <td>0.029790</td>\n",
              "      <td>0.235979</td>\n",
              "      <td>0.285042</td>\n",
              "      <td>0.109694</td>\n",
              "      <td>0.295305</td>\n",
              "      <td>0.239185</td>\n",
              "      <td>0.239214</td>\n",
              "      <td>0.602293</td>\n",
              "      <td>0.324020</td>\n",
              "      <td>1.000000</td>\n",
              "      <td>1.000000</td>\n",
              "      <td>0.439701</td>\n",
              "      <td>0.176290</td>\n",
              "      <td>0.544993</td>\n",
              "      <td>0.300294</td>\n",
              "      <td>-0.020647</td>\n",
              "      <td>0.004909</td>\n",
              "      <td>-0.026391</td>\n",
              "      <td>-0.216812</td>\n",
              "      <td>0.038562</td>\n",
              "      <td>-0.014340</td>\n",
              "    </tr>\n",
              "    <tr>\n",
              "      <th>86343</th>\n",
              "      <td>0.087891</td>\n",
              "      <td>0.062946</td>\n",
              "      <td>1698.216189</td>\n",
              "      <td>2044.232311</td>\n",
              "      <td>2271.752930</td>\n",
              "      <td>15.592293</td>\n",
              "      <td>0.000921</td>\n",
              "      <td>0.002156</td>\n",
              "      <td>-229.037949</td>\n",
              "      <td>133.627319</td>\n",
              "      <td>-18.604656</td>\n",
              "      <td>-32.831970</td>\n",
              "      <td>-24.311275</td>\n",
              "      <td>10.498560</td>\n",
              "      <td>-22.546434</td>\n",
              "      <td>-18.985069</td>\n",
              "      <td>31.289640</td>\n",
              "      <td>-30.233847</td>\n",
              "      <td>-10.148164</td>\n",
              "      <td>-32.725094</td>\n",
              "      <td>-11.926043</td>\n",
              "      <td>-5.710715</td>\n",
              "      <td>11.476934</td>\n",
              "      <td>11.509021</td>\n",
              "      <td>10.634457</td>\n",
              "      <td>-4.279814</td>\n",
              "      <td>-13.021610</td>\n",
              "      <td>-8.175509</td>\n",
              "      <td>0.023744</td>\n",
              "      <td>0.368687</td>\n",
              "      <td>0.173198</td>\n",
              "      <td>0.033033</td>\n",
              "      <td>0.404089</td>\n",
              "      <td>0.253430</td>\n",
              "      <td>0.008711</td>\n",
              "      <td>0.247435</td>\n",
              "      <td>0.226488</td>\n",
              "      <td>0.003171</td>\n",
              "      <td>0.132122</td>\n",
              "      <td>0.061786</td>\n",
              "      <td>0.022159</td>\n",
              "      <td>0.287149</td>\n",
              "      <td>0.155139</td>\n",
              "      <td>0.112082</td>\n",
              "      <td>0.468072</td>\n",
              "      <td>0.389473</td>\n",
              "      <td>0.028217</td>\n",
              "      <td>0.269566</td>\n",
              "      <td>0.382333</td>\n",
              "      <td>0.009150</td>\n",
              "      <td>0.158682</td>\n",
              "      <td>0.287399</td>\n",
              "      <td>0.037807</td>\n",
              "      <td>0.252091</td>\n",
              "      <td>0.241991</td>\n",
              "      <td>0.132128</td>\n",
              "      <td>0.450816</td>\n",
              "      <td>0.329287</td>\n",
              "      <td>1.000000</td>\n",
              "      <td>1.000000</td>\n",
              "      <td>0.436258</td>\n",
              "      <td>0.273787</td>\n",
              "      <td>0.681820</td>\n",
              "      <td>0.298022</td>\n",
              "      <td>-0.016818</td>\n",
              "      <td>-0.028408</td>\n",
              "      <td>-0.059435</td>\n",
              "      <td>-0.317186</td>\n",
              "      <td>0.059754</td>\n",
              "      <td>0.003157</td>\n",
              "    </tr>\n",
              "    <tr>\n",
              "      <th>86344</th>\n",
              "      <td>0.082520</td>\n",
              "      <td>0.038417</td>\n",
              "      <td>1395.995262</td>\n",
              "      <td>1766.972044</td>\n",
              "      <td>2088.720703</td>\n",
              "      <td>15.198699</td>\n",
              "      <td>0.002598</td>\n",
              "      <td>0.030531</td>\n",
              "      <td>-230.648941</td>\n",
              "      <td>154.530579</td>\n",
              "      <td>-20.657394</td>\n",
              "      <td>-14.482957</td>\n",
              "      <td>10.421513</td>\n",
              "      <td>1.719326</td>\n",
              "      <td>-22.083229</td>\n",
              "      <td>4.012653</td>\n",
              "      <td>-9.869968</td>\n",
              "      <td>-1.905949</td>\n",
              "      <td>-5.305861</td>\n",
              "      <td>-11.045206</td>\n",
              "      <td>-7.280683</td>\n",
              "      <td>-19.989449</td>\n",
              "      <td>1.178585</td>\n",
              "      <td>-1.503967</td>\n",
              "      <td>19.115238</td>\n",
              "      <td>9.408150</td>\n",
              "      <td>-2.600185</td>\n",
              "      <td>3.630439</td>\n",
              "      <td>0.088828</td>\n",
              "      <td>0.445482</td>\n",
              "      <td>0.179463</td>\n",
              "      <td>0.182169</td>\n",
              "      <td>0.583194</td>\n",
              "      <td>0.252431</td>\n",
              "      <td>0.056128</td>\n",
              "      <td>0.376039</td>\n",
              "      <td>0.222344</td>\n",
              "      <td>0.015445</td>\n",
              "      <td>0.199127</td>\n",
              "      <td>0.062284</td>\n",
              "      <td>0.045728</td>\n",
              "      <td>0.273308</td>\n",
              "      <td>0.152883</td>\n",
              "      <td>0.353474</td>\n",
              "      <td>0.684104</td>\n",
              "      <td>0.389771</td>\n",
              "      <td>1.000000</td>\n",
              "      <td>1.000000</td>\n",
              "      <td>0.381362</td>\n",
              "      <td>0.320216</td>\n",
              "      <td>0.666609</td>\n",
              "      <td>0.289291</td>\n",
              "      <td>0.147882</td>\n",
              "      <td>0.415158</td>\n",
              "      <td>0.243974</td>\n",
              "      <td>0.116590</td>\n",
              "      <td>0.407537</td>\n",
              "      <td>0.334099</td>\n",
              "      <td>0.259515</td>\n",
              "      <td>0.508238</td>\n",
              "      <td>0.433071</td>\n",
              "      <td>0.119450</td>\n",
              "      <td>0.425476</td>\n",
              "      <td>0.296039</td>\n",
              "      <td>-0.028709</td>\n",
              "      <td>-0.028877</td>\n",
              "      <td>-0.051227</td>\n",
              "      <td>-0.290250</td>\n",
              "      <td>0.033273</td>\n",
              "      <td>0.001280</td>\n",
              "    </tr>\n",
              "  </tbody>\n",
              "</table>\n",
              "</div>"
            ],
            "text/plain": [
              "            zcr       rms  spectral_centroid  ...  tonnetz_3  tonnetz_4  tonnetz_5\n",
              "86340  0.120605  0.038553        1577.434054  ...  -0.087424   0.034014  -0.048207\n",
              "86341  0.184570  0.086144        2317.171423  ...  -0.017830   0.010579  -0.002771\n",
              "86342  0.117188  0.052132        2008.069167  ...  -0.216812   0.038562  -0.014340\n",
              "86343  0.087891  0.062946        1698.216189  ...  -0.317186   0.059754   0.003157\n",
              "86344  0.082520  0.038417        1395.995262  ...  -0.290250   0.033273   0.001280\n",
              "\n",
              "[5 rows x 70 columns]"
            ]
          },
          "metadata": {
            "tags": []
          },
          "execution_count": 76
        }
      ]
    },
    {
      "cell_type": "code",
      "metadata": {
        "id": "Vp0ZBgdrwh-6"
      },
      "source": [
        "# df_mean = df.mean()\n",
        "# df_std = df.std()\n",
        "\n",
        "# df = (df - df_mean) / df_std\n"
      ],
      "execution_count": 77,
      "outputs": []
    },
    {
      "cell_type": "code",
      "metadata": {
        "id": "UeJr9UgKcOsd"
      },
      "source": [
        "# print(type(df))"
      ],
      "execution_count": 78,
      "outputs": []
    },
    {
      "cell_type": "code",
      "metadata": {
        "id": "yNKS_ddKXPe-"
      },
      "source": [
        "features = df.to_numpy()\n",
        "y = y.to_numpy()"
      ],
      "execution_count": 79,
      "outputs": []
    },
    {
      "cell_type": "code",
      "metadata": {
        "id": "4ZFq097oYHka",
        "outputId": "db432bb8-2e5b-4c4d-e010-2618fb6c932c",
        "colab": {
          "base_uri": "https://localhost:8080/"
        }
      },
      "source": [
        "print(features.shape)\n",
        "print(y.shape)"
      ],
      "execution_count": 80,
      "outputs": [
        {
          "output_type": "stream",
          "text": [
            "(104640, 70)\n",
            "(104640, 2)\n"
          ],
          "name": "stdout"
        }
      ]
    },
    {
      "cell_type": "code",
      "metadata": {
        "id": "vH36lfbDYHdI"
      },
      "source": [
        "features = features.reshape(1744,60,70)\n",
        "y = y.reshape(1744,60,2)"
      ],
      "execution_count": 81,
      "outputs": []
    },
    {
      "cell_type": "code",
      "metadata": {
        "id": "86W_1rgzlv1M"
      },
      "source": [
        "train_X , train_y = features[0:1220] , y[0:1220]\n",
        "test_X , test_y = features[1220:1744] , y[1220:1744]\n",
        "# val_X , val_y = features [1569:1744] , valence[0:1220]"
      ],
      "execution_count": 82,
      "outputs": []
    },
    {
      "cell_type": "code",
      "metadata": {
        "id": "n0kO1fD6mZPO",
        "outputId": "acdd122d-3c49-4ded-ded6-8afbc9113f4c",
        "colab": {
          "base_uri": "https://localhost:8080/"
        }
      },
      "source": [
        "print(\"train_X :\" , train_X.shape , \"train_y shape:\" , train_y.shape)\n",
        "print(\"test_X :\" , test_X.shape , \"test_y shape:\" , test_y.shape)\n",
        "# print(\"val_X :\" , val_X.shape , \"val_y shape:\" , val_y.shape)\n"
      ],
      "execution_count": 83,
      "outputs": [
        {
          "output_type": "stream",
          "text": [
            "train_X : (1220, 60, 70) train_y shape: (1220, 60, 2)\n",
            "test_X : (524, 60, 70) test_y shape: (524, 60, 2)\n"
          ],
          "name": "stdout"
        }
      ]
    },
    {
      "cell_type": "code",
      "metadata": {
        "id": "xPUKoT6UZJqK"
      },
      "source": [
        "# print(features.shape)\n",
        "# for i in range(1):\n",
        "#   print(features)"
      ],
      "execution_count": 84,
      "outputs": []
    },
    {
      "cell_type": "code",
      "metadata": {
        "id": "KlPmZirqZnwO"
      },
      "source": [
        "# print(valence.shape)\n",
        "# print(valence)"
      ],
      "execution_count": 85,
      "outputs": []
    },
    {
      "cell_type": "code",
      "metadata": {
        "id": "I8_NKb8rbt7s"
      },
      "source": [
        "# print(type(features))\n",
        "# print(features.shape)"
      ],
      "execution_count": 86,
      "outputs": []
    },
    {
      "cell_type": "code",
      "metadata": {
        "id": "ihLB68_nle5M"
      },
      "source": [
        "model = Sequential()\n",
        "\n",
        "# model.add(Bidirectional(LSTM(128,return_sequences=True, input_shape=(60,70))))\n",
        "# model.add(Dropout(0.2))\n",
        "# model.add(Bidirectional(LSTM(128,return_sequences=True, input_shape=(60,70))))\n",
        "# model.add(Dropout(0.2))\n",
        "# model.add(Bidirectional(LSTM(128,return_sequences=True, input_shape=(60,70))))\n",
        "# model.add(Dropout(0.2))\n",
        "\n",
        "# model.add(Bidirectional(LSTM(128,return_sequences=True, input_shape=(60,70))))\n",
        "model.add(Bidirectional(LSTM(64,return_sequences=True, input_shape=(60,70))))\n",
        "# model.add(Dropout(0.3))\n",
        "model.add(Bidirectional(LSTM(64,return_sequences=True, input_shape=(60,70))))\n",
        "# model.add(Dropout(0.3))\n",
        "# model.add(Bidirectional(LSTM(64,return_sequences=True, input_shape=(60,70))))\n",
        "# model.add(Dropout(0.3))\n",
        "# model.add(Bidirectional(LSTM(32,return_sequences=True, input_shape=(60,70))))\n",
        "# model.add(Bidirectional(LSTM(16,return_sequences=True, input_shape=(60,70))))\n",
        "# model.add(Bidirectional(LSTM(8,return_sequences=True, input_shape=(60,70))))\n",
        "\n",
        "\n",
        "\n",
        "\n",
        "model.add(Dense(2))\n",
        "model.compile(loss='mse', optimizer='adam')"
      ],
      "execution_count": 87,
      "outputs": []
    },
    {
      "cell_type": "code",
      "metadata": {
        "id": "27usXwSelDL0",
        "outputId": "a1f6529c-bcb6-47e2-fdda-58a3a8603e90",
        "colab": {
          "base_uri": "https://localhost:8080/"
        }
      },
      "source": [
        "history = model.fit(train_X, train_y, epochs=40, validation_data=(test_X, test_y), verbose=2, shuffle=False)\n"
      ],
      "execution_count": 88,
      "outputs": [
        {
          "output_type": "stream",
          "text": [
            "Epoch 1/40\n",
            "39/39 - 2s - loss: 0.0641 - val_loss: 0.0457\n",
            "Epoch 2/40\n",
            "39/39 - 1s - loss: 0.0470 - val_loss: 0.0451\n",
            "Epoch 3/40\n",
            "39/39 - 1s - loss: 0.0452 - val_loss: 0.0438\n",
            "Epoch 4/40\n",
            "39/39 - 1s - loss: 0.0449 - val_loss: 0.0442\n",
            "Epoch 5/40\n",
            "39/39 - 1s - loss: 0.0440 - val_loss: 0.0429\n",
            "Epoch 6/40\n",
            "39/39 - 1s - loss: 0.0433 - val_loss: 0.0425\n",
            "Epoch 7/40\n",
            "39/39 - 1s - loss: 0.0431 - val_loss: 0.0427\n",
            "Epoch 8/40\n",
            "39/39 - 1s - loss: 0.0427 - val_loss: 0.0427\n",
            "Epoch 9/40\n",
            "39/39 - 1s - loss: 0.0423 - val_loss: 0.0420\n",
            "Epoch 10/40\n",
            "39/39 - 1s - loss: 0.0420 - val_loss: 0.0417\n",
            "Epoch 11/40\n",
            "39/39 - 1s - loss: 0.0414 - val_loss: 0.0416\n",
            "Epoch 12/40\n",
            "39/39 - 1s - loss: 0.0408 - val_loss: 0.0426\n",
            "Epoch 13/40\n",
            "39/39 - 1s - loss: 0.0408 - val_loss: 0.0422\n",
            "Epoch 14/40\n",
            "39/39 - 1s - loss: 0.0406 - val_loss: 0.0420\n",
            "Epoch 15/40\n",
            "39/39 - 1s - loss: 0.0402 - val_loss: 0.0421\n",
            "Epoch 16/40\n",
            "39/39 - 1s - loss: 0.0406 - val_loss: 0.0414\n",
            "Epoch 17/40\n",
            "39/39 - 1s - loss: 0.0402 - val_loss: 0.0422\n",
            "Epoch 18/40\n",
            "39/39 - 1s - loss: 0.0402 - val_loss: 0.0425\n",
            "Epoch 19/40\n",
            "39/39 - 1s - loss: 0.0400 - val_loss: 0.0419\n",
            "Epoch 20/40\n",
            "39/39 - 1s - loss: 0.0396 - val_loss: 0.0421\n",
            "Epoch 21/40\n",
            "39/39 - 1s - loss: 0.0393 - val_loss: 0.0422\n",
            "Epoch 22/40\n",
            "39/39 - 1s - loss: 0.0386 - val_loss: 0.0405\n",
            "Epoch 23/40\n",
            "39/39 - 1s - loss: 0.0375 - val_loss: 0.0395\n",
            "Epoch 24/40\n",
            "39/39 - 1s - loss: 0.0383 - val_loss: 0.0389\n",
            "Epoch 25/40\n",
            "39/39 - 1s - loss: 0.0366 - val_loss: 0.0392\n",
            "Epoch 26/40\n",
            "39/39 - 1s - loss: 0.0356 - val_loss: 0.0380\n",
            "Epoch 27/40\n",
            "39/39 - 1s - loss: 0.0370 - val_loss: 0.0397\n",
            "Epoch 28/40\n",
            "39/39 - 1s - loss: 0.0372 - val_loss: 0.0399\n",
            "Epoch 29/40\n",
            "39/39 - 1s - loss: 0.0361 - val_loss: 0.0389\n",
            "Epoch 30/40\n",
            "39/39 - 1s - loss: 0.0365 - val_loss: 0.0409\n",
            "Epoch 31/40\n",
            "39/39 - 1s - loss: 0.0382 - val_loss: 0.0386\n",
            "Epoch 32/40\n",
            "39/39 - 1s - loss: 0.0361 - val_loss: 0.0383\n",
            "Epoch 33/40\n",
            "39/39 - 1s - loss: 0.0355 - val_loss: 0.0381\n",
            "Epoch 34/40\n",
            "39/39 - 1s - loss: 0.0364 - val_loss: 0.0399\n",
            "Epoch 35/40\n",
            "39/39 - 1s - loss: 0.0361 - val_loss: 0.0396\n",
            "Epoch 36/40\n",
            "39/39 - 1s - loss: 0.0367 - val_loss: 0.0381\n",
            "Epoch 37/40\n",
            "39/39 - 1s - loss: 0.0371 - val_loss: 0.0383\n",
            "Epoch 38/40\n",
            "39/39 - 1s - loss: 0.0375 - val_loss: 0.0405\n",
            "Epoch 39/40\n",
            "39/39 - 1s - loss: 0.0386 - val_loss: 0.0379\n",
            "Epoch 40/40\n",
            "39/39 - 1s - loss: 0.0362 - val_loss: 0.0407\n"
          ],
          "name": "stdout"
        }
      ]
    },
    {
      "cell_type": "code",
      "metadata": {
        "id": "_ACHp8c0YFOP",
        "outputId": "f04b261a-9694-4db5-a5ea-038897cce458",
        "colab": {
          "base_uri": "https://localhost:8080/",
          "height": 282
        }
      },
      "source": [
        "plt.plot(history.history['loss'], label='train')\n",
        "plt.plot(history.history['val_loss'], label='test')\n",
        "plt.legend()\n",
        "plt.show()\n",
        "plt.savefig(\"training loss 350epochs_5layers\")"
      ],
      "execution_count": 89,
      "outputs": [
        {
          "output_type": "display_data",
          "data": {
            "image/png": "[encoded data removed]",
            "text/plain": [
              "<Figure size 432x288 with 1 Axes>"
            ]
          },
          "metadata": {
            "tags": [],
            "needs_background": "light"
          }
        },
        {
          "output_type": "display_data",
          "data": {
            "text/plain": [
              "<Figure size 432x288 with 0 Axes>"
            ]
          },
          "metadata": {
            "tags": []
          }
        }
      ]
    },
    {
      "cell_type": "code",
      "metadata": {
        "id": "SwKISLlZXV2d",
        "outputId": "461e09a7-cc8e-4162-b172-3af34e8ca3fc",
        "colab": {
          "base_uri": "https://localhost:8080/"
        }
      },
      "source": [
        "history.history\n",
        "print('overall loss' , np.mean(history.history['loss']))\n",
        "print('overall val_loss' , np.mean(history.history['val_loss']))"
      ],
      "execution_count": 90,
      "outputs": [
        {
          "output_type": "stream",
          "text": [
            "overall loss 0.04009827077388763\n",
            "overall val_loss 0.041043439600616696\n"
          ],
          "name": "stdout"
        }
      ]
    },
    {
      "cell_type": "code",
      "metadata": {
        "id": "Pw8CtS1BlHPk"
      },
      "source": [
        "predicted_y = model.predict(test_X)\n"
      ],
      "execution_count": 91,
      "outputs": []
    },
    {
      "cell_type": "code",
      "metadata": {
        "id": "4s5LCQCHzgjS",
        "outputId": "87949ae2-3e83-4a51-edc7-5220c1de94ee",
        "colab": {
          "base_uri": "https://localhost:8080/"
        }
      },
      "source": [
        "print(predicted_y.shape)\n",
        "print(test_y.shape)"
      ],
      "execution_count": 92,
      "outputs": [
        {
          "output_type": "stream",
          "text": [
            "(524, 60, 2)\n",
            "(524, 60, 2)\n"
          ],
          "name": "stdout"
        }
      ]
    },
    {
      "cell_type": "code",
      "metadata": {
        "id": "tQZgAGhuBAGj"
      },
      "source": [
        "predicted_valence = predicted_y[:,:,0]\n",
        "predicted_arousal = predicted_y[:,:,1]\n",
        "test_valence = test_y[:,:,0]\n",
        "test_arousal = test_y[:,:,1]"
      ],
      "execution_count": 93,
      "outputs": []
    },
    {
      "cell_type": "code",
      "metadata": {
        "id": "Bx3FtbF1CC-q"
      },
      "source": [
        "# for i in range(1):\n",
        "  # print(predicted_valence[i])\n",
        "  # print(predicted_arousal[i])\n",
        "  # print(test_valence[i])\n",
        "  # print(test_arousal[i])"
      ],
      "execution_count": 94,
      "outputs": []
    },
    {
      "cell_type": "code",
      "metadata": {
        "id": "vAZfp3jyV0_f"
      },
      "source": [
        "predicted_valence = predicted_valence.reshape(31440,)\n",
        "test_valence = test_valence.reshape(31440,)\n",
        "predicted_arousal = predicted_arousal.reshape(31440,)\n",
        "test_arousal = test_arousal.reshape(31440,)"
      ],
      "execution_count": 95,
      "outputs": []
    },
    {
      "cell_type": "code",
      "metadata": {
        "id": "-cQpvl4DYkwQ"
      },
      "source": [
        "def metrics(y_true,y_pred,name):\n",
        "  print(name,\"\")\n",
        "  mae = mean_absolute_error(y_true,y_pred)\n",
        "  rmse = sqrt(mean_squared_error(y_true,y_pred))\n",
        "  r2 = r2_score(y_true,y_pred)\n",
        "  pearson_corr = pearsonr(y_true,y_pred)\n",
        "  spearman_corr = spearmanr(y_true,y_pred)\n",
        "  \n",
        "  print('RMSE : ',rmse)\n",
        "  print('Pearson : ',pearson_corr)\n",
        "  print('MAE : ',mae)\n",
        "  print('R2 : ',r2)\n",
        "  print('Spearman : ',spearman_corr,'\\n')\n"
      ],
      "execution_count": 96,
      "outputs": []
    },
    {
      "cell_type": "code",
      "metadata": {
        "id": "wI22IyyxfafF"
      },
      "source": [
        "def graph_results(x,y,title, xlim=-1, ylim=-1):\n",
        "  #x and y are variables ( y_pred vs y_true )\n",
        "  #Important\n",
        "  plt.scatter(x,y,s=15)\n",
        "\n",
        "  # if xlim != -1: plt.xlim([0, xlim])\n",
        "  # if ylim != -1: plt.ylim([0, ylim])\n",
        "  # plt.gca().set_ylim([1.5,7.5])\n",
        "  # plt.gca().set_xlim([1.5,9])\n",
        "  #Fix \n",
        "  plt.xlabel(\"Actual\")\n",
        "  plt.ylabel(\"Predicted\")\n",
        "  plt.title((title))\n",
        "  # m, b = np.polyfit(x, y, 1)\n",
        "  # plt.plot(x, m*x + b, color='red')  \n",
        "  plt.savefig(title)\n",
        "\n",
        "  plt.show()"
      ],
      "execution_count": 97,
      "outputs": []
    },
    {
      "cell_type": "code",
      "metadata": {
        "id": "zbJaq7WqaLB9",
        "outputId": "5ef1034d-c3de-40ca-84ac-253b404ce040",
        "colab": {
          "base_uri": "https://localhost:8080/",
          "height": 417
        }
      },
      "source": [
        "metrics(test_valence,predicted_valence,'valence')\n",
        "graph_results(test_valence,predicted_valence,'valence actual vs prediction')\n"
      ],
      "execution_count": 98,
      "outputs": [
        {
          "output_type": "stream",
          "text": [
            "valence \n",
            "RMSE :  0.21719269042171363\n",
            "Pearson :  (0.46292870302274947, 0.0)\n",
            "MAE :  0.1749527136564501\n",
            "R2 :  0.1842195288337496\n",
            "Spearman :  SpearmanrResult(correlation=0.47260065982115085, pvalue=0.0) \n",
            "\n"
          ],
          "name": "stdout"
        },
        {
          "output_type": "display_data",
          "data": {
            "image/png": "[encoded data removed]",
            "text/plain": [
              "<Figure size 432x288 with 1 Axes>"
            ]
          },
          "metadata": {
            "tags": [],
            "needs_background": "light"
          }
        }
      ]
    },
    {
      "cell_type": "code",
      "metadata": {
        "id": "ZaFzNqaBC-9q",
        "outputId": "70c1cba1-d3b5-4843-84ca-9c075d54066b",
        "colab": {
          "base_uri": "https://localhost:8080/",
          "height": 417
        }
      },
      "source": [
        "metrics(test_arousal,predicted_arousal,'arousal')\n",
        "graph_results(test_arousal,predicted_arousal,'arousal actual vs prediction')"
      ],
      "execution_count": 99,
      "outputs": [
        {
          "output_type": "stream",
          "text": [
            "arousal \n",
            "RMSE :  0.1849302593179948\n",
            "Pearson :  (0.7668661971058593, 0.0)\n",
            "MAE :  0.14642718448397699\n",
            "R2 :  0.5822740937067168\n",
            "Spearman :  SpearmanrResult(correlation=0.7683828652660099, pvalue=0.0) \n",
            "\n"
          ],
          "name": "stdout"
        },
        {
          "output_type": "display_data",
          "data": {
            "image/png": "[encoded data removed]",
            "text/plain": [
              "<Figure size 432x288 with 1 Axes>"
            ]
          },
          "metadata": {
            "tags": [],
            "needs_background": "light"
          }
        }
      ]
    },
    {
      "cell_type": "code",
      "metadata": {
        "id": "pcQaHYbFSziG"
      },
      "source": [
        ""
      ],
      "execution_count": 99,
      "outputs": []
    }
  ]
}