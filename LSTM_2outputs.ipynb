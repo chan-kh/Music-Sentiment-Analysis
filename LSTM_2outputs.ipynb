{
  "nbformat": 4,
  "nbformat_minor": 0,
  "metadata": {
    "accelerator": "GPU",
    "colab": {
      "name": "LSTM_2outputs.ipynb",
      "provenance": [],
      "collapsed_sections": [],
      "include_colab_link": true
    },
    "kernelspec": {
      "display_name": "Python 3",
      "language": "python",
      "name": "python3"
    },
    "language_info": {
      "codemirror_mode": {
        "name": "ipython",
        "version": 3
      },
      "file_extension": ".py",
      "mimetype": "text/x-python",
      "name": "python",
      "nbconvert_exporter": "python",
      "pygments_lexer": "ipython3",
      "version": "3.7.6"
    }
  },
  "cells": [
    {
      "cell_type": "markdown",
      "metadata": {
        "id": "view-in-github",
        "colab_type": "text"
      },
      "source": [
        "<a href=\"https://colab.research.google.com/github/chan-kh/Music-Sentiment-Analysis/blob/main/LSTM_2outputs.ipynb\" target=\"_parent\"><img src=\"https://colab.research.google.com/assets/colab-badge.svg\" alt=\"Open In Colab\"/></a>"
      ]
    },
    {
      "cell_type": "code",
      "metadata": {
        "id": "vbaXYegNi0Id"
      },
      "source": [
        "import os\n",
        "import datetime\n",
        "from google.colab import drive\n",
        "\n",
        "import IPython\n",
        "import IPython.display\n",
        "import matplotlib as mpl\n",
        "import matplotlib.pyplot as plt\n",
        "import numpy as np\n",
        "import pandas as pd\n",
        "import tensorflow as tf\n",
        "import tensorflow_datasets as tfds\n",
        "from sklearn.preprocessing import MinMaxScaler\n",
        "\n",
        "from numpy import loadtxt\n",
        "from keras.models import Sequential\n",
        "from keras.layers import LSTM\n",
        "from keras.layers import Dense\n",
        "from keras.layers import Dropout\n",
        "\n",
        "from keras import layers\n",
        "from keras.optimizers import RMSprop\n",
        "from keras.layers import Bidirectional\n",
        "\n",
        "from math import sqrt\n",
        "from scipy.stats.stats import pearsonr, spearmanr\n",
        "from sklearn.metrics import mean_absolute_error,mean_squared_error,r2_score"
      ],
      "execution_count": 162,
      "outputs": []
    },
    {
      "cell_type": "code",
      "metadata": {
        "id": "bBHlWjU0jQsx",
        "outputId": "7e1a4f04-4eef-4ee7-cca9-a5a48f45f541",
        "colab": {
          "base_uri": "https://localhost:8080/",
          "height": 244
        }
      },
      "source": [
        "drive.mount(\"/content/drive\")\n",
        "df = pd.read_csv('/content/drive/My Drive/Colab Notebooks/Sentiment/features_60frames_allsongs.csv')\n",
        "df.head()\n"
      ],
      "execution_count": 163,
      "outputs": [
        {
          "output_type": "stream",
          "text": [
            "Drive already mounted at /content/drive; to attempt to forcibly remount, call drive.mount(\"/content/drive\", force_remount=True).\n"
          ],
          "name": "stdout"
        },
        {
          "output_type": "execute_result",
          "data": {
            "text/html": [
              "<div>\n",
              "<style scoped>\n",
              "    .dataframe tbody tr th:only-of-type {\n",
              "        vertical-align: middle;\n",
              "    }\n",
              "\n",
              "    .dataframe tbody tr th {\n",
              "        vertical-align: top;\n",
              "    }\n",
              "\n",
              "    .dataframe thead th {\n",
              "        text-align: right;\n",
              "    }\n",
              "</style>\n",
              "<table border=\"1\" class=\"dataframe\">\n",
              "  <thead>\n",
              "    <tr style=\"text-align: right;\">\n",
              "      <th></th>\n",
              "      <th>song_id</th>\n",
              "      <th>frame_num</th>\n",
              "      <th>zcr</th>\n",
              "      <th>rms</th>\n",
              "      <th>spectral_centroid</th>\n",
              "      <th>spectral_bandwidth</th>\n",
              "      <th>spectral_rolloff</th>\n",
              "      <th>spectral_contrast</th>\n",
              "      <th>spectral_flatness</th>\n",
              "      <th>melspectrogram</th>\n",
              "      <th>mfcc_0</th>\n",
              "      <th>mfcc_1</th>\n",
              "      <th>mfcc_2</th>\n",
              "      <th>mfcc_3</th>\n",
              "      <th>mfcc_4</th>\n",
              "      <th>mfcc_5</th>\n",
              "      <th>mfcc_6</th>\n",
              "      <th>mfcc_7</th>\n",
              "      <th>mfcc_8</th>\n",
              "      <th>mfcc_9</th>\n",
              "      <th>mfcc_10</th>\n",
              "      <th>mfcc_11</th>\n",
              "      <th>mfcc_12</th>\n",
              "      <th>mfcc_13</th>\n",
              "      <th>mfcc_14</th>\n",
              "      <th>mfcc_15</th>\n",
              "      <th>mfcc_16</th>\n",
              "      <th>mfcc_17</th>\n",
              "      <th>mfcc_18</th>\n",
              "      <th>mfcc_19</th>\n",
              "      <th>chroma_stft_0</th>\n",
              "      <th>chroma_stft_1</th>\n",
              "      <th>chroma_stft_2</th>\n",
              "      <th>chroma_stft_3</th>\n",
              "      <th>chroma_stft_4</th>\n",
              "      <th>chroma_stft_5</th>\n",
              "      <th>chroma_stft_6</th>\n",
              "      <th>chroma_stft_7</th>\n",
              "      <th>chroma_stft_8</th>\n",
              "      <th>chroma_stft_9</th>\n",
              "      <th>chroma_stft_10</th>\n",
              "      <th>chroma_stft_11</th>\n",
              "      <th>chroma_cqt_0</th>\n",
              "      <th>chroma_cqt_1</th>\n",
              "      <th>chroma_cqt_2</th>\n",
              "      <th>chroma_cqt_3</th>\n",
              "      <th>chroma_cqt_4</th>\n",
              "      <th>chroma_cqt_5</th>\n",
              "      <th>chroma_cqt_6</th>\n",
              "      <th>chroma_cqt_7</th>\n",
              "      <th>chroma_cqt_8</th>\n",
              "      <th>chroma_cqt_9</th>\n",
              "      <th>chroma_cqt_10</th>\n",
              "      <th>chroma_cqt_11</th>\n",
              "      <th>chroma_cens_0</th>\n",
              "      <th>chroma_cens_1</th>\n",
              "      <th>chroma_cens_2</th>\n",
              "      <th>chroma_cens_3</th>\n",
              "      <th>chroma_cens_4</th>\n",
              "      <th>chroma_cens_5</th>\n",
              "      <th>chroma_cens_6</th>\n",
              "      <th>chroma_cens_7</th>\n",
              "      <th>chroma_cens_8</th>\n",
              "      <th>chroma_cens_9</th>\n",
              "      <th>chroma_cens_10</th>\n",
              "      <th>chroma_cens_11</th>\n",
              "      <th>tonnetz_0</th>\n",
              "      <th>tonnetz_1</th>\n",
              "      <th>tonnetz_2</th>\n",
              "      <th>tonnetz_3</th>\n",
              "      <th>tonnetz_4</th>\n",
              "      <th>tonnetz_5</th>\n",
              "      <th>valence</th>\n",
              "      <th>arousal</th>\n",
              "    </tr>\n",
              "  </thead>\n",
              "  <tbody>\n",
              "    <tr>\n",
              "      <th>0</th>\n",
              "      <td>2</td>\n",
              "      <td>0</td>\n",
              "      <td>0.157715</td>\n",
              "      <td>0.000011</td>\n",
              "      <td>5604.262879</td>\n",
              "      <td>3246.069688</td>\n",
              "      <td>9549.975586</td>\n",
              "      <td>18.349374</td>\n",
              "      <td>0.283305</td>\n",
              "      <td>0.000000</td>\n",
              "      <td>-636.134705</td>\n",
              "      <td>0.000000</td>\n",
              "      <td>0.000000</td>\n",
              "      <td>0.000000</td>\n",
              "      <td>0.000000</td>\n",
              "      <td>0.000000</td>\n",
              "      <td>0.000000</td>\n",
              "      <td>0.000000</td>\n",
              "      <td>0.000000</td>\n",
              "      <td>0.000000</td>\n",
              "      <td>0.000000</td>\n",
              "      <td>0.000000</td>\n",
              "      <td>0.000000</td>\n",
              "      <td>0.000000</td>\n",
              "      <td>0.000000</td>\n",
              "      <td>0.000000</td>\n",
              "      <td>0.000000</td>\n",
              "      <td>0.000000</td>\n",
              "      <td>0.000000</td>\n",
              "      <td>0.000000</td>\n",
              "      <td>0.654255</td>\n",
              "      <td>0.699066</td>\n",
              "      <td>0.261531</td>\n",
              "      <td>0.874848</td>\n",
              "      <td>1.000000</td>\n",
              "      <td>0.333313</td>\n",
              "      <td>0.812421</td>\n",
              "      <td>0.488101</td>\n",
              "      <td>0.413135</td>\n",
              "      <td>0.640419</td>\n",
              "      <td>0.671442</td>\n",
              "      <td>0.490904</td>\n",
              "      <td>0.725918</td>\n",
              "      <td>0.250459</td>\n",
              "      <td>0.284098</td>\n",
              "      <td>0.647150</td>\n",
              "      <td>0.349017</td>\n",
              "      <td>0.147453</td>\n",
              "      <td>0.501239</td>\n",
              "      <td>0.074669</td>\n",
              "      <td>0.070883</td>\n",
              "      <td>0.633342</td>\n",
              "      <td>0.184297</td>\n",
              "      <td>0.136420</td>\n",
              "      <td>0.700169</td>\n",
              "      <td>0.030602</td>\n",
              "      <td>0.209675</td>\n",
              "      <td>0.828279</td>\n",
              "      <td>0.124886</td>\n",
              "      <td>0.257948</td>\n",
              "      <td>1.000000</td>\n",
              "      <td>0.071105</td>\n",
              "      <td>0.309559</td>\n",
              "      <td>0.798000</td>\n",
              "      <td>0.076693</td>\n",
              "      <td>0.276441</td>\n",
              "      <td>-0.134078</td>\n",
              "      <td>0.072852</td>\n",
              "      <td>-0.134683</td>\n",
              "      <td>0.086125</td>\n",
              "      <td>0.060471</td>\n",
              "      <td>0.042898</td>\n",
              "      <td>-0.073341</td>\n",
              "      <td>-0.109386</td>\n",
              "    </tr>\n",
              "    <tr>\n",
              "      <th>1</th>\n",
              "      <td>2</td>\n",
              "      <td>1</td>\n",
              "      <td>0.051758</td>\n",
              "      <td>0.096817</td>\n",
              "      <td>1443.667160</td>\n",
              "      <td>2057.611806</td>\n",
              "      <td>3036.181641</td>\n",
              "      <td>27.017306</td>\n",
              "      <td>0.003931</td>\n",
              "      <td>1.576688</td>\n",
              "      <td>-120.319748</td>\n",
              "      <td>129.464996</td>\n",
              "      <td>-4.253306</td>\n",
              "      <td>22.214062</td>\n",
              "      <td>8.163963</td>\n",
              "      <td>16.415987</td>\n",
              "      <td>15.152133</td>\n",
              "      <td>7.878392</td>\n",
              "      <td>-6.823561</td>\n",
              "      <td>-0.831550</td>\n",
              "      <td>-7.218902</td>\n",
              "      <td>-4.558928</td>\n",
              "      <td>-1.807601</td>\n",
              "      <td>12.948887</td>\n",
              "      <td>-9.162554</td>\n",
              "      <td>-3.758020</td>\n",
              "      <td>-5.506585</td>\n",
              "      <td>-1.227700</td>\n",
              "      <td>-4.439484</td>\n",
              "      <td>1.684063</td>\n",
              "      <td>0.528904</td>\n",
              "      <td>0.624552</td>\n",
              "      <td>0.263783</td>\n",
              "      <td>0.891966</td>\n",
              "      <td>0.850903</td>\n",
              "      <td>0.331133</td>\n",
              "      <td>1.000000</td>\n",
              "      <td>1.000000</td>\n",
              "      <td>0.408033</td>\n",
              "      <td>0.713866</td>\n",
              "      <td>0.681263</td>\n",
              "      <td>0.480444</td>\n",
              "      <td>0.245905</td>\n",
              "      <td>0.378263</td>\n",
              "      <td>0.278916</td>\n",
              "      <td>0.160639</td>\n",
              "      <td>0.397115</td>\n",
              "      <td>0.147040</td>\n",
              "      <td>0.285743</td>\n",
              "      <td>0.536704</td>\n",
              "      <td>0.072041</td>\n",
              "      <td>0.314144</td>\n",
              "      <td>0.652729</td>\n",
              "      <td>0.144099</td>\n",
              "      <td>0.269362</td>\n",
              "      <td>0.637670</td>\n",
              "      <td>0.218737</td>\n",
              "      <td>0.382769</td>\n",
              "      <td>0.677961</td>\n",
              "      <td>0.263132</td>\n",
              "      <td>0.424450</td>\n",
              "      <td>0.649488</td>\n",
              "      <td>0.317883</td>\n",
              "      <td>0.517798</td>\n",
              "      <td>0.579528</td>\n",
              "      <td>0.282752</td>\n",
              "      <td>-0.088692</td>\n",
              "      <td>0.052331</td>\n",
              "      <td>-0.112961</td>\n",
              "      <td>0.075804</td>\n",
              "      <td>0.041915</td>\n",
              "      <td>0.033029</td>\n",
              "      <td>-0.074661</td>\n",
              "      <td>-0.114942</td>\n",
              "    </tr>\n",
              "    <tr>\n",
              "      <th>2</th>\n",
              "      <td>2</td>\n",
              "      <td>2</td>\n",
              "      <td>0.101562</td>\n",
              "      <td>0.096426</td>\n",
              "      <td>2348.097128</td>\n",
              "      <td>2387.006355</td>\n",
              "      <td>4941.870117</td>\n",
              "      <td>22.434103</td>\n",
              "      <td>0.013857</td>\n",
              "      <td>0.152583</td>\n",
              "      <td>-107.915352</td>\n",
              "      <td>76.319107</td>\n",
              "      <td>-14.175928</td>\n",
              "      <td>45.124214</td>\n",
              "      <td>1.209538</td>\n",
              "      <td>7.516734</td>\n",
              "      <td>-5.023264</td>\n",
              "      <td>6.480774</td>\n",
              "      <td>-0.513962</td>\n",
              "      <td>8.108901</td>\n",
              "      <td>-0.198636</td>\n",
              "      <td>-3.022716</td>\n",
              "      <td>2.078595</td>\n",
              "      <td>4.819644</td>\n",
              "      <td>-16.200150</td>\n",
              "      <td>-3.348299</td>\n",
              "      <td>-5.746615</td>\n",
              "      <td>-9.680576</td>\n",
              "      <td>-17.688511</td>\n",
              "      <td>-5.846364</td>\n",
              "      <td>0.190785</td>\n",
              "      <td>0.290683</td>\n",
              "      <td>0.265836</td>\n",
              "      <td>0.206553</td>\n",
              "      <td>0.217986</td>\n",
              "      <td>0.329024</td>\n",
              "      <td>0.491271</td>\n",
              "      <td>0.576434</td>\n",
              "      <td>0.402986</td>\n",
              "      <td>1.000000</td>\n",
              "      <td>0.924618</td>\n",
              "      <td>0.469653</td>\n",
              "      <td>0.706139</td>\n",
              "      <td>0.605435</td>\n",
              "      <td>0.273279</td>\n",
              "      <td>0.307669</td>\n",
              "      <td>0.224213</td>\n",
              "      <td>0.146400</td>\n",
              "      <td>0.107266</td>\n",
              "      <td>0.206321</td>\n",
              "      <td>0.073380</td>\n",
              "      <td>0.222554</td>\n",
              "      <td>0.297425</td>\n",
              "      <td>0.151825</td>\n",
              "      <td>0.408395</td>\n",
              "      <td>0.409732</td>\n",
              "      <td>0.227828</td>\n",
              "      <td>0.563377</td>\n",
              "      <td>0.734764</td>\n",
              "      <td>0.268284</td>\n",
              "      <td>0.755202</td>\n",
              "      <td>1.000000</td>\n",
              "      <td>0.326054</td>\n",
              "      <td>0.528056</td>\n",
              "      <td>0.687259</td>\n",
              "      <td>0.288720</td>\n",
              "      <td>-0.034494</td>\n",
              "      <td>0.031843</td>\n",
              "      <td>-0.070020</td>\n",
              "      <td>0.068549</td>\n",
              "      <td>0.021691</td>\n",
              "      <td>0.023202</td>\n",
              "      <td>-0.074077</td>\n",
              "      <td>-0.116413</td>\n",
              "    </tr>\n",
              "    <tr>\n",
              "      <th>3</th>\n",
              "      <td>2</td>\n",
              "      <td>3</td>\n",
              "      <td>0.062500</td>\n",
              "      <td>0.086847</td>\n",
              "      <td>1692.187106</td>\n",
              "      <td>1872.280637</td>\n",
              "      <td>3219.213867</td>\n",
              "      <td>21.295763</td>\n",
              "      <td>0.004178</td>\n",
              "      <td>0.224268</td>\n",
              "      <td>-148.255432</td>\n",
              "      <td>121.565720</td>\n",
              "      <td>-36.703545</td>\n",
              "      <td>33.151939</td>\n",
              "      <td>4.518500</td>\n",
              "      <td>5.197342</td>\n",
              "      <td>-8.610166</td>\n",
              "      <td>4.267920</td>\n",
              "      <td>8.706326</td>\n",
              "      <td>-17.273952</td>\n",
              "      <td>-11.429454</td>\n",
              "      <td>4.515498</td>\n",
              "      <td>-7.324573</td>\n",
              "      <td>4.467141</td>\n",
              "      <td>-13.720921</td>\n",
              "      <td>-3.195490</td>\n",
              "      <td>-3.931114</td>\n",
              "      <td>-7.317858</td>\n",
              "      <td>-15.654930</td>\n",
              "      <td>-15.824336</td>\n",
              "      <td>0.245845</td>\n",
              "      <td>0.300974</td>\n",
              "      <td>0.267710</td>\n",
              "      <td>0.523842</td>\n",
              "      <td>0.578168</td>\n",
              "      <td>0.326966</td>\n",
              "      <td>1.000000</td>\n",
              "      <td>0.842026</td>\n",
              "      <td>0.397746</td>\n",
              "      <td>0.846539</td>\n",
              "      <td>1.000000</td>\n",
              "      <td>0.458391</td>\n",
              "      <td>0.477668</td>\n",
              "      <td>0.673670</td>\n",
              "      <td>0.267148</td>\n",
              "      <td>0.095004</td>\n",
              "      <td>0.189054</td>\n",
              "      <td>0.145584</td>\n",
              "      <td>0.031817</td>\n",
              "      <td>0.101448</td>\n",
              "      <td>0.075003</td>\n",
              "      <td>0.024125</td>\n",
              "      <td>0.114284</td>\n",
              "      <td>0.159790</td>\n",
              "      <td>0.044276</td>\n",
              "      <td>0.137589</td>\n",
              "      <td>0.237066</td>\n",
              "      <td>0.215029</td>\n",
              "      <td>0.300263</td>\n",
              "      <td>0.273559</td>\n",
              "      <td>0.177739</td>\n",
              "      <td>0.341496</td>\n",
              "      <td>0.334054</td>\n",
              "      <td>0.110806</td>\n",
              "      <td>0.207098</td>\n",
              "      <td>0.294537</td>\n",
              "      <td>-0.013095</td>\n",
              "      <td>0.020309</td>\n",
              "      <td>-0.055259</td>\n",
              "      <td>0.034349</td>\n",
              "      <td>0.011610</td>\n",
              "      <td>0.012032</td>\n",
              "      <td>-0.078154</td>\n",
              "      <td>-0.118613</td>\n",
              "    </tr>\n",
              "    <tr>\n",
              "      <th>4</th>\n",
              "      <td>2</td>\n",
              "      <td>4</td>\n",
              "      <td>0.120605</td>\n",
              "      <td>0.113167</td>\n",
              "      <td>2632.895857</td>\n",
              "      <td>2453.043616</td>\n",
              "      <td>5329.467773</td>\n",
              "      <td>18.914987</td>\n",
              "      <td>0.025196</td>\n",
              "      <td>1.035493</td>\n",
              "      <td>-71.919838</td>\n",
              "      <td>76.267471</td>\n",
              "      <td>-28.003765</td>\n",
              "      <td>15.988888</td>\n",
              "      <td>4.667567</td>\n",
              "      <td>35.548042</td>\n",
              "      <td>-6.664427</td>\n",
              "      <td>-5.128408</td>\n",
              "      <td>9.827440</td>\n",
              "      <td>-1.635414</td>\n",
              "      <td>-5.240368</td>\n",
              "      <td>-1.569069</td>\n",
              "      <td>-1.458279</td>\n",
              "      <td>7.581460</td>\n",
              "      <td>-16.175152</td>\n",
              "      <td>-6.295955</td>\n",
              "      <td>-9.435411</td>\n",
              "      <td>-3.781498</td>\n",
              "      <td>-8.782184</td>\n",
              "      <td>-7.635081</td>\n",
              "      <td>0.223808</td>\n",
              "      <td>0.355715</td>\n",
              "      <td>0.269517</td>\n",
              "      <td>0.202841</td>\n",
              "      <td>0.376315</td>\n",
              "      <td>0.324933</td>\n",
              "      <td>0.624933</td>\n",
              "      <td>0.684395</td>\n",
              "      <td>0.392219</td>\n",
              "      <td>1.000000</td>\n",
              "      <td>1.000000</td>\n",
              "      <td>0.446547</td>\n",
              "      <td>0.319092</td>\n",
              "      <td>0.448243</td>\n",
              "      <td>0.260494</td>\n",
              "      <td>0.103011</td>\n",
              "      <td>0.139945</td>\n",
              "      <td>0.144729</td>\n",
              "      <td>0.191945</td>\n",
              "      <td>0.245747</td>\n",
              "      <td>0.076884</td>\n",
              "      <td>0.266807</td>\n",
              "      <td>0.286048</td>\n",
              "      <td>0.167931</td>\n",
              "      <td>0.120557</td>\n",
              "      <td>0.326037</td>\n",
              "      <td>0.246430</td>\n",
              "      <td>0.267567</td>\n",
              "      <td>0.356422</td>\n",
              "      <td>0.278966</td>\n",
              "      <td>0.506787</td>\n",
              "      <td>0.398466</td>\n",
              "      <td>0.341865</td>\n",
              "      <td>0.328212</td>\n",
              "      <td>0.283725</td>\n",
              "      <td>0.300338</td>\n",
              "      <td>-0.001744</td>\n",
              "      <td>0.005818</td>\n",
              "      <td>-0.024928</td>\n",
              "      <td>-0.016238</td>\n",
              "      <td>0.001600</td>\n",
              "      <td>0.001166</td>\n",
              "      <td>-0.081588</td>\n",
              "      <td>-0.126457</td>\n",
              "    </tr>\n",
              "  </tbody>\n",
              "</table>\n",
              "</div>"
            ],
            "text/plain": [
              "   song_id  frame_num       zcr  ...  tonnetz_5   valence   arousal\n",
              "0        2          0  0.157715  ...   0.042898 -0.073341 -0.109386\n",
              "1        2          1  0.051758  ...   0.033029 -0.074661 -0.114942\n",
              "2        2          2  0.101562  ...   0.023202 -0.074077 -0.116413\n",
              "3        2          3  0.062500  ...   0.012032 -0.078154 -0.118613\n",
              "4        2          4  0.120605  ...   0.001166 -0.081588 -0.126457\n",
              "\n",
              "[5 rows x 74 columns]"
            ]
          },
          "metadata": {
            "tags": []
          },
          "execution_count": 163
        }
      ]
    },
    {
      "cell_type": "code",
      "metadata": {
        "id": "RZbxLv5TYf_L",
        "outputId": "15eabcd4-c33a-49c4-f3f3-287276f19b23",
        "colab": {
          "base_uri": "https://localhost:8080/"
        }
      },
      "source": [
        "df.shape"
      ],
      "execution_count": 164,
      "outputs": [
        {
          "output_type": "execute_result",
          "data": {
            "text/plain": [
              "(104640, 74)"
            ]
          },
          "metadata": {
            "tags": []
          },
          "execution_count": 164
        }
      ]
    },
    {
      "cell_type": "code",
      "metadata": {
        "id": "2j1vh4AKW9hf"
      },
      "source": [
        "df =df.iloc[np.random.permutation(np.arange(104640).reshape(-1,60)).ravel()]"
      ],
      "execution_count": 165,
      "outputs": []
    },
    {
      "cell_type": "code",
      "metadata": {
        "id": "6QzFAy0YXqwe"
      },
      "source": [
        "# df.to_csv('/content/drive/My Drive/Colab Notebooks/Sentiment/shuffled_data.csv',index=False)"
      ],
      "execution_count": 166,
      "outputs": []
    },
    {
      "cell_type": "code",
      "metadata": {
        "id": "Z8T9KBOOXbBI",
        "outputId": "6843c172-3d5c-4c78-e387-23b914115fc2",
        "colab": {
          "base_uri": "https://localhost:8080/"
        }
      },
      "source": [
        "df.shape"
      ],
      "execution_count": 167,
      "outputs": [
        {
          "output_type": "execute_result",
          "data": {
            "text/plain": [
              "(104640, 74)"
            ]
          },
          "metadata": {
            "tags": []
          },
          "execution_count": 167
        }
      ]
    },
    {
      "cell_type": "code",
      "metadata": {
        "id": "n-hTjsnHYYiF",
        "outputId": "9fd77c30-d6c9-4910-9ea6-4bd2f268e209",
        "colab": {
          "base_uri": "https://localhost:8080/"
        }
      },
      "source": [
        "df.pop('song_id')\n",
        "df.pop('frame_num')"
      ],
      "execution_count": 168,
      "outputs": [
        {
          "output_type": "execute_result",
          "data": {
            "text/plain": [
              "67500      0\n",
              "67501      1\n",
              "67502      2\n",
              "67503      3\n",
              "67504      4\n",
              "          ..\n",
              "104035    55\n",
              "104036    56\n",
              "104037    57\n",
              "104038    58\n",
              "104039    59\n",
              "Name: frame_num, Length: 104640, dtype: int64"
            ]
          },
          "metadata": {
            "tags": []
          },
          "execution_count": 168
        }
      ]
    },
    {
      "cell_type": "code",
      "metadata": {
        "id": "yrUOopsQY6kx",
        "outputId": "ea5c2118-e858-41a1-8dd6-b675ca93a405",
        "colab": {
          "base_uri": "https://localhost:8080/",
          "height": 224
        }
      },
      "source": [
        "y = df.loc[:,'valence':'arousal']\n",
        "print(y.shape)\n",
        "y.head()"
      ],
      "execution_count": 169,
      "outputs": [
        {
          "output_type": "stream",
          "text": [
            "(104640, 2)\n"
          ],
          "name": "stdout"
        },
        {
          "output_type": "execute_result",
          "data": {
            "text/html": [
              "<div>\n",
              "<style scoped>\n",
              "    .dataframe tbody tr th:only-of-type {\n",
              "        vertical-align: middle;\n",
              "    }\n",
              "\n",
              "    .dataframe tbody tr th {\n",
              "        vertical-align: top;\n",
              "    }\n",
              "\n",
              "    .dataframe thead th {\n",
              "        text-align: right;\n",
              "    }\n",
              "</style>\n",
              "<table border=\"1\" class=\"dataframe\">\n",
              "  <thead>\n",
              "    <tr style=\"text-align: right;\">\n",
              "      <th></th>\n",
              "      <th>valence</th>\n",
              "      <th>arousal</th>\n",
              "    </tr>\n",
              "  </thead>\n",
              "  <tbody>\n",
              "    <tr>\n",
              "      <th>67500</th>\n",
              "      <td>0.232</td>\n",
              "      <td>0.233</td>\n",
              "    </tr>\n",
              "    <tr>\n",
              "      <th>67501</th>\n",
              "      <td>0.230</td>\n",
              "      <td>0.236</td>\n",
              "    </tr>\n",
              "    <tr>\n",
              "      <th>67502</th>\n",
              "      <td>0.231</td>\n",
              "      <td>0.243</td>\n",
              "    </tr>\n",
              "    <tr>\n",
              "      <th>67503</th>\n",
              "      <td>0.229</td>\n",
              "      <td>0.249</td>\n",
              "    </tr>\n",
              "    <tr>\n",
              "      <th>67504</th>\n",
              "      <td>0.221</td>\n",
              "      <td>0.261</td>\n",
              "    </tr>\n",
              "  </tbody>\n",
              "</table>\n",
              "</div>"
            ],
            "text/plain": [
              "       valence  arousal\n",
              "67500    0.232    0.233\n",
              "67501    0.230    0.236\n",
              "67502    0.231    0.243\n",
              "67503    0.229    0.249\n",
              "67504    0.221    0.261"
            ]
          },
          "metadata": {
            "tags": []
          },
          "execution_count": 169
        }
      ]
    },
    {
      "cell_type": "code",
      "metadata": {
        "id": "43fIaAjPySoy",
        "outputId": "1bcf609e-a7c3-49bb-d3cd-0a0de0879ddb",
        "colab": {
          "base_uri": "https://localhost:8080/"
        }
      },
      "source": [
        "df.pop('valence')\n",
        "df.pop('arousal')"
      ],
      "execution_count": 170,
      "outputs": [
        {
          "output_type": "execute_result",
          "data": {
            "text/plain": [
              "67500     0.233\n",
              "67501     0.236\n",
              "67502     0.243\n",
              "67503     0.249\n",
              "67504     0.261\n",
              "          ...  \n",
              "104035   -0.025\n",
              "104036   -0.029\n",
              "104037   -0.033\n",
              "104038   -0.029\n",
              "104039   -0.016\n",
              "Name: arousal, Length: 104640, dtype: float64"
            ]
          },
          "metadata": {
            "tags": []
          },
          "execution_count": 170
        }
      ]
    },
    {
      "cell_type": "code",
      "metadata": {
        "id": "owPx7nW_yZwi",
        "outputId": "a2eeb097-84e6-4109-cfda-cc9f67f42ebe",
        "colab": {
          "base_uri": "https://localhost:8080/",
          "height": 226
        }
      },
      "source": [
        "df.head()\n"
      ],
      "execution_count": 171,
      "outputs": [
        {
          "output_type": "execute_result",
          "data": {
            "text/html": [
              "<div>\n",
              "<style scoped>\n",
              "    .dataframe tbody tr th:only-of-type {\n",
              "        vertical-align: middle;\n",
              "    }\n",
              "\n",
              "    .dataframe tbody tr th {\n",
              "        vertical-align: top;\n",
              "    }\n",
              "\n",
              "    .dataframe thead th {\n",
              "        text-align: right;\n",
              "    }\n",
              "</style>\n",
              "<table border=\"1\" class=\"dataframe\">\n",
              "  <thead>\n",
              "    <tr style=\"text-align: right;\">\n",
              "      <th></th>\n",
              "      <th>zcr</th>\n",
              "      <th>rms</th>\n",
              "      <th>spectral_centroid</th>\n",
              "      <th>spectral_bandwidth</th>\n",
              "      <th>spectral_rolloff</th>\n",
              "      <th>spectral_contrast</th>\n",
              "      <th>spectral_flatness</th>\n",
              "      <th>melspectrogram</th>\n",
              "      <th>mfcc_0</th>\n",
              "      <th>mfcc_1</th>\n",
              "      <th>mfcc_2</th>\n",
              "      <th>mfcc_3</th>\n",
              "      <th>mfcc_4</th>\n",
              "      <th>mfcc_5</th>\n",
              "      <th>mfcc_6</th>\n",
              "      <th>mfcc_7</th>\n",
              "      <th>mfcc_8</th>\n",
              "      <th>mfcc_9</th>\n",
              "      <th>mfcc_10</th>\n",
              "      <th>mfcc_11</th>\n",
              "      <th>mfcc_12</th>\n",
              "      <th>mfcc_13</th>\n",
              "      <th>mfcc_14</th>\n",
              "      <th>mfcc_15</th>\n",
              "      <th>mfcc_16</th>\n",
              "      <th>mfcc_17</th>\n",
              "      <th>mfcc_18</th>\n",
              "      <th>mfcc_19</th>\n",
              "      <th>chroma_stft_0</th>\n",
              "      <th>chroma_stft_1</th>\n",
              "      <th>chroma_stft_2</th>\n",
              "      <th>chroma_stft_3</th>\n",
              "      <th>chroma_stft_4</th>\n",
              "      <th>chroma_stft_5</th>\n",
              "      <th>chroma_stft_6</th>\n",
              "      <th>chroma_stft_7</th>\n",
              "      <th>chroma_stft_8</th>\n",
              "      <th>chroma_stft_9</th>\n",
              "      <th>chroma_stft_10</th>\n",
              "      <th>chroma_stft_11</th>\n",
              "      <th>chroma_cqt_0</th>\n",
              "      <th>chroma_cqt_1</th>\n",
              "      <th>chroma_cqt_2</th>\n",
              "      <th>chroma_cqt_3</th>\n",
              "      <th>chroma_cqt_4</th>\n",
              "      <th>chroma_cqt_5</th>\n",
              "      <th>chroma_cqt_6</th>\n",
              "      <th>chroma_cqt_7</th>\n",
              "      <th>chroma_cqt_8</th>\n",
              "      <th>chroma_cqt_9</th>\n",
              "      <th>chroma_cqt_10</th>\n",
              "      <th>chroma_cqt_11</th>\n",
              "      <th>chroma_cens_0</th>\n",
              "      <th>chroma_cens_1</th>\n",
              "      <th>chroma_cens_2</th>\n",
              "      <th>chroma_cens_3</th>\n",
              "      <th>chroma_cens_4</th>\n",
              "      <th>chroma_cens_5</th>\n",
              "      <th>chroma_cens_6</th>\n",
              "      <th>chroma_cens_7</th>\n",
              "      <th>chroma_cens_8</th>\n",
              "      <th>chroma_cens_9</th>\n",
              "      <th>chroma_cens_10</th>\n",
              "      <th>chroma_cens_11</th>\n",
              "      <th>tonnetz_0</th>\n",
              "      <th>tonnetz_1</th>\n",
              "      <th>tonnetz_2</th>\n",
              "      <th>tonnetz_3</th>\n",
              "      <th>tonnetz_4</th>\n",
              "      <th>tonnetz_5</th>\n",
              "    </tr>\n",
              "  </thead>\n",
              "  <tbody>\n",
              "    <tr>\n",
              "      <th>67500</th>\n",
              "      <td>0.114258</td>\n",
              "      <td>0.055432</td>\n",
              "      <td>1827.251352</td>\n",
              "      <td>2247.662126</td>\n",
              "      <td>3832.910156</td>\n",
              "      <td>18.920545</td>\n",
              "      <td>0.008750</td>\n",
              "      <td>0.006562</td>\n",
              "      <td>-396.142639</td>\n",
              "      <td>120.910706</td>\n",
              "      <td>0.573588</td>\n",
              "      <td>0.693856</td>\n",
              "      <td>-21.688549</td>\n",
              "      <td>-10.846865</td>\n",
              "      <td>10.666288</td>\n",
              "      <td>2.888609</td>\n",
              "      <td>6.945567</td>\n",
              "      <td>1.628537</td>\n",
              "      <td>7.508766</td>\n",
              "      <td>-2.241290</td>\n",
              "      <td>-6.218233</td>\n",
              "      <td>-4.262554</td>\n",
              "      <td>-6.379598</td>\n",
              "      <td>1.999012</td>\n",
              "      <td>-2.788420</td>\n",
              "      <td>-1.861445</td>\n",
              "      <td>3.488858</td>\n",
              "      <td>4.707385</td>\n",
              "      <td>0.355172</td>\n",
              "      <td>0.448455</td>\n",
              "      <td>0.307056</td>\n",
              "      <td>0.363345</td>\n",
              "      <td>0.553089</td>\n",
              "      <td>0.350189</td>\n",
              "      <td>0.423829</td>\n",
              "      <td>0.603772</td>\n",
              "      <td>0.235921</td>\n",
              "      <td>0.579991</td>\n",
              "      <td>1.000000</td>\n",
              "      <td>0.224437</td>\n",
              "      <td>0.673790</td>\n",
              "      <td>0.550733</td>\n",
              "      <td>0.281469</td>\n",
              "      <td>1.000000</td>\n",
              "      <td>0.946564</td>\n",
              "      <td>0.327507</td>\n",
              "      <td>0.974398</td>\n",
              "      <td>0.306073</td>\n",
              "      <td>0.253240</td>\n",
              "      <td>0.576282</td>\n",
              "      <td>0.520167</td>\n",
              "      <td>0.337022</td>\n",
              "      <td>0.526472</td>\n",
              "      <td>0.511172</td>\n",
              "      <td>0.306016</td>\n",
              "      <td>0.803759</td>\n",
              "      <td>0.367364</td>\n",
              "      <td>0.306245</td>\n",
              "      <td>0.481729</td>\n",
              "      <td>0.180817</td>\n",
              "      <td>0.253951</td>\n",
              "      <td>0.329179</td>\n",
              "      <td>0.368589</td>\n",
              "      <td>0.246843</td>\n",
              "      <td>-0.084561</td>\n",
              "      <td>0.074842</td>\n",
              "      <td>0.003420</td>\n",
              "      <td>0.066023</td>\n",
              "      <td>-0.042594</td>\n",
              "      <td>0.000349</td>\n",
              "    </tr>\n",
              "    <tr>\n",
              "      <th>67501</th>\n",
              "      <td>0.038086</td>\n",
              "      <td>0.121555</td>\n",
              "      <td>872.306734</td>\n",
              "      <td>1213.874654</td>\n",
              "      <td>1528.857422</td>\n",
              "      <td>17.163761</td>\n",
              "      <td>0.000163</td>\n",
              "      <td>5.130683</td>\n",
              "      <td>-218.266449</td>\n",
              "      <td>199.997375</td>\n",
              "      <td>-18.331976</td>\n",
              "      <td>55.968880</td>\n",
              "      <td>-18.832420</td>\n",
              "      <td>-12.078157</td>\n",
              "      <td>31.799479</td>\n",
              "      <td>-0.541484</td>\n",
              "      <td>7.030054</td>\n",
              "      <td>4.444386</td>\n",
              "      <td>-0.152206</td>\n",
              "      <td>3.249923</td>\n",
              "      <td>-3.716457</td>\n",
              "      <td>-2.173933</td>\n",
              "      <td>-0.012266</td>\n",
              "      <td>7.452060</td>\n",
              "      <td>0.031279</td>\n",
              "      <td>6.996912</td>\n",
              "      <td>-4.375631</td>\n",
              "      <td>5.651297</td>\n",
              "      <td>0.396115</td>\n",
              "      <td>0.638878</td>\n",
              "      <td>0.307939</td>\n",
              "      <td>0.102109</td>\n",
              "      <td>0.587333</td>\n",
              "      <td>0.352294</td>\n",
              "      <td>0.061243</td>\n",
              "      <td>0.369334</td>\n",
              "      <td>0.236114</td>\n",
              "      <td>0.104916</td>\n",
              "      <td>0.348683</td>\n",
              "      <td>0.222025</td>\n",
              "      <td>0.740401</td>\n",
              "      <td>0.781796</td>\n",
              "      <td>0.275628</td>\n",
              "      <td>1.000000</td>\n",
              "      <td>1.000000</td>\n",
              "      <td>0.322140</td>\n",
              "      <td>0.155009</td>\n",
              "      <td>0.737529</td>\n",
              "      <td>0.254526</td>\n",
              "      <td>0.092174</td>\n",
              "      <td>0.665069</td>\n",
              "      <td>0.338442</td>\n",
              "      <td>0.147084</td>\n",
              "      <td>0.527076</td>\n",
              "      <td>0.304248</td>\n",
              "      <td>0.157279</td>\n",
              "      <td>0.433254</td>\n",
              "      <td>0.308344</td>\n",
              "      <td>0.049166</td>\n",
              "      <td>0.439118</td>\n",
              "      <td>0.259055</td>\n",
              "      <td>0.216197</td>\n",
              "      <td>0.485545</td>\n",
              "      <td>0.249386</td>\n",
              "      <td>-0.010653</td>\n",
              "      <td>0.019894</td>\n",
              "      <td>0.006246</td>\n",
              "      <td>0.051320</td>\n",
              "      <td>-0.008742</td>\n",
              "      <td>0.003695</td>\n",
              "    </tr>\n",
              "    <tr>\n",
              "      <th>67502</th>\n",
              "      <td>0.034180</td>\n",
              "      <td>0.190434</td>\n",
              "      <td>886.081060</td>\n",
              "      <td>1628.699414</td>\n",
              "      <td>1550.390625</td>\n",
              "      <td>19.650156</td>\n",
              "      <td>0.000384</td>\n",
              "      <td>19.895828</td>\n",
              "      <td>-189.324387</td>\n",
              "      <td>152.216614</td>\n",
              "      <td>12.739872</td>\n",
              "      <td>32.042313</td>\n",
              "      <td>6.351142</td>\n",
              "      <td>14.010340</td>\n",
              "      <td>31.374111</td>\n",
              "      <td>14.496212</td>\n",
              "      <td>14.495318</td>\n",
              "      <td>33.242401</td>\n",
              "      <td>0.192300</td>\n",
              "      <td>-7.003197</td>\n",
              "      <td>-13.620443</td>\n",
              "      <td>15.237366</td>\n",
              "      <td>1.840440</td>\n",
              "      <td>9.443641</td>\n",
              "      <td>-5.615952</td>\n",
              "      <td>-5.513485</td>\n",
              "      <td>-2.671668</td>\n",
              "      <td>-0.074013</td>\n",
              "      <td>0.195053</td>\n",
              "      <td>0.833508</td>\n",
              "      <td>0.309163</td>\n",
              "      <td>0.355931</td>\n",
              "      <td>0.865596</td>\n",
              "      <td>0.354393</td>\n",
              "      <td>0.414506</td>\n",
              "      <td>0.727291</td>\n",
              "      <td>0.236648</td>\n",
              "      <td>0.358473</td>\n",
              "      <td>0.766514</td>\n",
              "      <td>0.219928</td>\n",
              "      <td>0.208056</td>\n",
              "      <td>0.495121</td>\n",
              "      <td>0.269585</td>\n",
              "      <td>0.238240</td>\n",
              "      <td>0.590788</td>\n",
              "      <td>0.316748</td>\n",
              "      <td>0.156163</td>\n",
              "      <td>0.701209</td>\n",
              "      <td>0.255413</td>\n",
              "      <td>0.230935</td>\n",
              "      <td>1.000000</td>\n",
              "      <td>0.339542</td>\n",
              "      <td>0.469728</td>\n",
              "      <td>0.960405</td>\n",
              "      <td>0.302263</td>\n",
              "      <td>1.000000</td>\n",
              "      <td>0.777138</td>\n",
              "      <td>0.310031</td>\n",
              "      <td>0.208241</td>\n",
              "      <td>0.579283</td>\n",
              "      <td>0.264016</td>\n",
              "      <td>0.142150</td>\n",
              "      <td>0.721515</td>\n",
              "      <td>0.252461</td>\n",
              "      <td>0.022081</td>\n",
              "      <td>-0.005234</td>\n",
              "      <td>-0.063753</td>\n",
              "      <td>0.153990</td>\n",
              "      <td>-0.012902</td>\n",
              "      <td>0.002497</td>\n",
              "    </tr>\n",
              "    <tr>\n",
              "      <th>67503</th>\n",
              "      <td>0.025391</td>\n",
              "      <td>0.136881</td>\n",
              "      <td>765.268303</td>\n",
              "      <td>1356.848612</td>\n",
              "      <td>1281.225586</td>\n",
              "      <td>18.138461</td>\n",
              "      <td>0.000233</td>\n",
              "      <td>18.890882</td>\n",
              "      <td>-219.603775</td>\n",
              "      <td>168.773041</td>\n",
              "      <td>10.657866</td>\n",
              "      <td>56.606407</td>\n",
              "      <td>-16.183134</td>\n",
              "      <td>-3.427108</td>\n",
              "      <td>18.240604</td>\n",
              "      <td>20.259289</td>\n",
              "      <td>14.099522</td>\n",
              "      <td>40.262833</td>\n",
              "      <td>8.946842</td>\n",
              "      <td>7.046292</td>\n",
              "      <td>-10.629255</td>\n",
              "      <td>-16.880310</td>\n",
              "      <td>13.597317</td>\n",
              "      <td>19.355431</td>\n",
              "      <td>8.487907</td>\n",
              "      <td>-13.969538</td>\n",
              "      <td>-12.281852</td>\n",
              "      <td>9.959250</td>\n",
              "      <td>0.310057</td>\n",
              "      <td>0.902937</td>\n",
              "      <td>0.310791</td>\n",
              "      <td>0.450064</td>\n",
              "      <td>0.826279</td>\n",
              "      <td>0.356568</td>\n",
              "      <td>0.549170</td>\n",
              "      <td>0.605043</td>\n",
              "      <td>0.237447</td>\n",
              "      <td>0.628966</td>\n",
              "      <td>0.802778</td>\n",
              "      <td>0.218127</td>\n",
              "      <td>0.820712</td>\n",
              "      <td>0.880284</td>\n",
              "      <td>0.263334</td>\n",
              "      <td>0.723695</td>\n",
              "      <td>0.840420</td>\n",
              "      <td>0.311237</td>\n",
              "      <td>0.482207</td>\n",
              "      <td>0.783848</td>\n",
              "      <td>0.255848</td>\n",
              "      <td>0.672191</td>\n",
              "      <td>1.000000</td>\n",
              "      <td>0.340283</td>\n",
              "      <td>1.000000</td>\n",
              "      <td>0.839311</td>\n",
              "      <td>0.300077</td>\n",
              "      <td>0.607047</td>\n",
              "      <td>0.566211</td>\n",
              "      <td>0.311301</td>\n",
              "      <td>0.398904</td>\n",
              "      <td>0.605661</td>\n",
              "      <td>0.268875</td>\n",
              "      <td>0.346424</td>\n",
              "      <td>0.785540</td>\n",
              "      <td>0.256116</td>\n",
              "      <td>0.017431</td>\n",
              "      <td>-0.018258</td>\n",
              "      <td>0.015476</td>\n",
              "      <td>0.146241</td>\n",
              "      <td>0.006329</td>\n",
              "      <td>-0.012515</td>\n",
              "    </tr>\n",
              "    <tr>\n",
              "      <th>67504</th>\n",
              "      <td>0.070801</td>\n",
              "      <td>0.088296</td>\n",
              "      <td>1150.692973</td>\n",
              "      <td>1636.890706</td>\n",
              "      <td>1873.388672</td>\n",
              "      <td>20.643082</td>\n",
              "      <td>0.001057</td>\n",
              "      <td>2.652045</td>\n",
              "      <td>-180.000916</td>\n",
              "      <td>149.182648</td>\n",
              "      <td>-6.739173</td>\n",
              "      <td>10.275494</td>\n",
              "      <td>-14.146664</td>\n",
              "      <td>20.667248</td>\n",
              "      <td>24.636745</td>\n",
              "      <td>27.563103</td>\n",
              "      <td>0.521625</td>\n",
              "      <td>-0.356735</td>\n",
              "      <td>-24.792046</td>\n",
              "      <td>-5.426181</td>\n",
              "      <td>-0.226641</td>\n",
              "      <td>25.907578</td>\n",
              "      <td>15.964226</td>\n",
              "      <td>20.986324</td>\n",
              "      <td>10.921309</td>\n",
              "      <td>-12.361422</td>\n",
              "      <td>-27.177286</td>\n",
              "      <td>0.723817</td>\n",
              "      <td>0.972975</td>\n",
              "      <td>1.000000</td>\n",
              "      <td>0.312791</td>\n",
              "      <td>0.448301</td>\n",
              "      <td>0.981557</td>\n",
              "      <td>0.358905</td>\n",
              "      <td>0.243138</td>\n",
              "      <td>0.665727</td>\n",
              "      <td>0.238471</td>\n",
              "      <td>0.113222</td>\n",
              "      <td>0.372163</td>\n",
              "      <td>0.216625</td>\n",
              "      <td>0.189379</td>\n",
              "      <td>0.569159</td>\n",
              "      <td>0.256895</td>\n",
              "      <td>0.293246</td>\n",
              "      <td>0.869559</td>\n",
              "      <td>0.305565</td>\n",
              "      <td>0.233580</td>\n",
              "      <td>0.771546</td>\n",
              "      <td>0.255818</td>\n",
              "      <td>0.119919</td>\n",
              "      <td>0.700346</td>\n",
              "      <td>0.340564</td>\n",
              "      <td>0.113013</td>\n",
              "      <td>0.551812</td>\n",
              "      <td>0.297730</td>\n",
              "      <td>0.403001</td>\n",
              "      <td>0.726565</td>\n",
              "      <td>0.312182</td>\n",
              "      <td>0.858405</td>\n",
              "      <td>0.883154</td>\n",
              "      <td>0.273686</td>\n",
              "      <td>1.000000</td>\n",
              "      <td>0.795543</td>\n",
              "      <td>0.260302</td>\n",
              "      <td>0.021544</td>\n",
              "      <td>0.002095</td>\n",
              "      <td>-0.028643</td>\n",
              "      <td>0.125934</td>\n",
              "      <td>0.013457</td>\n",
              "      <td>-0.035391</td>\n",
              "    </tr>\n",
              "  </tbody>\n",
              "</table>\n",
              "</div>"
            ],
            "text/plain": [
              "            zcr       rms  spectral_centroid  ...  tonnetz_3  tonnetz_4  tonnetz_5\n",
              "67500  0.114258  0.055432        1827.251352  ...   0.066023  -0.042594   0.000349\n",
              "67501  0.038086  0.121555         872.306734  ...   0.051320  -0.008742   0.003695\n",
              "67502  0.034180  0.190434         886.081060  ...   0.153990  -0.012902   0.002497\n",
              "67503  0.025391  0.136881         765.268303  ...   0.146241   0.006329  -0.012515\n",
              "67504  0.070801  0.088296        1150.692973  ...   0.125934   0.013457  -0.035391\n",
              "\n",
              "[5 rows x 70 columns]"
            ]
          },
          "metadata": {
            "tags": []
          },
          "execution_count": 171
        }
      ]
    },
    {
      "cell_type": "code",
      "metadata": {
        "id": "Vp0ZBgdrwh-6"
      },
      "source": [
        "# df_mean = df.mean()\n",
        "# df_std = df.std()\n",
        "\n",
        "# df = (df - df_mean) / df_std\n"
      ],
      "execution_count": 172,
      "outputs": []
    },
    {
      "cell_type": "code",
      "metadata": {
        "id": "UeJr9UgKcOsd"
      },
      "source": [
        "# print(type(df))"
      ],
      "execution_count": 173,
      "outputs": []
    },
    {
      "cell_type": "code",
      "metadata": {
        "id": "yNKS_ddKXPe-"
      },
      "source": [
        "features = df.to_numpy()\n",
        "y = y.to_numpy()"
      ],
      "execution_count": 174,
      "outputs": []
    },
    {
      "cell_type": "code",
      "metadata": {
        "id": "4ZFq097oYHka",
        "outputId": "d36ed07e-9fe6-483c-ccd8-3f8fbbe93e4b",
        "colab": {
          "base_uri": "https://localhost:8080/"
        }
      },
      "source": [
        "print(features.shape)\n",
        "print(y.shape)"
      ],
      "execution_count": 175,
      "outputs": [
        {
          "output_type": "stream",
          "text": [
            "(104640, 70)\n",
            "(104640, 2)\n"
          ],
          "name": "stdout"
        }
      ]
    },
    {
      "cell_type": "code",
      "metadata": {
        "id": "vH36lfbDYHdI"
      },
      "source": [
        "features = features.reshape(1744,60,70)\n",
        "y = y.reshape(1744,60,2)"
      ],
      "execution_count": 176,
      "outputs": []
    },
    {
      "cell_type": "code",
      "metadata": {
        "id": "86W_1rgzlv1M"
      },
      "source": [
        "train_X , train_y = features[0:1220] , y[0:1220]\n",
        "test_X , test_y = features[1220:1744] , y[1220:1744]\n",
        "# val_X , val_y = features [1569:1744] , valence[0:1220]"
      ],
      "execution_count": 177,
      "outputs": []
    },
    {
      "cell_type": "code",
      "metadata": {
        "id": "n0kO1fD6mZPO",
        "outputId": "bd565050-b7cd-47b9-ca43-54da3fa05ee1",
        "colab": {
          "base_uri": "https://localhost:8080/"
        }
      },
      "source": [
        "print(\"train_X :\" , train_X.shape , \"train_y shape:\" , train_y.shape)\n",
        "print(\"test_X :\" , test_X.shape , \"test_y shape:\" , test_y.shape)\n",
        "# print(\"val_X :\" , val_X.shape , \"val_y shape:\" , val_y.shape)\n"
      ],
      "execution_count": 178,
      "outputs": [
        {
          "output_type": "stream",
          "text": [
            "train_X : (1220, 60, 70) train_y shape: (1220, 60, 2)\n",
            "test_X : (524, 60, 70) test_y shape: (524, 60, 2)\n"
          ],
          "name": "stdout"
        }
      ]
    },
    {
      "cell_type": "code",
      "metadata": {
        "id": "xPUKoT6UZJqK"
      },
      "source": [
        "# print(features.shape)\n",
        "# for i in range(1):\n",
        "#   print(features)"
      ],
      "execution_count": 179,
      "outputs": []
    },
    {
      "cell_type": "code",
      "metadata": {
        "id": "KlPmZirqZnwO"
      },
      "source": [
        "# print(valence.shape)\n",
        "# print(valence)"
      ],
      "execution_count": 180,
      "outputs": []
    },
    {
      "cell_type": "code",
      "metadata": {
        "id": "I8_NKb8rbt7s"
      },
      "source": [
        "# print(type(features))\n",
        "# print(features.shape)"
      ],
      "execution_count": 181,
      "outputs": []
    },
    {
      "cell_type": "code",
      "metadata": {
        "id": "ihLB68_nle5M"
      },
      "source": [
        "model = Sequential()\n",
        "\n",
        "# model.add(Bidirectional(LSTM(128,return_sequences=True, input_shape=(60,70))))\n",
        "# model.add(Dropout(0.2))\n",
        "# model.add(Bidirectional(LSTM(128,return_sequences=True, input_shape=(60,70))))\n",
        "# model.add(Dropout(0.2))\n",
        "# model.add(Bidirectional(LSTM(128,return_sequences=True, input_shape=(60,70))))\n",
        "# model.add(Dropout(0.2))\n",
        "\n",
        "# model.add(Bidirectional(LSTM(128,return_sequences=True, input_shape=(60,70))))\n",
        "model.add(Bidirectional(LSTM(128,return_sequences=True, input_shape=(60,70))))\n",
        "model.add(Dropout(0.3))\n",
        "model.add(Bidirectional(LSTM(128,return_sequences=True, input_shape=(60,70))))\n",
        "model.add(Dropout(0.3))\n",
        "# model.add(Bidirectional(LSTM(64,return_sequences=True, input_shape=(60,70))))\n",
        "# model.add(Dropout(0.3))\n",
        "# model.add(Bidirectional(LSTM(32,return_sequences=True, input_shape=(60,70))))\n",
        "# model.add(Bidirectional(LSTM(16,return_sequences=True, input_shape=(60,70))))\n",
        "# model.add(Bidirectional(LSTM(8,return_sequences=True, input_shape=(60,70))))\n",
        "\n",
        "\n",
        "\n",
        "\n",
        "model.add(Dense(2))\n",
        "model.compile(loss='mse', optimizer='adam')"
      ],
      "execution_count": 182,
      "outputs": []
    },
    {
      "cell_type": "code",
      "metadata": {
        "id": "27usXwSelDL0",
        "outputId": "6a4ebe19-511d-4675-fda3-4abb9e3ec4e3",
        "colab": {
          "base_uri": "https://localhost:8080/"
        }
      },
      "source": [
        "history = model.fit(train_X, train_y, epochs=50, validation_data=(test_X, test_y), verbose=2, shuffle=False)\n"
      ],
      "execution_count": 183,
      "outputs": [
        {
          "output_type": "stream",
          "text": [
            "Epoch 1/50\n",
            "39/39 - 2s - loss: 0.1137 - val_loss: 0.0461\n",
            "Epoch 2/50\n",
            "39/39 - 1s - loss: 0.0595 - val_loss: 0.0431\n",
            "Epoch 3/50\n",
            "39/39 - 1s - loss: 0.0516 - val_loss: 0.0425\n",
            "Epoch 4/50\n",
            "39/39 - 1s - loss: 0.0488 - val_loss: 0.0418\n",
            "Epoch 5/50\n",
            "39/39 - 1s - loss: 0.0472 - val_loss: 0.0425\n",
            "Epoch 6/50\n",
            "39/39 - 1s - loss: 0.0452 - val_loss: 0.0412\n",
            "Epoch 7/50\n",
            "39/39 - 1s - loss: 0.0443 - val_loss: 0.0412\n",
            "Epoch 8/50\n",
            "39/39 - 1s - loss: 0.0446 - val_loss: 0.0424\n",
            "Epoch 9/50\n",
            "39/39 - 1s - loss: 0.0450 - val_loss: 0.0437\n",
            "Epoch 10/50\n",
            "39/39 - 1s - loss: 0.0447 - val_loss: 0.0444\n",
            "Epoch 11/50\n",
            "39/39 - 1s - loss: 0.0437 - val_loss: 0.0428\n",
            "Epoch 12/50\n",
            "39/39 - 1s - loss: 0.0424 - val_loss: 0.0422\n",
            "Epoch 13/50\n",
            "39/39 - 1s - loss: 0.0419 - val_loss: 0.0394\n",
            "Epoch 14/50\n",
            "39/39 - 1s - loss: 0.0405 - val_loss: 0.0390\n",
            "Epoch 15/50\n",
            "39/39 - 1s - loss: 0.0399 - val_loss: 0.0405\n",
            "Epoch 16/50\n",
            "39/39 - 1s - loss: 0.0416 - val_loss: 0.0410\n",
            "Epoch 17/50\n",
            "39/39 - 1s - loss: 0.0426 - val_loss: 0.0413\n",
            "Epoch 18/50\n",
            "39/39 - 1s - loss: 0.0423 - val_loss: 0.0406\n",
            "Epoch 19/50\n",
            "39/39 - 1s - loss: 0.0413 - val_loss: 0.0404\n",
            "Epoch 20/50\n",
            "39/39 - 1s - loss: 0.0408 - val_loss: 0.0404\n",
            "Epoch 21/50\n",
            "39/39 - 1s - loss: 0.0410 - val_loss: 0.0405\n",
            "Epoch 22/50\n",
            "39/39 - 1s - loss: 0.0408 - val_loss: 0.0402\n",
            "Epoch 23/50\n",
            "39/39 - 1s - loss: 0.0407 - val_loss: 0.0403\n",
            "Epoch 24/50\n",
            "39/39 - 1s - loss: 0.0410 - val_loss: 0.0408\n",
            "Epoch 25/50\n",
            "39/39 - 1s - loss: 0.0405 - val_loss: 0.0403\n",
            "Epoch 26/50\n",
            "39/39 - 1s - loss: 0.0408 - val_loss: 0.0402\n",
            "Epoch 27/50\n",
            "39/39 - 1s - loss: 0.0404 - val_loss: 0.0402\n",
            "Epoch 28/50\n",
            "39/39 - 1s - loss: 0.0402 - val_loss: 0.0405\n",
            "Epoch 29/50\n",
            "39/39 - 1s - loss: 0.0406 - val_loss: 0.0407\n",
            "Epoch 30/50\n",
            "39/39 - 1s - loss: 0.0398 - val_loss: 0.0397\n",
            "Epoch 31/50\n",
            "39/39 - 1s - loss: 0.0396 - val_loss: 0.0405\n",
            "Epoch 32/50\n",
            "39/39 - 1s - loss: 0.0390 - val_loss: 0.0395\n",
            "Epoch 33/50\n",
            "39/39 - 1s - loss: 0.0390 - val_loss: 0.0403\n",
            "Epoch 34/50\n",
            "39/39 - 1s - loss: 0.0398 - val_loss: 0.0394\n",
            "Epoch 35/50\n",
            "39/39 - 1s - loss: 0.0393 - val_loss: 0.0390\n",
            "Epoch 36/50\n",
            "39/39 - 1s - loss: 0.0393 - val_loss: 0.0394\n",
            "Epoch 37/50\n",
            "39/39 - 1s - loss: 0.0390 - val_loss: 0.0402\n",
            "Epoch 38/50\n",
            "39/39 - 1s - loss: 0.0395 - val_loss: 0.0392\n",
            "Epoch 39/50\n",
            "39/39 - 1s - loss: 0.0385 - val_loss: 0.0394\n",
            "Epoch 40/50\n",
            "39/39 - 1s - loss: 0.0387 - val_loss: 0.0394\n",
            "Epoch 41/50\n",
            "39/39 - 1s - loss: 0.0385 - val_loss: 0.0393\n",
            "Epoch 42/50\n",
            "39/39 - 1s - loss: 0.0381 - val_loss: 0.0394\n",
            "Epoch 43/50\n",
            "39/39 - 1s - loss: 0.0392 - val_loss: 0.0398\n",
            "Epoch 44/50\n",
            "39/39 - 1s - loss: 0.0391 - val_loss: 0.0393\n",
            "Epoch 45/50\n",
            "39/39 - 1s - loss: 0.0384 - val_loss: 0.0391\n",
            "Epoch 46/50\n",
            "39/39 - 1s - loss: 0.0387 - val_loss: 0.0416\n",
            "Epoch 47/50\n",
            "39/39 - 1s - loss: 0.0387 - val_loss: 0.0385\n",
            "Epoch 48/50\n",
            "39/39 - 1s - loss: 0.0385 - val_loss: 0.0393\n",
            "Epoch 49/50\n",
            "39/39 - 1s - loss: 0.0386 - val_loss: 0.0387\n",
            "Epoch 50/50\n",
            "39/39 - 1s - loss: 0.0381 - val_loss: 0.0401\n"
          ],
          "name": "stdout"
        }
      ]
    },
    {
      "cell_type": "code",
      "metadata": {
        "id": "_ACHp8c0YFOP",
        "outputId": "1d2bbe31-5d0c-4401-9362-36a5591f7392",
        "colab": {
          "base_uri": "https://localhost:8080/",
          "height": 282
        }
      },
      "source": [
        "plt.plot(history.history['loss'], label='train')\n",
        "plt.plot(history.history['val_loss'], label='test')\n",
        "plt.legend()\n",
        "plt.show()\n",
        "plt.savefig(\"training loss 350epochs_5layers\")"
      ],
      "execution_count": 184,
      "outputs": [
        {
          "output_type": "display_data",
          "data": {
            "image/png": "[encoded data removed]",
            "text/plain": [
              "<Figure size 432x288 with 1 Axes>"
            ]
          },
          "metadata": {
            "tags": [],
            "needs_background": "light"
          }
        },
        {
          "output_type": "display_data",
          "data": {
            "text/plain": [
              "<Figure size 432x288 with 0 Axes>"
            ]
          },
          "metadata": {
            "tags": []
          }
        }
      ]
    },
    {
      "cell_type": "code",
      "metadata": {
        "id": "SwKISLlZXV2d",
        "outputId": "f92cab52-5dc8-4b54-a3e2-146f0a5a6c32",
        "colab": {
          "base_uri": "https://localhost:8080/"
        }
      },
      "source": [
        "history.history\n",
        "print('overall loss' , np.mean(history.history['loss']))\n",
        "print('overall val_loss' , np.mean(history.history['val_loss']))"
      ],
      "execution_count": 185,
      "outputs": [
        {
          "output_type": "stream",
          "text": [
            "overall loss 0.04290119633078575\n",
            "overall val_loss 0.0406180027872324\n"
          ],
          "name": "stdout"
        }
      ]
    },
    {
      "cell_type": "code",
      "metadata": {
        "id": "Pw8CtS1BlHPk"
      },
      "source": [
        "predicted_y = model.predict(test_X)\n"
      ],
      "execution_count": 186,
      "outputs": []
    },
    {
      "cell_type": "code",
      "metadata": {
        "id": "4s5LCQCHzgjS",
        "outputId": "eada49c7-0a5a-4ea4-f871-c0c06f058ddb",
        "colab": {
          "base_uri": "https://localhost:8080/"
        }
      },
      "source": [
        "print(predicted_y.shape)\n",
        "print(test_y.shape)"
      ],
      "execution_count": 187,
      "outputs": [
        {
          "output_type": "stream",
          "text": [
            "(524, 60, 2)\n",
            "(524, 60, 2)\n"
          ],
          "name": "stdout"
        }
      ]
    },
    {
      "cell_type": "code",
      "metadata": {
        "id": "tQZgAGhuBAGj"
      },
      "source": [
        "predicted_valence = predicted_y[:,:,0]\n",
        "predicted_arousal = predicted_y[:,:,1]\n",
        "test_valence = test_y[:,:,0]\n",
        "test_arousal = test_y[:,:,1]"
      ],
      "execution_count": 188,
      "outputs": []
    },
    {
      "cell_type": "code",
      "metadata": {
        "id": "Bx3FtbF1CC-q"
      },
      "source": [
        "# for i in range(1):\n",
        "  # print(predicted_valence[i])\n",
        "  # print(predicted_arousal[i])\n",
        "  # print(test_valence[i])\n",
        "  # print(test_arousal[i])"
      ],
      "execution_count": 189,
      "outputs": []
    },
    {
      "cell_type": "code",
      "metadata": {
        "id": "vAZfp3jyV0_f"
      },
      "source": [
        "predicted_valence = predicted_valence.reshape(31440,)\n",
        "test_valence = test_valence.reshape(31440,)\n",
        "predicted_arousal = predicted_arousal.reshape(31440,)\n",
        "test_arousal = test_arousal.reshape(31440,)"
      ],
      "execution_count": 190,
      "outputs": []
    },
    {
      "cell_type": "code",
      "metadata": {
        "id": "-cQpvl4DYkwQ"
      },
      "source": [
        "def metrics(y_true,y_pred,name):\n",
        "  print(name,\"\")\n",
        "  mae = mean_absolute_error(y_true,y_pred)\n",
        "  rmse = sqrt(mean_squared_error(y_true,y_pred))\n",
        "  r2 = r2_score(y_true,y_pred)\n",
        "  pearson_corr = pearsonr(y_true,y_pred)\n",
        "  spearman_corr = spearmanr(y_true,y_pred)\n",
        "  \n",
        "  print('RMSE : ',rmse)\n",
        "  print('Pearson : ',pearson_corr)\n",
        "  print('MAE : ',mae)\n",
        "  print('R2 : ',r2)\n",
        "  print('Spearman : ',spearman_corr,'\\n')\n"
      ],
      "execution_count": 191,
      "outputs": []
    },
    {
      "cell_type": "code",
      "metadata": {
        "id": "wI22IyyxfafF"
      },
      "source": [
        "def graph_results(x,y,title, xlim=-1, ylim=-1):\n",
        "  #x and y are variables ( y_pred vs y_true )\n",
        "  #Important\n",
        "  plt.scatter(x,y,s=15)\n",
        "\n",
        "  # if xlim != -1: plt.xlim([0, xlim])\n",
        "  # if ylim != -1: plt.ylim([0, ylim])\n",
        "  # plt.gca().set_ylim([1.5,7.5])\n",
        "  # plt.gca().set_xlim([1.5,9])\n",
        "  #Fix \n",
        "  plt.xlabel(\"Actual\")\n",
        "  plt.ylabel(\"Predicted\")\n",
        "  plt.title((title))\n",
        "  # m, b = np.polyfit(x, y, 1)\n",
        "  # plt.plot(x, m*x + b, color='red')  \n",
        "  plt.savefig(title)\n",
        "\n",
        "  plt.show()"
      ],
      "execution_count": 192,
      "outputs": []
    },
    {
      "cell_type": "code",
      "metadata": {
        "id": "zbJaq7WqaLB9",
        "outputId": "c8492abc-b8bb-444b-d201-a3ba0379611e",
        "colab": {
          "base_uri": "https://localhost:8080/",
          "height": 417
        }
      },
      "source": [
        "metrics(test_valence,predicted_valence,'valence')\n",
        "graph_results(test_valence,predicted_valence,'valence actual vs prediction')\n"
      ],
      "execution_count": 193,
      "outputs": [
        {
          "output_type": "stream",
          "text": [
            "valence \n",
            "RMSE :  0.20729071725349632\n",
            "Pearson :  (0.5136570779322871, 0.0)\n",
            "MAE :  0.16399024701557707\n",
            "R2 :  0.2242532946646002\n",
            "Spearman :  SpearmanrResult(correlation=0.5107787887304526, pvalue=0.0) \n",
            "\n"
          ],
          "name": "stdout"
        },
        {
          "output_type": "display_data",
          "data": {
            "image/png": "[encoded data removed]",
            "text/plain": [
              "<Figure size 432x288 with 1 Axes>"
            ]
          },
          "metadata": {
            "tags": [],
            "needs_background": "light"
          }
        }
      ]
    },
    {
      "cell_type": "code",
      "metadata": {
        "id": "ZaFzNqaBC-9q",
        "outputId": "f605888a-1be5-4e50-d25f-80a6f302e624",
        "colab": {
          "base_uri": "https://localhost:8080/",
          "height": 417
        }
      },
      "source": [
        "metrics(test_arousal,predicted_arousal,'arousal')\n",
        "graph_results(test_arousal,predicted_arousal,'arousal actual vs prediction')"
      ],
      "execution_count": 194,
      "outputs": [
        {
          "output_type": "stream",
          "text": [
            "arousal \n",
            "RMSE :  0.19301154302922913\n",
            "Pearson :  (0.7463894095188601, 0.0)\n",
            "MAE :  0.15438932982278253\n",
            "R2 :  0.5501505454160265\n",
            "Spearman :  SpearmanrResult(correlation=0.749003043480939, pvalue=0.0) \n",
            "\n"
          ],
          "name": "stdout"
        },
        {
          "output_type": "display_data",
          "data": {
            "image/png": "[encoded data removed]",
            "text/plain": [
              "<Figure size 432x288 with 1 Axes>"
            ]
          },
          "metadata": {
            "tags": [],
            "needs_background": "light"
          }
        }
      ]
    },
    {
      "cell_type": "code",
      "metadata": {
        "id": "pcQaHYbFSziG"
      },
      "source": [
        ""
      ],
      "execution_count": 194,
      "outputs": []
    }
  ]
}