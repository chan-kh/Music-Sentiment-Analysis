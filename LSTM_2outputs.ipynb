{
  "nbformat": 4,
  "nbformat_minor": 0,
  "metadata": {
    "accelerator": "GPU",
    "colab": {
      "name": "LSTM_2outputs.ipynb",
      "provenance": [],
      "collapsed_sections": [],
      "include_colab_link": true
    },
    "kernelspec": {
      "display_name": "Python 3",
      "language": "python",
      "name": "python3"
    },
    "language_info": {
      "codemirror_mode": {
        "name": "ipython",
        "version": 3
      },
      "file_extension": ".py",
      "mimetype": "text/x-python",
      "name": "python",
      "nbconvert_exporter": "python",
      "pygments_lexer": "ipython3",
      "version": "3.7.6"
    }
  },
  "cells": [
    {
      "cell_type": "markdown",
      "metadata": {
        "id": "view-in-github",
        "colab_type": "text"
      },
      "source": [
        "<a href=\"https://colab.research.google.com/github/chan-kh/Music-Sentiment-Analysis/blob/main/LSTM_2outputs.ipynb\" target=\"_parent\"><img src=\"https://colab.research.google.com/assets/colab-badge.svg\" alt=\"Open In Colab\"/></a>"
      ]
    },
    {
      "cell_type": "code",
      "metadata": {
        "id": "vbaXYegNi0Id"
      },
      "source": [
        "import os\n",
        "import datetime\n",
        "from google.colab import drive\n",
        "\n",
        "import IPython\n",
        "import IPython.display\n",
        "import matplotlib as mpl\n",
        "import matplotlib.pyplot as plt\n",
        "import numpy as np\n",
        "import pandas as pd\n",
        "import tensorflow as tf\n",
        "import tensorflow_datasets as tfds\n",
        "from sklearn.preprocessing import MinMaxScaler\n",
        "\n",
        "from numpy import loadtxt\n",
        "from keras.models import Sequential\n",
        "from keras.layers import LSTM\n",
        "from keras.layers import Dense\n",
        "from keras.layers import Dropout\n",
        "\n",
        "from keras import layers\n",
        "from keras.optimizers import RMSprop\n",
        "from keras.layers import Bidirectional\n",
        "\n",
        "from math import sqrt\n",
        "from scipy.stats.stats import pearsonr, spearmanr\n",
        "from sklearn.metrics import mean_absolute_error,mean_squared_error,r2_score"
      ],
      "execution_count": 199,
      "outputs": []
    },
    {
      "cell_type": "code",
      "metadata": {
        "id": "bBHlWjU0jQsx",
        "outputId": "528c3693-4444-4833-b684-c8a2f3e5b2d7",
        "colab": {
          "base_uri": "https://localhost:8080/",
          "height": 244
        }
      },
      "source": [
        "drive.mount(\"/content/drive\")\n",
        "df = pd.read_csv('/content/drive/My Drive/Colab Notebooks/Sentiment/features_60frames_allsongs.csv')\n",
        "df.head()\n"
      ],
      "execution_count": 200,
      "outputs": [
        {
          "output_type": "stream",
          "text": [
            "Drive already mounted at /content/drive; to attempt to forcibly remount, call drive.mount(\"/content/drive\", force_remount=True).\n"
          ],
          "name": "stdout"
        },
        {
          "output_type": "execute_result",
          "data": {
            "text/html": [
              "<div>\n",
              "<style scoped>\n",
              "    .dataframe tbody tr th:only-of-type {\n",
              "        vertical-align: middle;\n",
              "    }\n",
              "\n",
              "    .dataframe tbody tr th {\n",
              "        vertical-align: top;\n",
              "    }\n",
              "\n",
              "    .dataframe thead th {\n",
              "        text-align: right;\n",
              "    }\n",
              "</style>\n",
              "<table border=\"1\" class=\"dataframe\">\n",
              "  <thead>\n",
              "    <tr style=\"text-align: right;\">\n",
              "      <th></th>\n",
              "      <th>song_id</th>\n",
              "      <th>frame_num</th>\n",
              "      <th>zcr</th>\n",
              "      <th>rms</th>\n",
              "      <th>spectral_centroid</th>\n",
              "      <th>spectral_bandwidth</th>\n",
              "      <th>spectral_rolloff</th>\n",
              "      <th>spectral_contrast</th>\n",
              "      <th>spectral_flatness</th>\n",
              "      <th>melspectrogram</th>\n",
              "      <th>mfcc_0</th>\n",
              "      <th>mfcc_1</th>\n",
              "      <th>mfcc_2</th>\n",
              "      <th>mfcc_3</th>\n",
              "      <th>mfcc_4</th>\n",
              "      <th>mfcc_5</th>\n",
              "      <th>mfcc_6</th>\n",
              "      <th>mfcc_7</th>\n",
              "      <th>mfcc_8</th>\n",
              "      <th>mfcc_9</th>\n",
              "      <th>mfcc_10</th>\n",
              "      <th>mfcc_11</th>\n",
              "      <th>mfcc_12</th>\n",
              "      <th>mfcc_13</th>\n",
              "      <th>mfcc_14</th>\n",
              "      <th>mfcc_15</th>\n",
              "      <th>mfcc_16</th>\n",
              "      <th>mfcc_17</th>\n",
              "      <th>mfcc_18</th>\n",
              "      <th>mfcc_19</th>\n",
              "      <th>chroma_stft_0</th>\n",
              "      <th>chroma_stft_1</th>\n",
              "      <th>chroma_stft_2</th>\n",
              "      <th>chroma_stft_3</th>\n",
              "      <th>chroma_stft_4</th>\n",
              "      <th>chroma_stft_5</th>\n",
              "      <th>chroma_stft_6</th>\n",
              "      <th>chroma_stft_7</th>\n",
              "      <th>chroma_stft_8</th>\n",
              "      <th>chroma_stft_9</th>\n",
              "      <th>chroma_stft_10</th>\n",
              "      <th>chroma_stft_11</th>\n",
              "      <th>chroma_cqt_0</th>\n",
              "      <th>chroma_cqt_1</th>\n",
              "      <th>chroma_cqt_2</th>\n",
              "      <th>chroma_cqt_3</th>\n",
              "      <th>chroma_cqt_4</th>\n",
              "      <th>chroma_cqt_5</th>\n",
              "      <th>chroma_cqt_6</th>\n",
              "      <th>chroma_cqt_7</th>\n",
              "      <th>chroma_cqt_8</th>\n",
              "      <th>chroma_cqt_9</th>\n",
              "      <th>chroma_cqt_10</th>\n",
              "      <th>chroma_cqt_11</th>\n",
              "      <th>chroma_cens_0</th>\n",
              "      <th>chroma_cens_1</th>\n",
              "      <th>chroma_cens_2</th>\n",
              "      <th>chroma_cens_3</th>\n",
              "      <th>chroma_cens_4</th>\n",
              "      <th>chroma_cens_5</th>\n",
              "      <th>chroma_cens_6</th>\n",
              "      <th>chroma_cens_7</th>\n",
              "      <th>chroma_cens_8</th>\n",
              "      <th>chroma_cens_9</th>\n",
              "      <th>chroma_cens_10</th>\n",
              "      <th>chroma_cens_11</th>\n",
              "      <th>tonnetz_0</th>\n",
              "      <th>tonnetz_1</th>\n",
              "      <th>tonnetz_2</th>\n",
              "      <th>tonnetz_3</th>\n",
              "      <th>tonnetz_4</th>\n",
              "      <th>tonnetz_5</th>\n",
              "      <th>valence</th>\n",
              "      <th>arousal</th>\n",
              "    </tr>\n",
              "  </thead>\n",
              "  <tbody>\n",
              "    <tr>\n",
              "      <th>0</th>\n",
              "      <td>2</td>\n",
              "      <td>0</td>\n",
              "      <td>0.157715</td>\n",
              "      <td>0.000011</td>\n",
              "      <td>5604.262879</td>\n",
              "      <td>3246.069688</td>\n",
              "      <td>9549.975586</td>\n",
              "      <td>18.349374</td>\n",
              "      <td>0.283305</td>\n",
              "      <td>0.000000</td>\n",
              "      <td>-636.134705</td>\n",
              "      <td>0.000000</td>\n",
              "      <td>0.000000</td>\n",
              "      <td>0.000000</td>\n",
              "      <td>0.000000</td>\n",
              "      <td>0.000000</td>\n",
              "      <td>0.000000</td>\n",
              "      <td>0.000000</td>\n",
              "      <td>0.000000</td>\n",
              "      <td>0.000000</td>\n",
              "      <td>0.000000</td>\n",
              "      <td>0.000000</td>\n",
              "      <td>0.000000</td>\n",
              "      <td>0.000000</td>\n",
              "      <td>0.000000</td>\n",
              "      <td>0.000000</td>\n",
              "      <td>0.000000</td>\n",
              "      <td>0.000000</td>\n",
              "      <td>0.000000</td>\n",
              "      <td>0.000000</td>\n",
              "      <td>0.654255</td>\n",
              "      <td>0.699066</td>\n",
              "      <td>0.261531</td>\n",
              "      <td>0.874848</td>\n",
              "      <td>1.000000</td>\n",
              "      <td>0.333313</td>\n",
              "      <td>0.812421</td>\n",
              "      <td>0.488101</td>\n",
              "      <td>0.413135</td>\n",
              "      <td>0.640419</td>\n",
              "      <td>0.671442</td>\n",
              "      <td>0.490904</td>\n",
              "      <td>0.725918</td>\n",
              "      <td>0.250459</td>\n",
              "      <td>0.284098</td>\n",
              "      <td>0.647150</td>\n",
              "      <td>0.349017</td>\n",
              "      <td>0.147453</td>\n",
              "      <td>0.501239</td>\n",
              "      <td>0.074669</td>\n",
              "      <td>0.070883</td>\n",
              "      <td>0.633342</td>\n",
              "      <td>0.184297</td>\n",
              "      <td>0.136420</td>\n",
              "      <td>0.700169</td>\n",
              "      <td>0.030602</td>\n",
              "      <td>0.209675</td>\n",
              "      <td>0.828279</td>\n",
              "      <td>0.124886</td>\n",
              "      <td>0.257948</td>\n",
              "      <td>1.000000</td>\n",
              "      <td>0.071105</td>\n",
              "      <td>0.309559</td>\n",
              "      <td>0.798000</td>\n",
              "      <td>0.076693</td>\n",
              "      <td>0.276441</td>\n",
              "      <td>-0.134078</td>\n",
              "      <td>0.072852</td>\n",
              "      <td>-0.134683</td>\n",
              "      <td>0.086125</td>\n",
              "      <td>0.060471</td>\n",
              "      <td>0.042898</td>\n",
              "      <td>-0.073341</td>\n",
              "      <td>-0.109386</td>\n",
              "    </tr>\n",
              "    <tr>\n",
              "      <th>1</th>\n",
              "      <td>2</td>\n",
              "      <td>1</td>\n",
              "      <td>0.051758</td>\n",
              "      <td>0.096817</td>\n",
              "      <td>1443.667160</td>\n",
              "      <td>2057.611806</td>\n",
              "      <td>3036.181641</td>\n",
              "      <td>27.017306</td>\n",
              "      <td>0.003931</td>\n",
              "      <td>1.576688</td>\n",
              "      <td>-120.319748</td>\n",
              "      <td>129.464996</td>\n",
              "      <td>-4.253306</td>\n",
              "      <td>22.214062</td>\n",
              "      <td>8.163963</td>\n",
              "      <td>16.415987</td>\n",
              "      <td>15.152133</td>\n",
              "      <td>7.878392</td>\n",
              "      <td>-6.823561</td>\n",
              "      <td>-0.831550</td>\n",
              "      <td>-7.218902</td>\n",
              "      <td>-4.558928</td>\n",
              "      <td>-1.807601</td>\n",
              "      <td>12.948887</td>\n",
              "      <td>-9.162554</td>\n",
              "      <td>-3.758020</td>\n",
              "      <td>-5.506585</td>\n",
              "      <td>-1.227700</td>\n",
              "      <td>-4.439484</td>\n",
              "      <td>1.684063</td>\n",
              "      <td>0.528904</td>\n",
              "      <td>0.624552</td>\n",
              "      <td>0.263783</td>\n",
              "      <td>0.891966</td>\n",
              "      <td>0.850903</td>\n",
              "      <td>0.331133</td>\n",
              "      <td>1.000000</td>\n",
              "      <td>1.000000</td>\n",
              "      <td>0.408033</td>\n",
              "      <td>0.713866</td>\n",
              "      <td>0.681263</td>\n",
              "      <td>0.480444</td>\n",
              "      <td>0.245905</td>\n",
              "      <td>0.378263</td>\n",
              "      <td>0.278916</td>\n",
              "      <td>0.160639</td>\n",
              "      <td>0.397115</td>\n",
              "      <td>0.147040</td>\n",
              "      <td>0.285743</td>\n",
              "      <td>0.536704</td>\n",
              "      <td>0.072041</td>\n",
              "      <td>0.314144</td>\n",
              "      <td>0.652729</td>\n",
              "      <td>0.144099</td>\n",
              "      <td>0.269362</td>\n",
              "      <td>0.637670</td>\n",
              "      <td>0.218737</td>\n",
              "      <td>0.382769</td>\n",
              "      <td>0.677961</td>\n",
              "      <td>0.263132</td>\n",
              "      <td>0.424450</td>\n",
              "      <td>0.649488</td>\n",
              "      <td>0.317883</td>\n",
              "      <td>0.517798</td>\n",
              "      <td>0.579528</td>\n",
              "      <td>0.282752</td>\n",
              "      <td>-0.088692</td>\n",
              "      <td>0.052331</td>\n",
              "      <td>-0.112961</td>\n",
              "      <td>0.075804</td>\n",
              "      <td>0.041915</td>\n",
              "      <td>0.033029</td>\n",
              "      <td>-0.074661</td>\n",
              "      <td>-0.114942</td>\n",
              "    </tr>\n",
              "    <tr>\n",
              "      <th>2</th>\n",
              "      <td>2</td>\n",
              "      <td>2</td>\n",
              "      <td>0.101562</td>\n",
              "      <td>0.096426</td>\n",
              "      <td>2348.097128</td>\n",
              "      <td>2387.006355</td>\n",
              "      <td>4941.870117</td>\n",
              "      <td>22.434103</td>\n",
              "      <td>0.013857</td>\n",
              "      <td>0.152583</td>\n",
              "      <td>-107.915352</td>\n",
              "      <td>76.319107</td>\n",
              "      <td>-14.175928</td>\n",
              "      <td>45.124214</td>\n",
              "      <td>1.209538</td>\n",
              "      <td>7.516734</td>\n",
              "      <td>-5.023264</td>\n",
              "      <td>6.480774</td>\n",
              "      <td>-0.513962</td>\n",
              "      <td>8.108901</td>\n",
              "      <td>-0.198636</td>\n",
              "      <td>-3.022716</td>\n",
              "      <td>2.078595</td>\n",
              "      <td>4.819644</td>\n",
              "      <td>-16.200150</td>\n",
              "      <td>-3.348299</td>\n",
              "      <td>-5.746615</td>\n",
              "      <td>-9.680576</td>\n",
              "      <td>-17.688511</td>\n",
              "      <td>-5.846364</td>\n",
              "      <td>0.190785</td>\n",
              "      <td>0.290683</td>\n",
              "      <td>0.265836</td>\n",
              "      <td>0.206553</td>\n",
              "      <td>0.217986</td>\n",
              "      <td>0.329024</td>\n",
              "      <td>0.491271</td>\n",
              "      <td>0.576434</td>\n",
              "      <td>0.402986</td>\n",
              "      <td>1.000000</td>\n",
              "      <td>0.924618</td>\n",
              "      <td>0.469653</td>\n",
              "      <td>0.706139</td>\n",
              "      <td>0.605435</td>\n",
              "      <td>0.273279</td>\n",
              "      <td>0.307669</td>\n",
              "      <td>0.224213</td>\n",
              "      <td>0.146400</td>\n",
              "      <td>0.107266</td>\n",
              "      <td>0.206321</td>\n",
              "      <td>0.073380</td>\n",
              "      <td>0.222554</td>\n",
              "      <td>0.297425</td>\n",
              "      <td>0.151825</td>\n",
              "      <td>0.408395</td>\n",
              "      <td>0.409732</td>\n",
              "      <td>0.227828</td>\n",
              "      <td>0.563377</td>\n",
              "      <td>0.734764</td>\n",
              "      <td>0.268284</td>\n",
              "      <td>0.755202</td>\n",
              "      <td>1.000000</td>\n",
              "      <td>0.326054</td>\n",
              "      <td>0.528056</td>\n",
              "      <td>0.687259</td>\n",
              "      <td>0.288720</td>\n",
              "      <td>-0.034494</td>\n",
              "      <td>0.031843</td>\n",
              "      <td>-0.070020</td>\n",
              "      <td>0.068549</td>\n",
              "      <td>0.021691</td>\n",
              "      <td>0.023202</td>\n",
              "      <td>-0.074077</td>\n",
              "      <td>-0.116413</td>\n",
              "    </tr>\n",
              "    <tr>\n",
              "      <th>3</th>\n",
              "      <td>2</td>\n",
              "      <td>3</td>\n",
              "      <td>0.062500</td>\n",
              "      <td>0.086847</td>\n",
              "      <td>1692.187106</td>\n",
              "      <td>1872.280637</td>\n",
              "      <td>3219.213867</td>\n",
              "      <td>21.295763</td>\n",
              "      <td>0.004178</td>\n",
              "      <td>0.224268</td>\n",
              "      <td>-148.255432</td>\n",
              "      <td>121.565720</td>\n",
              "      <td>-36.703545</td>\n",
              "      <td>33.151939</td>\n",
              "      <td>4.518500</td>\n",
              "      <td>5.197342</td>\n",
              "      <td>-8.610166</td>\n",
              "      <td>4.267920</td>\n",
              "      <td>8.706326</td>\n",
              "      <td>-17.273952</td>\n",
              "      <td>-11.429454</td>\n",
              "      <td>4.515498</td>\n",
              "      <td>-7.324573</td>\n",
              "      <td>4.467141</td>\n",
              "      <td>-13.720921</td>\n",
              "      <td>-3.195490</td>\n",
              "      <td>-3.931114</td>\n",
              "      <td>-7.317858</td>\n",
              "      <td>-15.654930</td>\n",
              "      <td>-15.824336</td>\n",
              "      <td>0.245845</td>\n",
              "      <td>0.300974</td>\n",
              "      <td>0.267710</td>\n",
              "      <td>0.523842</td>\n",
              "      <td>0.578168</td>\n",
              "      <td>0.326966</td>\n",
              "      <td>1.000000</td>\n",
              "      <td>0.842026</td>\n",
              "      <td>0.397746</td>\n",
              "      <td>0.846539</td>\n",
              "      <td>1.000000</td>\n",
              "      <td>0.458391</td>\n",
              "      <td>0.477668</td>\n",
              "      <td>0.673670</td>\n",
              "      <td>0.267148</td>\n",
              "      <td>0.095004</td>\n",
              "      <td>0.189054</td>\n",
              "      <td>0.145584</td>\n",
              "      <td>0.031817</td>\n",
              "      <td>0.101448</td>\n",
              "      <td>0.075003</td>\n",
              "      <td>0.024125</td>\n",
              "      <td>0.114284</td>\n",
              "      <td>0.159790</td>\n",
              "      <td>0.044276</td>\n",
              "      <td>0.137589</td>\n",
              "      <td>0.237066</td>\n",
              "      <td>0.215029</td>\n",
              "      <td>0.300263</td>\n",
              "      <td>0.273559</td>\n",
              "      <td>0.177739</td>\n",
              "      <td>0.341496</td>\n",
              "      <td>0.334054</td>\n",
              "      <td>0.110806</td>\n",
              "      <td>0.207098</td>\n",
              "      <td>0.294537</td>\n",
              "      <td>-0.013095</td>\n",
              "      <td>0.020309</td>\n",
              "      <td>-0.055259</td>\n",
              "      <td>0.034349</td>\n",
              "      <td>0.011610</td>\n",
              "      <td>0.012032</td>\n",
              "      <td>-0.078154</td>\n",
              "      <td>-0.118613</td>\n",
              "    </tr>\n",
              "    <tr>\n",
              "      <th>4</th>\n",
              "      <td>2</td>\n",
              "      <td>4</td>\n",
              "      <td>0.120605</td>\n",
              "      <td>0.113167</td>\n",
              "      <td>2632.895857</td>\n",
              "      <td>2453.043616</td>\n",
              "      <td>5329.467773</td>\n",
              "      <td>18.914987</td>\n",
              "      <td>0.025196</td>\n",
              "      <td>1.035493</td>\n",
              "      <td>-71.919838</td>\n",
              "      <td>76.267471</td>\n",
              "      <td>-28.003765</td>\n",
              "      <td>15.988888</td>\n",
              "      <td>4.667567</td>\n",
              "      <td>35.548042</td>\n",
              "      <td>-6.664427</td>\n",
              "      <td>-5.128408</td>\n",
              "      <td>9.827440</td>\n",
              "      <td>-1.635414</td>\n",
              "      <td>-5.240368</td>\n",
              "      <td>-1.569069</td>\n",
              "      <td>-1.458279</td>\n",
              "      <td>7.581460</td>\n",
              "      <td>-16.175152</td>\n",
              "      <td>-6.295955</td>\n",
              "      <td>-9.435411</td>\n",
              "      <td>-3.781498</td>\n",
              "      <td>-8.782184</td>\n",
              "      <td>-7.635081</td>\n",
              "      <td>0.223808</td>\n",
              "      <td>0.355715</td>\n",
              "      <td>0.269517</td>\n",
              "      <td>0.202841</td>\n",
              "      <td>0.376315</td>\n",
              "      <td>0.324933</td>\n",
              "      <td>0.624933</td>\n",
              "      <td>0.684395</td>\n",
              "      <td>0.392219</td>\n",
              "      <td>1.000000</td>\n",
              "      <td>1.000000</td>\n",
              "      <td>0.446547</td>\n",
              "      <td>0.319092</td>\n",
              "      <td>0.448243</td>\n",
              "      <td>0.260494</td>\n",
              "      <td>0.103011</td>\n",
              "      <td>0.139945</td>\n",
              "      <td>0.144729</td>\n",
              "      <td>0.191945</td>\n",
              "      <td>0.245747</td>\n",
              "      <td>0.076884</td>\n",
              "      <td>0.266807</td>\n",
              "      <td>0.286048</td>\n",
              "      <td>0.167931</td>\n",
              "      <td>0.120557</td>\n",
              "      <td>0.326037</td>\n",
              "      <td>0.246430</td>\n",
              "      <td>0.267567</td>\n",
              "      <td>0.356422</td>\n",
              "      <td>0.278966</td>\n",
              "      <td>0.506787</td>\n",
              "      <td>0.398466</td>\n",
              "      <td>0.341865</td>\n",
              "      <td>0.328212</td>\n",
              "      <td>0.283725</td>\n",
              "      <td>0.300338</td>\n",
              "      <td>-0.001744</td>\n",
              "      <td>0.005818</td>\n",
              "      <td>-0.024928</td>\n",
              "      <td>-0.016238</td>\n",
              "      <td>0.001600</td>\n",
              "      <td>0.001166</td>\n",
              "      <td>-0.081588</td>\n",
              "      <td>-0.126457</td>\n",
              "    </tr>\n",
              "  </tbody>\n",
              "</table>\n",
              "</div>"
            ],
            "text/plain": [
              "   song_id  frame_num       zcr  ...  tonnetz_5   valence   arousal\n",
              "0        2          0  0.157715  ...   0.042898 -0.073341 -0.109386\n",
              "1        2          1  0.051758  ...   0.033029 -0.074661 -0.114942\n",
              "2        2          2  0.101562  ...   0.023202 -0.074077 -0.116413\n",
              "3        2          3  0.062500  ...   0.012032 -0.078154 -0.118613\n",
              "4        2          4  0.120605  ...   0.001166 -0.081588 -0.126457\n",
              "\n",
              "[5 rows x 74 columns]"
            ]
          },
          "metadata": {
            "tags": []
          },
          "execution_count": 200
        }
      ]
    },
    {
      "cell_type": "code",
      "metadata": {
        "id": "RZbxLv5TYf_L",
        "outputId": "15b5538b-bcb4-4be4-bb18-2e052742396c",
        "colab": {
          "base_uri": "https://localhost:8080/"
        }
      },
      "source": [
        "df.shape"
      ],
      "execution_count": 201,
      "outputs": [
        {
          "output_type": "execute_result",
          "data": {
            "text/plain": [
              "(104640, 74)"
            ]
          },
          "metadata": {
            "tags": []
          },
          "execution_count": 201
        }
      ]
    },
    {
      "cell_type": "code",
      "metadata": {
        "id": "2j1vh4AKW9hf"
      },
      "source": [
        "df =df.iloc[np.random.permutation(np.arange(104640).reshape(-1,60)).ravel()]"
      ],
      "execution_count": 202,
      "outputs": []
    },
    {
      "cell_type": "code",
      "metadata": {
        "id": "6QzFAy0YXqwe"
      },
      "source": [
        "# df.to_csv('/content/drive/My Drive/Colab Notebooks/Sentiment/shuffled_data.csv',index=False)"
      ],
      "execution_count": 203,
      "outputs": []
    },
    {
      "cell_type": "code",
      "metadata": {
        "id": "Z8T9KBOOXbBI",
        "outputId": "417ebeef-42c3-45cc-abcd-51a0b327570d",
        "colab": {
          "base_uri": "https://localhost:8080/"
        }
      },
      "source": [
        "df.shape"
      ],
      "execution_count": 204,
      "outputs": [
        {
          "output_type": "execute_result",
          "data": {
            "text/plain": [
              "(104640, 74)"
            ]
          },
          "metadata": {
            "tags": []
          },
          "execution_count": 204
        }
      ]
    },
    {
      "cell_type": "code",
      "metadata": {
        "id": "n-hTjsnHYYiF",
        "outputId": "cdc5e3f6-5e84-4bb9-ead5-373a210c3c31",
        "colab": {
          "base_uri": "https://localhost:8080/"
        }
      },
      "source": [
        "df.pop('song_id')\n",
        "df.pop('frame_num')"
      ],
      "execution_count": 205,
      "outputs": [
        {
          "output_type": "execute_result",
          "data": {
            "text/plain": [
              "80100     0\n",
              "80101     1\n",
              "80102     2\n",
              "80103     3\n",
              "80104     4\n",
              "         ..\n",
              "12715    55\n",
              "12716    56\n",
              "12717    57\n",
              "12718    58\n",
              "12719    59\n",
              "Name: frame_num, Length: 104640, dtype: int64"
            ]
          },
          "metadata": {
            "tags": []
          },
          "execution_count": 205
        }
      ]
    },
    {
      "cell_type": "code",
      "metadata": {
        "id": "yrUOopsQY6kx",
        "outputId": "0edca1f5-8bed-41a9-c78b-c23b8a2aa887",
        "colab": {
          "base_uri": "https://localhost:8080/",
          "height": 224
        }
      },
      "source": [
        "y = df.loc[:,'valence':'arousal']\n",
        "print(y.shape)\n",
        "y.head()"
      ],
      "execution_count": 206,
      "outputs": [
        {
          "output_type": "stream",
          "text": [
            "(104640, 2)\n"
          ],
          "name": "stdout"
        },
        {
          "output_type": "execute_result",
          "data": {
            "text/html": [
              "<div>\n",
              "<style scoped>\n",
              "    .dataframe tbody tr th:only-of-type {\n",
              "        vertical-align: middle;\n",
              "    }\n",
              "\n",
              "    .dataframe tbody tr th {\n",
              "        vertical-align: top;\n",
              "    }\n",
              "\n",
              "    .dataframe thead th {\n",
              "        text-align: right;\n",
              "    }\n",
              "</style>\n",
              "<table border=\"1\" class=\"dataframe\">\n",
              "  <thead>\n",
              "    <tr style=\"text-align: right;\">\n",
              "      <th></th>\n",
              "      <th>valence</th>\n",
              "      <th>arousal</th>\n",
              "    </tr>\n",
              "  </thead>\n",
              "  <tbody>\n",
              "    <tr>\n",
              "      <th>80100</th>\n",
              "      <td>0.438</td>\n",
              "      <td>0.555</td>\n",
              "    </tr>\n",
              "    <tr>\n",
              "      <th>80101</th>\n",
              "      <td>0.443</td>\n",
              "      <td>0.552</td>\n",
              "    </tr>\n",
              "    <tr>\n",
              "      <th>80102</th>\n",
              "      <td>0.450</td>\n",
              "      <td>0.561</td>\n",
              "    </tr>\n",
              "    <tr>\n",
              "      <th>80103</th>\n",
              "      <td>0.451</td>\n",
              "      <td>0.556</td>\n",
              "    </tr>\n",
              "    <tr>\n",
              "      <th>80104</th>\n",
              "      <td>0.461</td>\n",
              "      <td>0.557</td>\n",
              "    </tr>\n",
              "  </tbody>\n",
              "</table>\n",
              "</div>"
            ],
            "text/plain": [
              "       valence  arousal\n",
              "80100    0.438    0.555\n",
              "80101    0.443    0.552\n",
              "80102    0.450    0.561\n",
              "80103    0.451    0.556\n",
              "80104    0.461    0.557"
            ]
          },
          "metadata": {
            "tags": []
          },
          "execution_count": 206
        }
      ]
    },
    {
      "cell_type": "code",
      "metadata": {
        "id": "43fIaAjPySoy",
        "outputId": "1c57aab4-9ea4-4777-f0c6-80f0b573b82b",
        "colab": {
          "base_uri": "https://localhost:8080/"
        }
      },
      "source": [
        "df.pop('valence')\n",
        "df.pop('arousal')"
      ],
      "execution_count": 207,
      "outputs": [
        {
          "output_type": "execute_result",
          "data": {
            "text/plain": [
              "80100    0.555000\n",
              "80101    0.552000\n",
              "80102    0.561000\n",
              "80103    0.556000\n",
              "80104    0.557000\n",
              "           ...   \n",
              "12715   -0.153189\n",
              "12716   -0.152590\n",
              "12717   -0.150276\n",
              "12718   -0.141959\n",
              "12719   -0.134018\n",
              "Name: arousal, Length: 104640, dtype: float64"
            ]
          },
          "metadata": {
            "tags": []
          },
          "execution_count": 207
        }
      ]
    },
    {
      "cell_type": "code",
      "metadata": {
        "id": "owPx7nW_yZwi",
        "outputId": "e4e9e032-1f78-4a8a-c525-c0489e46a399",
        "colab": {
          "base_uri": "https://localhost:8080/",
          "height": 226
        }
      },
      "source": [
        "df.head()\n"
      ],
      "execution_count": 208,
      "outputs": [
        {
          "output_type": "execute_result",
          "data": {
            "text/html": [
              "<div>\n",
              "<style scoped>\n",
              "    .dataframe tbody tr th:only-of-type {\n",
              "        vertical-align: middle;\n",
              "    }\n",
              "\n",
              "    .dataframe tbody tr th {\n",
              "        vertical-align: top;\n",
              "    }\n",
              "\n",
              "    .dataframe thead th {\n",
              "        text-align: right;\n",
              "    }\n",
              "</style>\n",
              "<table border=\"1\" class=\"dataframe\">\n",
              "  <thead>\n",
              "    <tr style=\"text-align: right;\">\n",
              "      <th></th>\n",
              "      <th>zcr</th>\n",
              "      <th>rms</th>\n",
              "      <th>spectral_centroid</th>\n",
              "      <th>spectral_bandwidth</th>\n",
              "      <th>spectral_rolloff</th>\n",
              "      <th>spectral_contrast</th>\n",
              "      <th>spectral_flatness</th>\n",
              "      <th>melspectrogram</th>\n",
              "      <th>mfcc_0</th>\n",
              "      <th>mfcc_1</th>\n",
              "      <th>mfcc_2</th>\n",
              "      <th>mfcc_3</th>\n",
              "      <th>mfcc_4</th>\n",
              "      <th>mfcc_5</th>\n",
              "      <th>mfcc_6</th>\n",
              "      <th>mfcc_7</th>\n",
              "      <th>mfcc_8</th>\n",
              "      <th>mfcc_9</th>\n",
              "      <th>mfcc_10</th>\n",
              "      <th>mfcc_11</th>\n",
              "      <th>mfcc_12</th>\n",
              "      <th>mfcc_13</th>\n",
              "      <th>mfcc_14</th>\n",
              "      <th>mfcc_15</th>\n",
              "      <th>mfcc_16</th>\n",
              "      <th>mfcc_17</th>\n",
              "      <th>mfcc_18</th>\n",
              "      <th>mfcc_19</th>\n",
              "      <th>chroma_stft_0</th>\n",
              "      <th>chroma_stft_1</th>\n",
              "      <th>chroma_stft_2</th>\n",
              "      <th>chroma_stft_3</th>\n",
              "      <th>chroma_stft_4</th>\n",
              "      <th>chroma_stft_5</th>\n",
              "      <th>chroma_stft_6</th>\n",
              "      <th>chroma_stft_7</th>\n",
              "      <th>chroma_stft_8</th>\n",
              "      <th>chroma_stft_9</th>\n",
              "      <th>chroma_stft_10</th>\n",
              "      <th>chroma_stft_11</th>\n",
              "      <th>chroma_cqt_0</th>\n",
              "      <th>chroma_cqt_1</th>\n",
              "      <th>chroma_cqt_2</th>\n",
              "      <th>chroma_cqt_3</th>\n",
              "      <th>chroma_cqt_4</th>\n",
              "      <th>chroma_cqt_5</th>\n",
              "      <th>chroma_cqt_6</th>\n",
              "      <th>chroma_cqt_7</th>\n",
              "      <th>chroma_cqt_8</th>\n",
              "      <th>chroma_cqt_9</th>\n",
              "      <th>chroma_cqt_10</th>\n",
              "      <th>chroma_cqt_11</th>\n",
              "      <th>chroma_cens_0</th>\n",
              "      <th>chroma_cens_1</th>\n",
              "      <th>chroma_cens_2</th>\n",
              "      <th>chroma_cens_3</th>\n",
              "      <th>chroma_cens_4</th>\n",
              "      <th>chroma_cens_5</th>\n",
              "      <th>chroma_cens_6</th>\n",
              "      <th>chroma_cens_7</th>\n",
              "      <th>chroma_cens_8</th>\n",
              "      <th>chroma_cens_9</th>\n",
              "      <th>chroma_cens_10</th>\n",
              "      <th>chroma_cens_11</th>\n",
              "      <th>tonnetz_0</th>\n",
              "      <th>tonnetz_1</th>\n",
              "      <th>tonnetz_2</th>\n",
              "      <th>tonnetz_3</th>\n",
              "      <th>tonnetz_4</th>\n",
              "      <th>tonnetz_5</th>\n",
              "    </tr>\n",
              "  </thead>\n",
              "  <tbody>\n",
              "    <tr>\n",
              "      <th>80100</th>\n",
              "      <td>0.135254</td>\n",
              "      <td>0.028848</td>\n",
              "      <td>2224.190796</td>\n",
              "      <td>2228.273864</td>\n",
              "      <td>4769.604492</td>\n",
              "      <td>26.426731</td>\n",
              "      <td>0.023781</td>\n",
              "      <td>0.000500</td>\n",
              "      <td>-440.888062</td>\n",
              "      <td>102.829453</td>\n",
              "      <td>-28.574234</td>\n",
              "      <td>-5.716415</td>\n",
              "      <td>2.020475</td>\n",
              "      <td>18.549868</td>\n",
              "      <td>-3.755545</td>\n",
              "      <td>0.641669</td>\n",
              "      <td>18.024897</td>\n",
              "      <td>-11.926757</td>\n",
              "      <td>0.056489</td>\n",
              "      <td>-0.089929</td>\n",
              "      <td>-6.815693</td>\n",
              "      <td>-2.046793</td>\n",
              "      <td>-9.220911</td>\n",
              "      <td>5.095321</td>\n",
              "      <td>-5.972476</td>\n",
              "      <td>-2.109487</td>\n",
              "      <td>-1.577439</td>\n",
              "      <td>-12.345791</td>\n",
              "      <td>0.601879</td>\n",
              "      <td>0.757652</td>\n",
              "      <td>0.274514</td>\n",
              "      <td>0.571171</td>\n",
              "      <td>0.444097</td>\n",
              "      <td>0.261587</td>\n",
              "      <td>0.655292</td>\n",
              "      <td>0.632625</td>\n",
              "      <td>0.336762</td>\n",
              "      <td>0.826445</td>\n",
              "      <td>0.503353</td>\n",
              "      <td>0.313884</td>\n",
              "      <td>0.649331</td>\n",
              "      <td>0.258287</td>\n",
              "      <td>0.287502</td>\n",
              "      <td>0.461441</td>\n",
              "      <td>0.708580</td>\n",
              "      <td>0.221693</td>\n",
              "      <td>0.431933</td>\n",
              "      <td>0.819261</td>\n",
              "      <td>0.200281</td>\n",
              "      <td>0.491818</td>\n",
              "      <td>0.995825</td>\n",
              "      <td>0.304372</td>\n",
              "      <td>0.481176</td>\n",
              "      <td>0.966302</td>\n",
              "      <td>0.353668</td>\n",
              "      <td>0.736467</td>\n",
              "      <td>1.000000</td>\n",
              "      <td>0.336599</td>\n",
              "      <td>1.000000</td>\n",
              "      <td>0.258974</td>\n",
              "      <td>0.237966</td>\n",
              "      <td>0.703692</td>\n",
              "      <td>0.522592</td>\n",
              "      <td>0.291059</td>\n",
              "      <td>0.049564</td>\n",
              "      <td>0.052212</td>\n",
              "      <td>-0.016639</td>\n",
              "      <td>0.034494</td>\n",
              "      <td>-0.048043</td>\n",
              "      <td>0.043636</td>\n",
              "    </tr>\n",
              "    <tr>\n",
              "      <th>80101</th>\n",
              "      <td>0.089355</td>\n",
              "      <td>0.070217</td>\n",
              "      <td>2120.547581</td>\n",
              "      <td>2530.374228</td>\n",
              "      <td>4640.405273</td>\n",
              "      <td>17.347085</td>\n",
              "      <td>0.022690</td>\n",
              "      <td>0.420389</td>\n",
              "      <td>-107.587692</td>\n",
              "      <td>104.265030</td>\n",
              "      <td>-4.972916</td>\n",
              "      <td>-0.553197</td>\n",
              "      <td>-2.872669</td>\n",
              "      <td>16.108046</td>\n",
              "      <td>15.229588</td>\n",
              "      <td>5.676613</td>\n",
              "      <td>-2.583246</td>\n",
              "      <td>17.622086</td>\n",
              "      <td>0.145254</td>\n",
              "      <td>6.395308</td>\n",
              "      <td>-1.544871</td>\n",
              "      <td>-8.672790</td>\n",
              "      <td>-5.457221</td>\n",
              "      <td>3.171226</td>\n",
              "      <td>-8.463665</td>\n",
              "      <td>-4.601801</td>\n",
              "      <td>-6.985913</td>\n",
              "      <td>-2.919501</td>\n",
              "      <td>1.000000</td>\n",
              "      <td>0.921499</td>\n",
              "      <td>0.277932</td>\n",
              "      <td>0.361053</td>\n",
              "      <td>0.619663</td>\n",
              "      <td>0.265862</td>\n",
              "      <td>0.378586</td>\n",
              "      <td>0.839979</td>\n",
              "      <td>0.338536</td>\n",
              "      <td>0.821965</td>\n",
              "      <td>1.000000</td>\n",
              "      <td>0.314148</td>\n",
              "      <td>0.469581</td>\n",
              "      <td>0.749306</td>\n",
              "      <td>0.289029</td>\n",
              "      <td>0.323758</td>\n",
              "      <td>0.704694</td>\n",
              "      <td>0.219610</td>\n",
              "      <td>0.555308</td>\n",
              "      <td>0.709080</td>\n",
              "      <td>0.195969</td>\n",
              "      <td>0.515026</td>\n",
              "      <td>0.568995</td>\n",
              "      <td>0.299725</td>\n",
              "      <td>0.304202</td>\n",
              "      <td>0.509333</td>\n",
              "      <td>0.352003</td>\n",
              "      <td>0.248396</td>\n",
              "      <td>0.559379</td>\n",
              "      <td>0.334151</td>\n",
              "      <td>0.292701</td>\n",
              "      <td>0.757575</td>\n",
              "      <td>0.240761</td>\n",
              "      <td>0.695279</td>\n",
              "      <td>0.982318</td>\n",
              "      <td>0.291963</td>\n",
              "      <td>-0.015989</td>\n",
              "      <td>0.030512</td>\n",
              "      <td>-0.031505</td>\n",
              "      <td>0.053877</td>\n",
              "      <td>-0.010059</td>\n",
              "      <td>-0.005871</td>\n",
              "    </tr>\n",
              "    <tr>\n",
              "      <th>80102</th>\n",
              "      <td>0.158203</td>\n",
              "      <td>0.107285</td>\n",
              "      <td>2877.386341</td>\n",
              "      <td>3056.335523</td>\n",
              "      <td>6955.224609</td>\n",
              "      <td>16.666084</td>\n",
              "      <td>0.067008</td>\n",
              "      <td>0.287068</td>\n",
              "      <td>-58.917065</td>\n",
              "      <td>82.727417</td>\n",
              "      <td>12.909385</td>\n",
              "      <td>6.087788</td>\n",
              "      <td>3.814155</td>\n",
              "      <td>14.035367</td>\n",
              "      <td>-1.571880</td>\n",
              "      <td>-6.514990</td>\n",
              "      <td>-6.955417</td>\n",
              "      <td>-5.759521</td>\n",
              "      <td>-5.723881</td>\n",
              "      <td>-1.313100</td>\n",
              "      <td>-7.655821</td>\n",
              "      <td>3.899066</td>\n",
              "      <td>-0.384896</td>\n",
              "      <td>4.635855</td>\n",
              "      <td>-6.770026</td>\n",
              "      <td>-7.069085</td>\n",
              "      <td>-13.848262</td>\n",
              "      <td>0.497093</td>\n",
              "      <td>0.698399</td>\n",
              "      <td>0.427090</td>\n",
              "      <td>0.281068</td>\n",
              "      <td>1.000000</td>\n",
              "      <td>0.680544</td>\n",
              "      <td>0.270291</td>\n",
              "      <td>0.823638</td>\n",
              "      <td>1.000000</td>\n",
              "      <td>0.340440</td>\n",
              "      <td>0.605199</td>\n",
              "      <td>0.820676</td>\n",
              "      <td>0.314676</td>\n",
              "      <td>0.651430</td>\n",
              "      <td>0.962084</td>\n",
              "      <td>0.290561</td>\n",
              "      <td>0.548096</td>\n",
              "      <td>0.856404</td>\n",
              "      <td>0.217508</td>\n",
              "      <td>0.424032</td>\n",
              "      <td>0.613903</td>\n",
              "      <td>0.191973</td>\n",
              "      <td>0.334275</td>\n",
              "      <td>0.550477</td>\n",
              "      <td>0.295123</td>\n",
              "      <td>0.310718</td>\n",
              "      <td>0.510452</td>\n",
              "      <td>0.350052</td>\n",
              "      <td>0.569684</td>\n",
              "      <td>0.681117</td>\n",
              "      <td>0.331651</td>\n",
              "      <td>0.492854</td>\n",
              "      <td>0.592669</td>\n",
              "      <td>0.243192</td>\n",
              "      <td>0.372116</td>\n",
              "      <td>0.518414</td>\n",
              "      <td>0.292687</td>\n",
              "      <td>0.007610</td>\n",
              "      <td>0.052546</td>\n",
              "      <td>0.008085</td>\n",
              "      <td>0.024900</td>\n",
              "      <td>0.001272</td>\n",
              "      <td>0.013692</td>\n",
              "    </tr>\n",
              "    <tr>\n",
              "      <th>80103</th>\n",
              "      <td>0.102539</td>\n",
              "      <td>0.058064</td>\n",
              "      <td>3265.285114</td>\n",
              "      <td>3622.659203</td>\n",
              "      <td>8408.715820</td>\n",
              "      <td>19.257641</td>\n",
              "      <td>0.010614</td>\n",
              "      <td>0.049265</td>\n",
              "      <td>-225.328674</td>\n",
              "      <td>43.677544</td>\n",
              "      <td>46.214622</td>\n",
              "      <td>32.379696</td>\n",
              "      <td>32.748039</td>\n",
              "      <td>30.665932</td>\n",
              "      <td>18.703671</td>\n",
              "      <td>2.595285</td>\n",
              "      <td>-2.149175</td>\n",
              "      <td>4.398529</td>\n",
              "      <td>10.418361</td>\n",
              "      <td>2.220116</td>\n",
              "      <td>-13.365218</td>\n",
              "      <td>-5.126637</td>\n",
              "      <td>4.417214</td>\n",
              "      <td>-2.838010</td>\n",
              "      <td>-16.167854</td>\n",
              "      <td>-6.184332</td>\n",
              "      <td>-7.060934</td>\n",
              "      <td>-3.007277</td>\n",
              "      <td>0.046597</td>\n",
              "      <td>0.205810</td>\n",
              "      <td>0.283843</td>\n",
              "      <td>0.028656</td>\n",
              "      <td>0.203887</td>\n",
              "      <td>0.274798</td>\n",
              "      <td>0.138556</td>\n",
              "      <td>0.296771</td>\n",
              "      <td>0.342489</td>\n",
              "      <td>0.373585</td>\n",
              "      <td>0.449648</td>\n",
              "      <td>0.315596</td>\n",
              "      <td>0.540833</td>\n",
              "      <td>0.541145</td>\n",
              "      <td>0.292284</td>\n",
              "      <td>0.286799</td>\n",
              "      <td>0.228711</td>\n",
              "      <td>0.215576</td>\n",
              "      <td>0.394995</td>\n",
              "      <td>0.280395</td>\n",
              "      <td>0.188460</td>\n",
              "      <td>0.846193</td>\n",
              "      <td>0.719739</td>\n",
              "      <td>0.290514</td>\n",
              "      <td>1.000000</td>\n",
              "      <td>1.000000</td>\n",
              "      <td>0.347757</td>\n",
              "      <td>0.737226</td>\n",
              "      <td>0.543269</td>\n",
              "      <td>0.329014</td>\n",
              "      <td>0.314460</td>\n",
              "      <td>0.193327</td>\n",
              "      <td>0.245230</td>\n",
              "      <td>0.093803</td>\n",
              "      <td>0.124255</td>\n",
              "      <td>0.293051</td>\n",
              "      <td>0.024500</td>\n",
              "      <td>0.023834</td>\n",
              "      <td>-0.014449</td>\n",
              "      <td>0.006803</td>\n",
              "      <td>-0.022646</td>\n",
              "      <td>0.013251</td>\n",
              "    </tr>\n",
              "    <tr>\n",
              "      <th>80104</th>\n",
              "      <td>0.326172</td>\n",
              "      <td>0.055906</td>\n",
              "      <td>4410.380485</td>\n",
              "      <td>2894.305696</td>\n",
              "      <td>7924.218750</td>\n",
              "      <td>24.056916</td>\n",
              "      <td>0.214639</td>\n",
              "      <td>0.001269</td>\n",
              "      <td>-119.186256</td>\n",
              "      <td>0.375139</td>\n",
              "      <td>-37.334091</td>\n",
              "      <td>8.250410</td>\n",
              "      <td>9.885082</td>\n",
              "      <td>7.127433</td>\n",
              "      <td>3.887380</td>\n",
              "      <td>1.228880</td>\n",
              "      <td>-12.063889</td>\n",
              "      <td>-2.785187</td>\n",
              "      <td>-7.960257</td>\n",
              "      <td>0.448437</td>\n",
              "      <td>-22.638962</td>\n",
              "      <td>-13.666174</td>\n",
              "      <td>-17.139721</td>\n",
              "      <td>0.440553</td>\n",
              "      <td>-6.347733</td>\n",
              "      <td>-16.266562</td>\n",
              "      <td>-6.664878</td>\n",
              "      <td>-12.515160</td>\n",
              "      <td>0.605041</td>\n",
              "      <td>0.654318</td>\n",
              "      <td>0.286252</td>\n",
              "      <td>0.540072</td>\n",
              "      <td>0.821016</td>\n",
              "      <td>0.279285</td>\n",
              "      <td>0.597627</td>\n",
              "      <td>0.662107</td>\n",
              "      <td>0.344647</td>\n",
              "      <td>0.884734</td>\n",
              "      <td>0.807444</td>\n",
              "      <td>0.316862</td>\n",
              "      <td>1.000000</td>\n",
              "      <td>0.504953</td>\n",
              "      <td>0.294293</td>\n",
              "      <td>0.761845</td>\n",
              "      <td>0.526614</td>\n",
              "      <td>0.213924</td>\n",
              "      <td>0.730437</td>\n",
              "      <td>0.500214</td>\n",
              "      <td>0.185523</td>\n",
              "      <td>0.385909</td>\n",
              "      <td>0.477569</td>\n",
              "      <td>0.285917</td>\n",
              "      <td>0.448159</td>\n",
              "      <td>0.520044</td>\n",
              "      <td>0.345122</td>\n",
              "      <td>0.579833</td>\n",
              "      <td>1.000000</td>\n",
              "      <td>0.326226</td>\n",
              "      <td>0.689811</td>\n",
              "      <td>0.920495</td>\n",
              "      <td>0.246920</td>\n",
              "      <td>0.634523</td>\n",
              "      <td>0.965719</td>\n",
              "      <td>0.292977</td>\n",
              "      <td>-0.015943</td>\n",
              "      <td>-0.004859</td>\n",
              "      <td>-0.031590</td>\n",
              "      <td>0.059983</td>\n",
              "      <td>0.006757</td>\n",
              "      <td>0.018808</td>\n",
              "    </tr>\n",
              "  </tbody>\n",
              "</table>\n",
              "</div>"
            ],
            "text/plain": [
              "            zcr       rms  spectral_centroid  ...  tonnetz_3  tonnetz_4  tonnetz_5\n",
              "80100  0.135254  0.028848        2224.190796  ...   0.034494  -0.048043   0.043636\n",
              "80101  0.089355  0.070217        2120.547581  ...   0.053877  -0.010059  -0.005871\n",
              "80102  0.158203  0.107285        2877.386341  ...   0.024900   0.001272   0.013692\n",
              "80103  0.102539  0.058064        3265.285114  ...   0.006803  -0.022646   0.013251\n",
              "80104  0.326172  0.055906        4410.380485  ...   0.059983   0.006757   0.018808\n",
              "\n",
              "[5 rows x 70 columns]"
            ]
          },
          "metadata": {
            "tags": []
          },
          "execution_count": 208
        }
      ]
    },
    {
      "cell_type": "code",
      "metadata": {
        "id": "Vp0ZBgdrwh-6"
      },
      "source": [
        "# df_mean = df.mean()\n",
        "# df_std = df.std()\n",
        "\n",
        "# df = (df - df_mean) / df_std\n"
      ],
      "execution_count": 209,
      "outputs": []
    },
    {
      "cell_type": "code",
      "metadata": {
        "id": "UeJr9UgKcOsd"
      },
      "source": [
        "# print(type(df))"
      ],
      "execution_count": 210,
      "outputs": []
    },
    {
      "cell_type": "code",
      "metadata": {
        "id": "yNKS_ddKXPe-"
      },
      "source": [
        "features = df.to_numpy()\n",
        "y = y.to_numpy()"
      ],
      "execution_count": 211,
      "outputs": []
    },
    {
      "cell_type": "code",
      "metadata": {
        "id": "4ZFq097oYHka",
        "outputId": "4ce8b0c7-cf97-4593-d385-046fbaa50319",
        "colab": {
          "base_uri": "https://localhost:8080/"
        }
      },
      "source": [
        "print(features.shape)\n",
        "print(y.shape)"
      ],
      "execution_count": 212,
      "outputs": [
        {
          "output_type": "stream",
          "text": [
            "(104640, 70)\n",
            "(104640, 2)\n"
          ],
          "name": "stdout"
        }
      ]
    },
    {
      "cell_type": "code",
      "metadata": {
        "id": "vH36lfbDYHdI"
      },
      "source": [
        "features = features.reshape(1744,60,70)\n",
        "y = y.reshape(1744,60,2)"
      ],
      "execution_count": 213,
      "outputs": []
    },
    {
      "cell_type": "code",
      "metadata": {
        "id": "86W_1rgzlv1M"
      },
      "source": [
        "train_X , train_y = features[0:1220] , y[0:1220]\n",
        "test_X , test_y = features[1220:1744] , y[1220:1744]\n",
        "# val_X , val_y = features [1569:1744] , valence[0:1220]"
      ],
      "execution_count": 214,
      "outputs": []
    },
    {
      "cell_type": "code",
      "metadata": {
        "id": "n0kO1fD6mZPO",
        "outputId": "100ecf31-424c-4616-8963-d02e4d59382e",
        "colab": {
          "base_uri": "https://localhost:8080/"
        }
      },
      "source": [
        "print(\"train_X :\" , train_X.shape , \"train_y shape:\" , train_y.shape)\n",
        "print(\"test_X :\" , test_X.shape , \"test_y shape:\" , test_y.shape)\n",
        "# print(\"val_X :\" , val_X.shape , \"val_y shape:\" , val_y.shape)\n"
      ],
      "execution_count": 215,
      "outputs": [
        {
          "output_type": "stream",
          "text": [
            "train_X : (1220, 60, 70) train_y shape: (1220, 60, 2)\n",
            "test_X : (524, 60, 70) test_y shape: (524, 60, 2)\n"
          ],
          "name": "stdout"
        }
      ]
    },
    {
      "cell_type": "code",
      "metadata": {
        "id": "xPUKoT6UZJqK"
      },
      "source": [
        "# print(features.shape)\n",
        "# for i in range(1):\n",
        "#   print(features)"
      ],
      "execution_count": 216,
      "outputs": []
    },
    {
      "cell_type": "code",
      "metadata": {
        "id": "KlPmZirqZnwO"
      },
      "source": [
        "# print(valence.shape)\n",
        "# print(valence)"
      ],
      "execution_count": 217,
      "outputs": []
    },
    {
      "cell_type": "code",
      "metadata": {
        "id": "I8_NKb8rbt7s"
      },
      "source": [
        "# print(type(features))\n",
        "# print(features.shape)"
      ],
      "execution_count": 218,
      "outputs": []
    },
    {
      "cell_type": "code",
      "metadata": {
        "id": "ihLB68_nle5M"
      },
      "source": [
        "model = Sequential()\n",
        "\n",
        "# model.add(Bidirectional(LSTM(128,return_sequences=True, input_shape=(60,70))))\n",
        "# model.add(Dropout(0.2))\n",
        "# model.add(Bidirectional(LSTM(128,return_sequences=True, input_shape=(60,70))))\n",
        "# model.add(Dropout(0.2))\n",
        "# model.add(Bidirectional(LSTM(128,return_sequences=True, input_shape=(60,70))))\n",
        "# model.add(Dropout(0.2))\n",
        "\n",
        "# model.add(Bidirectional(LSTM(128,return_sequences=True, input_shape=(60,70))))\n",
        "model.add(Bidirectional(LSTM(128,return_sequences=True, input_shape=(60,70))))\n",
        "model.add(Dropout(0.2))\n",
        "model.add(Bidirectional(LSTM(128,return_sequences=True, input_shape=(60,70))))\n",
        "model.add(Dropout(0.2))\n",
        "# model.add(Bidirectional(LSTM(64,return_sequences=True, input_shape=(60,70))))\n",
        "# model.add(Dropout(0.3))\n",
        "# model.add(Bidirectional(LSTM(32,return_sequences=True, input_shape=(60,70))))\n",
        "# model.add(Bidirectional(LSTM(16,return_sequences=True, input_shape=(60,70))))\n",
        "# model.add(Bidirectional(LSTM(8,return_sequences=True, input_shape=(60,70))))\n",
        "\n",
        "\n",
        "\n",
        "\n",
        "model.add(Dense(2))\n",
        "model.compile(loss='mse', optimizer='adam')"
      ],
      "execution_count": 219,
      "outputs": []
    },
    {
      "cell_type": "code",
      "metadata": {
        "id": "27usXwSelDL0",
        "outputId": "9d88dd87-1db2-4134-d9ff-c5f6a9f03eec",
        "colab": {
          "base_uri": "https://localhost:8080/"
        }
      },
      "source": [
        "history = model.fit(train_X, train_y, epochs=20, validation_data=(test_X, test_y), verbose=2, shuffle=False)\n"
      ],
      "execution_count": 220,
      "outputs": [
        {
          "output_type": "stream",
          "text": [
            "Epoch 1/20\n",
            "39/39 - 2s - loss: 0.1133 - val_loss: 0.0464\n",
            "Epoch 2/20\n",
            "39/39 - 1s - loss: 0.0566 - val_loss: 0.0438\n",
            "Epoch 3/20\n",
            "39/39 - 1s - loss: 0.0514 - val_loss: 0.0417\n",
            "Epoch 4/20\n",
            "39/39 - 1s - loss: 0.0492 - val_loss: 0.0456\n",
            "Epoch 5/20\n",
            "39/39 - 1s - loss: 0.0460 - val_loss: 0.0405\n",
            "Epoch 6/20\n",
            "39/39 - 1s - loss: 0.0447 - val_loss: 0.0420\n",
            "Epoch 7/20\n",
            "39/39 - 1s - loss: 0.0431 - val_loss: 0.0386\n",
            "Epoch 8/20\n",
            "39/39 - 1s - loss: 0.0425 - val_loss: 0.0370\n",
            "Epoch 9/20\n",
            "39/39 - 1s - loss: 0.0437 - val_loss: 0.0423\n",
            "Epoch 10/20\n",
            "39/39 - 1s - loss: 0.0435 - val_loss: 0.0424\n",
            "Epoch 11/20\n",
            "39/39 - 1s - loss: 0.0439 - val_loss: 0.0451\n",
            "Epoch 12/20\n",
            "39/39 - 1s - loss: 0.0430 - val_loss: 0.0448\n",
            "Epoch 13/20\n",
            "39/39 - 1s - loss: 0.0442 - val_loss: 0.0453\n",
            "Epoch 14/20\n",
            "39/39 - 1s - loss: 0.0452 - val_loss: 0.0429\n",
            "Epoch 15/20\n",
            "39/39 - 1s - loss: 0.0443 - val_loss: 0.0421\n",
            "Epoch 16/20\n",
            "39/39 - 1s - loss: 0.0433 - val_loss: 0.0420\n",
            "Epoch 17/20\n",
            "39/39 - 1s - loss: 0.0432 - val_loss: 0.0406\n",
            "Epoch 18/20\n",
            "39/39 - 1s - loss: 0.0422 - val_loss: 0.0412\n",
            "Epoch 19/20\n",
            "39/39 - 1s - loss: 0.0423 - val_loss: 0.0399\n",
            "Epoch 20/20\n",
            "39/39 - 1s - loss: 0.0413 - val_loss: 0.0398\n"
          ],
          "name": "stdout"
        }
      ]
    },
    {
      "cell_type": "code",
      "metadata": {
        "id": "_ACHp8c0YFOP",
        "outputId": "a310e244-1647-49c4-dc0b-0f8cdac11e30",
        "colab": {
          "base_uri": "https://localhost:8080/",
          "height": 282
        }
      },
      "source": [
        "plt.plot(history.history['loss'], label='train')\n",
        "plt.plot(history.history['val_loss'], label='test')\n",
        "plt.legend()\n",
        "plt.show()\n",
        "plt.savefig(\"training loss 350epochs_5layers\")"
      ],
      "execution_count": 221,
      "outputs": [
        {
          "output_type": "display_data",
          "data": {
            "image/png": "[encoded data removed]",
            "text/plain": [
              "<Figure size 432x288 with 1 Axes>"
            ]
          },
          "metadata": {
            "tags": [],
            "needs_background": "light"
          }
        },
        {
          "output_type": "display_data",
          "data": {
            "text/plain": [
              "<Figure size 432x288 with 0 Axes>"
            ]
          },
          "metadata": {
            "tags": []
          }
        }
      ]
    },
    {
      "cell_type": "code",
      "metadata": {
        "id": "SwKISLlZXV2d",
        "outputId": "aea46839-5368-438f-d7c8-73929d1a751a",
        "colab": {
          "base_uri": "https://localhost:8080/"
        }
      },
      "source": [
        "history.history\n",
        "print('overall loss' , np.mean(history.history['loss']))\n",
        "print('overall val_loss' , np.mean(history.history['val_loss']))"
      ],
      "execution_count": 222,
      "outputs": [
        {
          "output_type": "stream",
          "text": [
            "overall loss 0.04834657683968544\n",
            "overall val_loss 0.04219608660787344\n"
          ],
          "name": "stdout"
        }
      ]
    },
    {
      "cell_type": "code",
      "metadata": {
        "id": "Pw8CtS1BlHPk"
      },
      "source": [
        "predicted_y = model.predict(test_X)\n"
      ],
      "execution_count": 223,
      "outputs": []
    },
    {
      "cell_type": "code",
      "metadata": {
        "id": "4s5LCQCHzgjS",
        "outputId": "ecb37be1-f9f8-45be-f208-6d95a70bb8db",
        "colab": {
          "base_uri": "https://localhost:8080/"
        }
      },
      "source": [
        "print(predicted_y.shape)\n",
        "print(test_y.shape)"
      ],
      "execution_count": 224,
      "outputs": [
        {
          "output_type": "stream",
          "text": [
            "(524, 60, 2)\n",
            "(524, 60, 2)\n"
          ],
          "name": "stdout"
        }
      ]
    },
    {
      "cell_type": "code",
      "metadata": {
        "id": "tQZgAGhuBAGj"
      },
      "source": [
        "predicted_valence = predicted_y[:,:,0]\n",
        "predicted_arousal = predicted_y[:,:,1]\n",
        "test_valence = test_y[:,:,0]\n",
        "test_arousal = test_y[:,:,1]"
      ],
      "execution_count": 225,
      "outputs": []
    },
    {
      "cell_type": "code",
      "metadata": {
        "id": "Bx3FtbF1CC-q"
      },
      "source": [
        "# for i in range(1):\n",
        "  # print(predicted_valence[i])\n",
        "  # print(predicted_arousal[i])\n",
        "  # print(test_valence[i])\n",
        "  # print(test_arousal[i])"
      ],
      "execution_count": 226,
      "outputs": []
    },
    {
      "cell_type": "code",
      "metadata": {
        "id": "vAZfp3jyV0_f"
      },
      "source": [
        "predicted_valence = predicted_valence.reshape(31440,)\n",
        "test_valence = test_valence.reshape(31440,)\n",
        "predicted_arousal = predicted_arousal.reshape(31440,)\n",
        "test_arousal = test_arousal.reshape(31440,)"
      ],
      "execution_count": 227,
      "outputs": []
    },
    {
      "cell_type": "code",
      "metadata": {
        "id": "-cQpvl4DYkwQ"
      },
      "source": [
        "def metrics(y_true,y_pred,name):\n",
        "  print(name,\"\")\n",
        "  mae = mean_absolute_error(y_true,y_pred)\n",
        "  rmse = sqrt(mean_squared_error(y_true,y_pred))\n",
        "  r2 = r2_score(y_true,y_pred)\n",
        "  pearson_corr = pearsonr(y_true,y_pred)\n",
        "  spearman_corr = spearmanr(y_true,y_pred)\n",
        "  \n",
        "  print('RMSE : ',rmse)\n",
        "  print('Pearson : ',pearson_corr)\n",
        "  print('MAE : ',mae)\n",
        "  print('R2 : ',r2)\n",
        "  print('Spearman : ',spearman_corr,'\\n')\n"
      ],
      "execution_count": 228,
      "outputs": []
    },
    {
      "cell_type": "code",
      "metadata": {
        "id": "wI22IyyxfafF"
      },
      "source": [
        "def graph_results(x,y,title, xlim=-1, ylim=-1):\n",
        "  #x and y are variables ( y_pred vs y_true )\n",
        "  #Important\n",
        "  plt.scatter(x,y,s=15)\n",
        "\n",
        "  # if xlim != -1: plt.xlim([0, xlim])\n",
        "  # if ylim != -1: plt.ylim([0, ylim])\n",
        "  # plt.gca().set_ylim([1.5,7.5])\n",
        "  # plt.gca().set_xlim([1.5,9])\n",
        "  #Fix \n",
        "  plt.xlabel(\"Actual\")\n",
        "  plt.ylabel(\"Predicted\")\n",
        "  plt.title((title))\n",
        "  # m, b = np.polyfit(x, y, 1)\n",
        "  # plt.plot(x, m*x + b, color='red')  \n",
        "  plt.savefig(title)\n",
        "\n",
        "  plt.show()"
      ],
      "execution_count": 229,
      "outputs": []
    },
    {
      "cell_type": "code",
      "metadata": {
        "id": "zbJaq7WqaLB9",
        "outputId": "ab99a6c4-4d3e-4ced-91c5-fc601a86ff72",
        "colab": {
          "base_uri": "https://localhost:8080/",
          "height": 417
        }
      },
      "source": [
        "metrics(test_valence,predicted_valence,'valence')\n",
        "graph_results(test_valence,predicted_valence,'valence actual vs prediction')\n"
      ],
      "execution_count": 230,
      "outputs": [
        {
          "output_type": "stream",
          "text": [
            "valence \n",
            "RMSE :  0.20831692809707303\n",
            "Pearson :  (0.491756539714903, 0.0)\n",
            "MAE :  0.16799108776956548\n",
            "R2 :  0.23552338102142778\n",
            "Spearman :  SpearmanrResult(correlation=0.49235050609271946, pvalue=0.0) \n",
            "\n"
          ],
          "name": "stdout"
        },
        {
          "output_type": "display_data",
          "data": {
            "image/png": "[encoded data removed]",
            "text/plain": [
              "<Figure size 432x288 with 1 Axes>"
            ]
          },
          "metadata": {
            "tags": [],
            "needs_background": "light"
          }
        }
      ]
    },
    {
      "cell_type": "code",
      "metadata": {
        "id": "ZaFzNqaBC-9q",
        "outputId": "8cef068c-0b3e-4ec0-8278-c8c6644fc6ed",
        "colab": {
          "base_uri": "https://localhost:8080/",
          "height": 417
        }
      },
      "source": [
        "metrics(test_arousal,predicted_arousal,'arousal')\n",
        "graph_results(test_arousal,predicted_arousal,'arousal actual vs prediction')"
      ],
      "execution_count": 231,
      "outputs": [
        {
          "output_type": "stream",
          "text": [
            "arousal \n",
            "RMSE :  0.19019188980476862\n",
            "Pearson :  (0.7617556277344708, 0.0)\n",
            "MAE :  0.15573972599631897\n",
            "R2 :  0.5734340341587061\n",
            "Spearman :  SpearmanrResult(correlation=0.76489677975767, pvalue=0.0) \n",
            "\n"
          ],
          "name": "stdout"
        },
        {
          "output_type": "display_data",
          "data": {
            "image/png": "[encoded data removed]",
            "text/plain": [
              "<Figure size 432x288 with 1 Axes>"
            ]
          },
          "metadata": {
            "tags": [],
            "needs_background": "light"
          }
        }
      ]
    },
    {
      "cell_type": "code",
      "metadata": {
        "id": "pcQaHYbFSziG"
      },
      "source": [
        ""
      ],
      "execution_count": 231,
      "outputs": []
    }
  ]
}