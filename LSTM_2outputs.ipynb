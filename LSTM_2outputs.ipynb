{
  "nbformat": 4,
  "nbformat_minor": 0,
  "metadata": {
    "accelerator": "GPU",
    "colab": {
      "name": "LSTM_2outputs.ipynb",
      "provenance": [],
      "collapsed_sections": [],
      "include_colab_link": true
    },
    "kernelspec": {
      "display_name": "Python 3",
      "language": "python",
      "name": "python3"
    },
    "language_info": {
      "codemirror_mode": {
        "name": "ipython",
        "version": 3
      },
      "file_extension": ".py",
      "mimetype": "text/x-python",
      "name": "python",
      "nbconvert_exporter": "python",
      "pygments_lexer": "ipython3",
      "version": "3.7.6"
    }
  },
  "cells": [
    {
      "cell_type": "markdown",
      "metadata": {
        "id": "view-in-github",
        "colab_type": "text"
      },
      "source": [
        "<a href=\"https://colab.research.google.com/github/chan-kh/Music-Sentiment-Analysis/blob/main/LSTM_2outputs.ipynb\" target=\"_parent\"><img src=\"https://colab.research.google.com/assets/colab-badge.svg\" alt=\"Open In Colab\"/></a>"
      ]
    },
    {
      "cell_type": "code",
      "metadata": {
        "id": "vbaXYegNi0Id"
      },
      "source": [
        "import os\n",
        "import datetime\n",
        "from google.colab import drive\n",
        "\n",
        "import IPython\n",
        "import IPython.display\n",
        "import matplotlib as mpl\n",
        "import matplotlib.pyplot as plt\n",
        "import numpy as np\n",
        "import pandas as pd\n",
        "import tensorflow as tf\n",
        "import tensorflow_datasets as tfds\n",
        "from sklearn.preprocessing import MinMaxScaler\n",
        "import seaborn as sns\n",
        "from pandas import DataFrame\n",
        "\n",
        "from numpy import loadtxt\n",
        "from keras.models import Sequential\n",
        "from keras.layers import LSTM\n",
        "from keras.layers import Dense\n",
        "from keras.layers import Dropout\n",
        "\n",
        "from keras import layers\n",
        "from keras.optimizers import RMSprop\n",
        "from keras.layers import Bidirectional\n",
        "\n",
        "from math import sqrt\n",
        "from scipy.stats.stats import pearsonr, spearmanr\n",
        "from sklearn.metrics import mean_absolute_error,mean_squared_error,r2_score"
      ],
      "execution_count": 79,
      "outputs": []
    },
    {
      "cell_type": "code",
      "metadata": {
        "id": "bBHlWjU0jQsx",
        "outputId": "d4e46f07-32d4-4264-a402-7c24d81e1103",
        "colab": {
          "base_uri": "https://localhost:8080/",
          "height": 244
        }
      },
      "source": [
        "drive.mount(\"/content/drive\")\n",
        "df = pd.read_csv('/content/drive/My Drive/Colab Notebooks/Sentiment/features_60frames_allsongs.csv')\n",
        "df.head()\n"
      ],
      "execution_count": 80,
      "outputs": [
        {
          "output_type": "stream",
          "text": [
            "Drive already mounted at /content/drive; to attempt to forcibly remount, call drive.mount(\"/content/drive\", force_remount=True).\n"
          ],
          "name": "stdout"
        },
        {
          "output_type": "execute_result",
          "data": {
            "text/html": [
              "<div>\n",
              "<style scoped>\n",
              "    .dataframe tbody tr th:only-of-type {\n",
              "        vertical-align: middle;\n",
              "    }\n",
              "\n",
              "    .dataframe tbody tr th {\n",
              "        vertical-align: top;\n",
              "    }\n",
              "\n",
              "    .dataframe thead th {\n",
              "        text-align: right;\n",
              "    }\n",
              "</style>\n",
              "<table border=\"1\" class=\"dataframe\">\n",
              "  <thead>\n",
              "    <tr style=\"text-align: right;\">\n",
              "      <th></th>\n",
              "      <th>song_id</th>\n",
              "      <th>frame_num</th>\n",
              "      <th>zcr</th>\n",
              "      <th>rms</th>\n",
              "      <th>spectral_centroid</th>\n",
              "      <th>spectral_bandwidth</th>\n",
              "      <th>spectral_rolloff</th>\n",
              "      <th>spectral_contrast</th>\n",
              "      <th>spectral_flatness</th>\n",
              "      <th>melspectrogram</th>\n",
              "      <th>mfcc_0</th>\n",
              "      <th>mfcc_1</th>\n",
              "      <th>mfcc_2</th>\n",
              "      <th>mfcc_3</th>\n",
              "      <th>mfcc_4</th>\n",
              "      <th>mfcc_5</th>\n",
              "      <th>mfcc_6</th>\n",
              "      <th>mfcc_7</th>\n",
              "      <th>mfcc_8</th>\n",
              "      <th>mfcc_9</th>\n",
              "      <th>mfcc_10</th>\n",
              "      <th>mfcc_11</th>\n",
              "      <th>mfcc_12</th>\n",
              "      <th>mfcc_13</th>\n",
              "      <th>mfcc_14</th>\n",
              "      <th>mfcc_15</th>\n",
              "      <th>mfcc_16</th>\n",
              "      <th>mfcc_17</th>\n",
              "      <th>mfcc_18</th>\n",
              "      <th>mfcc_19</th>\n",
              "      <th>chroma_stft_0</th>\n",
              "      <th>chroma_stft_1</th>\n",
              "      <th>chroma_stft_2</th>\n",
              "      <th>chroma_stft_3</th>\n",
              "      <th>chroma_stft_4</th>\n",
              "      <th>chroma_stft_5</th>\n",
              "      <th>chroma_stft_6</th>\n",
              "      <th>chroma_stft_7</th>\n",
              "      <th>chroma_stft_8</th>\n",
              "      <th>chroma_stft_9</th>\n",
              "      <th>chroma_stft_10</th>\n",
              "      <th>chroma_stft_11</th>\n",
              "      <th>chroma_cqt_0</th>\n",
              "      <th>chroma_cqt_1</th>\n",
              "      <th>chroma_cqt_2</th>\n",
              "      <th>chroma_cqt_3</th>\n",
              "      <th>chroma_cqt_4</th>\n",
              "      <th>chroma_cqt_5</th>\n",
              "      <th>chroma_cqt_6</th>\n",
              "      <th>chroma_cqt_7</th>\n",
              "      <th>chroma_cqt_8</th>\n",
              "      <th>chroma_cqt_9</th>\n",
              "      <th>chroma_cqt_10</th>\n",
              "      <th>chroma_cqt_11</th>\n",
              "      <th>chroma_cens_0</th>\n",
              "      <th>chroma_cens_1</th>\n",
              "      <th>chroma_cens_2</th>\n",
              "      <th>chroma_cens_3</th>\n",
              "      <th>chroma_cens_4</th>\n",
              "      <th>chroma_cens_5</th>\n",
              "      <th>chroma_cens_6</th>\n",
              "      <th>chroma_cens_7</th>\n",
              "      <th>chroma_cens_8</th>\n",
              "      <th>chroma_cens_9</th>\n",
              "      <th>chroma_cens_10</th>\n",
              "      <th>chroma_cens_11</th>\n",
              "      <th>tonnetz_0</th>\n",
              "      <th>tonnetz_1</th>\n",
              "      <th>tonnetz_2</th>\n",
              "      <th>tonnetz_3</th>\n",
              "      <th>tonnetz_4</th>\n",
              "      <th>tonnetz_5</th>\n",
              "      <th>valence</th>\n",
              "      <th>arousal</th>\n",
              "    </tr>\n",
              "  </thead>\n",
              "  <tbody>\n",
              "    <tr>\n",
              "      <th>0</th>\n",
              "      <td>2</td>\n",
              "      <td>0</td>\n",
              "      <td>0.157715</td>\n",
              "      <td>0.000011</td>\n",
              "      <td>5604.262879</td>\n",
              "      <td>3246.069688</td>\n",
              "      <td>9549.975586</td>\n",
              "      <td>18.349374</td>\n",
              "      <td>0.283305</td>\n",
              "      <td>0.000000</td>\n",
              "      <td>-636.134705</td>\n",
              "      <td>0.000000</td>\n",
              "      <td>0.000000</td>\n",
              "      <td>0.000000</td>\n",
              "      <td>0.000000</td>\n",
              "      <td>0.000000</td>\n",
              "      <td>0.000000</td>\n",
              "      <td>0.000000</td>\n",
              "      <td>0.000000</td>\n",
              "      <td>0.000000</td>\n",
              "      <td>0.000000</td>\n",
              "      <td>0.000000</td>\n",
              "      <td>0.000000</td>\n",
              "      <td>0.000000</td>\n",
              "      <td>0.000000</td>\n",
              "      <td>0.000000</td>\n",
              "      <td>0.000000</td>\n",
              "      <td>0.000000</td>\n",
              "      <td>0.000000</td>\n",
              "      <td>0.000000</td>\n",
              "      <td>0.654255</td>\n",
              "      <td>0.699066</td>\n",
              "      <td>0.261531</td>\n",
              "      <td>0.874848</td>\n",
              "      <td>1.000000</td>\n",
              "      <td>0.333313</td>\n",
              "      <td>0.812421</td>\n",
              "      <td>0.488101</td>\n",
              "      <td>0.413135</td>\n",
              "      <td>0.640419</td>\n",
              "      <td>0.671442</td>\n",
              "      <td>0.490904</td>\n",
              "      <td>0.725918</td>\n",
              "      <td>0.250459</td>\n",
              "      <td>0.284098</td>\n",
              "      <td>0.647150</td>\n",
              "      <td>0.349017</td>\n",
              "      <td>0.147453</td>\n",
              "      <td>0.501239</td>\n",
              "      <td>0.074669</td>\n",
              "      <td>0.070883</td>\n",
              "      <td>0.633342</td>\n",
              "      <td>0.184297</td>\n",
              "      <td>0.136420</td>\n",
              "      <td>0.700169</td>\n",
              "      <td>0.030602</td>\n",
              "      <td>0.209675</td>\n",
              "      <td>0.828279</td>\n",
              "      <td>0.124886</td>\n",
              "      <td>0.257948</td>\n",
              "      <td>1.000000</td>\n",
              "      <td>0.071105</td>\n",
              "      <td>0.309559</td>\n",
              "      <td>0.798000</td>\n",
              "      <td>0.076693</td>\n",
              "      <td>0.276441</td>\n",
              "      <td>-0.134078</td>\n",
              "      <td>0.072852</td>\n",
              "      <td>-0.134683</td>\n",
              "      <td>0.086125</td>\n",
              "      <td>0.060471</td>\n",
              "      <td>0.042898</td>\n",
              "      <td>-0.073341</td>\n",
              "      <td>-0.109386</td>\n",
              "    </tr>\n",
              "    <tr>\n",
              "      <th>1</th>\n",
              "      <td>2</td>\n",
              "      <td>1</td>\n",
              "      <td>0.051758</td>\n",
              "      <td>0.096817</td>\n",
              "      <td>1443.667160</td>\n",
              "      <td>2057.611806</td>\n",
              "      <td>3036.181641</td>\n",
              "      <td>27.017306</td>\n",
              "      <td>0.003931</td>\n",
              "      <td>1.576688</td>\n",
              "      <td>-120.319748</td>\n",
              "      <td>129.464996</td>\n",
              "      <td>-4.253306</td>\n",
              "      <td>22.214062</td>\n",
              "      <td>8.163963</td>\n",
              "      <td>16.415987</td>\n",
              "      <td>15.152133</td>\n",
              "      <td>7.878392</td>\n",
              "      <td>-6.823561</td>\n",
              "      <td>-0.831550</td>\n",
              "      <td>-7.218902</td>\n",
              "      <td>-4.558928</td>\n",
              "      <td>-1.807601</td>\n",
              "      <td>12.948887</td>\n",
              "      <td>-9.162554</td>\n",
              "      <td>-3.758020</td>\n",
              "      <td>-5.506585</td>\n",
              "      <td>-1.227700</td>\n",
              "      <td>-4.439484</td>\n",
              "      <td>1.684063</td>\n",
              "      <td>0.528904</td>\n",
              "      <td>0.624552</td>\n",
              "      <td>0.263783</td>\n",
              "      <td>0.891966</td>\n",
              "      <td>0.850903</td>\n",
              "      <td>0.331133</td>\n",
              "      <td>1.000000</td>\n",
              "      <td>1.000000</td>\n",
              "      <td>0.408033</td>\n",
              "      <td>0.713866</td>\n",
              "      <td>0.681263</td>\n",
              "      <td>0.480444</td>\n",
              "      <td>0.245905</td>\n",
              "      <td>0.378263</td>\n",
              "      <td>0.278916</td>\n",
              "      <td>0.160639</td>\n",
              "      <td>0.397115</td>\n",
              "      <td>0.147040</td>\n",
              "      <td>0.285743</td>\n",
              "      <td>0.536704</td>\n",
              "      <td>0.072041</td>\n",
              "      <td>0.314144</td>\n",
              "      <td>0.652729</td>\n",
              "      <td>0.144099</td>\n",
              "      <td>0.269362</td>\n",
              "      <td>0.637670</td>\n",
              "      <td>0.218737</td>\n",
              "      <td>0.382769</td>\n",
              "      <td>0.677961</td>\n",
              "      <td>0.263132</td>\n",
              "      <td>0.424450</td>\n",
              "      <td>0.649488</td>\n",
              "      <td>0.317883</td>\n",
              "      <td>0.517798</td>\n",
              "      <td>0.579528</td>\n",
              "      <td>0.282752</td>\n",
              "      <td>-0.088692</td>\n",
              "      <td>0.052331</td>\n",
              "      <td>-0.112961</td>\n",
              "      <td>0.075804</td>\n",
              "      <td>0.041915</td>\n",
              "      <td>0.033029</td>\n",
              "      <td>-0.074661</td>\n",
              "      <td>-0.114942</td>\n",
              "    </tr>\n",
              "    <tr>\n",
              "      <th>2</th>\n",
              "      <td>2</td>\n",
              "      <td>2</td>\n",
              "      <td>0.101562</td>\n",
              "      <td>0.096426</td>\n",
              "      <td>2348.097128</td>\n",
              "      <td>2387.006355</td>\n",
              "      <td>4941.870117</td>\n",
              "      <td>22.434103</td>\n",
              "      <td>0.013857</td>\n",
              "      <td>0.152583</td>\n",
              "      <td>-107.915352</td>\n",
              "      <td>76.319107</td>\n",
              "      <td>-14.175928</td>\n",
              "      <td>45.124214</td>\n",
              "      <td>1.209538</td>\n",
              "      <td>7.516734</td>\n",
              "      <td>-5.023264</td>\n",
              "      <td>6.480774</td>\n",
              "      <td>-0.513962</td>\n",
              "      <td>8.108901</td>\n",
              "      <td>-0.198636</td>\n",
              "      <td>-3.022716</td>\n",
              "      <td>2.078595</td>\n",
              "      <td>4.819644</td>\n",
              "      <td>-16.200150</td>\n",
              "      <td>-3.348299</td>\n",
              "      <td>-5.746615</td>\n",
              "      <td>-9.680576</td>\n",
              "      <td>-17.688511</td>\n",
              "      <td>-5.846364</td>\n",
              "      <td>0.190785</td>\n",
              "      <td>0.290683</td>\n",
              "      <td>0.265836</td>\n",
              "      <td>0.206553</td>\n",
              "      <td>0.217986</td>\n",
              "      <td>0.329024</td>\n",
              "      <td>0.491271</td>\n",
              "      <td>0.576434</td>\n",
              "      <td>0.402986</td>\n",
              "      <td>1.000000</td>\n",
              "      <td>0.924618</td>\n",
              "      <td>0.469653</td>\n",
              "      <td>0.706139</td>\n",
              "      <td>0.605435</td>\n",
              "      <td>0.273279</td>\n",
              "      <td>0.307669</td>\n",
              "      <td>0.224213</td>\n",
              "      <td>0.146400</td>\n",
              "      <td>0.107266</td>\n",
              "      <td>0.206321</td>\n",
              "      <td>0.073380</td>\n",
              "      <td>0.222554</td>\n",
              "      <td>0.297425</td>\n",
              "      <td>0.151825</td>\n",
              "      <td>0.408395</td>\n",
              "      <td>0.409732</td>\n",
              "      <td>0.227828</td>\n",
              "      <td>0.563377</td>\n",
              "      <td>0.734764</td>\n",
              "      <td>0.268284</td>\n",
              "      <td>0.755202</td>\n",
              "      <td>1.000000</td>\n",
              "      <td>0.326054</td>\n",
              "      <td>0.528056</td>\n",
              "      <td>0.687259</td>\n",
              "      <td>0.288720</td>\n",
              "      <td>-0.034494</td>\n",
              "      <td>0.031843</td>\n",
              "      <td>-0.070020</td>\n",
              "      <td>0.068549</td>\n",
              "      <td>0.021691</td>\n",
              "      <td>0.023202</td>\n",
              "      <td>-0.074077</td>\n",
              "      <td>-0.116413</td>\n",
              "    </tr>\n",
              "    <tr>\n",
              "      <th>3</th>\n",
              "      <td>2</td>\n",
              "      <td>3</td>\n",
              "      <td>0.062500</td>\n",
              "      <td>0.086847</td>\n",
              "      <td>1692.187106</td>\n",
              "      <td>1872.280637</td>\n",
              "      <td>3219.213867</td>\n",
              "      <td>21.295763</td>\n",
              "      <td>0.004178</td>\n",
              "      <td>0.224268</td>\n",
              "      <td>-148.255432</td>\n",
              "      <td>121.565720</td>\n",
              "      <td>-36.703545</td>\n",
              "      <td>33.151939</td>\n",
              "      <td>4.518500</td>\n",
              "      <td>5.197342</td>\n",
              "      <td>-8.610166</td>\n",
              "      <td>4.267920</td>\n",
              "      <td>8.706326</td>\n",
              "      <td>-17.273952</td>\n",
              "      <td>-11.429454</td>\n",
              "      <td>4.515498</td>\n",
              "      <td>-7.324573</td>\n",
              "      <td>4.467141</td>\n",
              "      <td>-13.720921</td>\n",
              "      <td>-3.195490</td>\n",
              "      <td>-3.931114</td>\n",
              "      <td>-7.317858</td>\n",
              "      <td>-15.654930</td>\n",
              "      <td>-15.824336</td>\n",
              "      <td>0.245845</td>\n",
              "      <td>0.300974</td>\n",
              "      <td>0.267710</td>\n",
              "      <td>0.523842</td>\n",
              "      <td>0.578168</td>\n",
              "      <td>0.326966</td>\n",
              "      <td>1.000000</td>\n",
              "      <td>0.842026</td>\n",
              "      <td>0.397746</td>\n",
              "      <td>0.846539</td>\n",
              "      <td>1.000000</td>\n",
              "      <td>0.458391</td>\n",
              "      <td>0.477668</td>\n",
              "      <td>0.673670</td>\n",
              "      <td>0.267148</td>\n",
              "      <td>0.095004</td>\n",
              "      <td>0.189054</td>\n",
              "      <td>0.145584</td>\n",
              "      <td>0.031817</td>\n",
              "      <td>0.101448</td>\n",
              "      <td>0.075003</td>\n",
              "      <td>0.024125</td>\n",
              "      <td>0.114284</td>\n",
              "      <td>0.159790</td>\n",
              "      <td>0.044276</td>\n",
              "      <td>0.137589</td>\n",
              "      <td>0.237066</td>\n",
              "      <td>0.215029</td>\n",
              "      <td>0.300263</td>\n",
              "      <td>0.273559</td>\n",
              "      <td>0.177739</td>\n",
              "      <td>0.341496</td>\n",
              "      <td>0.334054</td>\n",
              "      <td>0.110806</td>\n",
              "      <td>0.207098</td>\n",
              "      <td>0.294537</td>\n",
              "      <td>-0.013095</td>\n",
              "      <td>0.020309</td>\n",
              "      <td>-0.055259</td>\n",
              "      <td>0.034349</td>\n",
              "      <td>0.011610</td>\n",
              "      <td>0.012032</td>\n",
              "      <td>-0.078154</td>\n",
              "      <td>-0.118613</td>\n",
              "    </tr>\n",
              "    <tr>\n",
              "      <th>4</th>\n",
              "      <td>2</td>\n",
              "      <td>4</td>\n",
              "      <td>0.120605</td>\n",
              "      <td>0.113167</td>\n",
              "      <td>2632.895857</td>\n",
              "      <td>2453.043616</td>\n",
              "      <td>5329.467773</td>\n",
              "      <td>18.914987</td>\n",
              "      <td>0.025196</td>\n",
              "      <td>1.035493</td>\n",
              "      <td>-71.919838</td>\n",
              "      <td>76.267471</td>\n",
              "      <td>-28.003765</td>\n",
              "      <td>15.988888</td>\n",
              "      <td>4.667567</td>\n",
              "      <td>35.548042</td>\n",
              "      <td>-6.664427</td>\n",
              "      <td>-5.128408</td>\n",
              "      <td>9.827440</td>\n",
              "      <td>-1.635414</td>\n",
              "      <td>-5.240368</td>\n",
              "      <td>-1.569069</td>\n",
              "      <td>-1.458279</td>\n",
              "      <td>7.581460</td>\n",
              "      <td>-16.175152</td>\n",
              "      <td>-6.295955</td>\n",
              "      <td>-9.435411</td>\n",
              "      <td>-3.781498</td>\n",
              "      <td>-8.782184</td>\n",
              "      <td>-7.635081</td>\n",
              "      <td>0.223808</td>\n",
              "      <td>0.355715</td>\n",
              "      <td>0.269517</td>\n",
              "      <td>0.202841</td>\n",
              "      <td>0.376315</td>\n",
              "      <td>0.324933</td>\n",
              "      <td>0.624933</td>\n",
              "      <td>0.684395</td>\n",
              "      <td>0.392219</td>\n",
              "      <td>1.000000</td>\n",
              "      <td>1.000000</td>\n",
              "      <td>0.446547</td>\n",
              "      <td>0.319092</td>\n",
              "      <td>0.448243</td>\n",
              "      <td>0.260494</td>\n",
              "      <td>0.103011</td>\n",
              "      <td>0.139945</td>\n",
              "      <td>0.144729</td>\n",
              "      <td>0.191945</td>\n",
              "      <td>0.245747</td>\n",
              "      <td>0.076884</td>\n",
              "      <td>0.266807</td>\n",
              "      <td>0.286048</td>\n",
              "      <td>0.167931</td>\n",
              "      <td>0.120557</td>\n",
              "      <td>0.326037</td>\n",
              "      <td>0.246430</td>\n",
              "      <td>0.267567</td>\n",
              "      <td>0.356422</td>\n",
              "      <td>0.278966</td>\n",
              "      <td>0.506787</td>\n",
              "      <td>0.398466</td>\n",
              "      <td>0.341865</td>\n",
              "      <td>0.328212</td>\n",
              "      <td>0.283725</td>\n",
              "      <td>0.300338</td>\n",
              "      <td>-0.001744</td>\n",
              "      <td>0.005818</td>\n",
              "      <td>-0.024928</td>\n",
              "      <td>-0.016238</td>\n",
              "      <td>0.001600</td>\n",
              "      <td>0.001166</td>\n",
              "      <td>-0.081588</td>\n",
              "      <td>-0.126457</td>\n",
              "    </tr>\n",
              "  </tbody>\n",
              "</table>\n",
              "</div>"
            ],
            "text/plain": [
              "   song_id  frame_num       zcr  ...  tonnetz_5   valence   arousal\n",
              "0        2          0  0.157715  ...   0.042898 -0.073341 -0.109386\n",
              "1        2          1  0.051758  ...   0.033029 -0.074661 -0.114942\n",
              "2        2          2  0.101562  ...   0.023202 -0.074077 -0.116413\n",
              "3        2          3  0.062500  ...   0.012032 -0.078154 -0.118613\n",
              "4        2          4  0.120605  ...   0.001166 -0.081588 -0.126457\n",
              "\n",
              "[5 rows x 74 columns]"
            ]
          },
          "metadata": {
            "tags": []
          },
          "execution_count": 80
        }
      ]
    },
    {
      "cell_type": "code",
      "metadata": {
        "id": "2j1vh4AKW9hf"
      },
      "source": [
        "df =df.iloc[np.random.permutation(np.arange(104640).reshape(-1,60)).ravel()]"
      ],
      "execution_count": 81,
      "outputs": []
    },
    {
      "cell_type": "markdown",
      "metadata": {
        "id": "_Dgbx5eBnMDC"
      },
      "source": [
        "### With Normalization"
      ]
    },
    {
      "cell_type": "code",
      "metadata": {
        "id": "gRTaJFtnmBKN"
      },
      "source": [
        "df_train = df[:65880]\n",
        "df_val = df[65880:73200]\n",
        "df_test = df[73200:104640]\n",
        "\n",
        "train_mean = df_train.mean()\n",
        "train_std = df_train.std()\n",
        "\n",
        "df_train = (df_train - train_mean) / train_std\n",
        "df_val = (df_val - train_mean) / train_std\n",
        "df_test = (df_test - train_mean) / train_std"
      ],
      "execution_count": 82,
      "outputs": []
    },
    {
      "cell_type": "code",
      "metadata": {
        "id": "DBLk18DUndu6",
        "outputId": "98f5e5a1-106c-43dc-dd38-725c9c90dea3",
        "colab": {
          "base_uri": "https://localhost:8080/",
          "height": 476
        }
      },
      "source": [
        "df_std = (df - train_mean) / train_std\n",
        "df_std = df_std.melt(var_name='Column', value_name='Normalized')\n",
        "plt.figure(figsize=(12, 6))\n",
        "ax = sns.violinplot(x='Column', y='Normalized', data=df_std)\n",
        "_ = ax.set_xticklabels(df.keys(), rotation=90)"
      ],
      "execution_count": 83,
      "outputs": [
        {
          "output_type": "display_data",
          "data": {
            "image/png": "[encoded data removed]",
            "text/plain": [
              "<Figure size 864x432 with 1 Axes>"
            ]
          },
          "metadata": {
            "tags": [],
            "needs_background": "light"
          }
        }
      ]
    },
    {
      "cell_type": "code",
      "metadata": {
        "id": "0wja-3LQoBSN",
        "outputId": "4be4d323-7abe-4268-d6ba-97c70de68f18",
        "colab": {
          "base_uri": "https://localhost:8080/"
        }
      },
      "source": [
        "# #With Normalization\n",
        "y = df.loc[:,'valence':'arousal']\n",
        "df_train.pop('song_id')\n",
        "df_train.pop('frame_num')\n",
        "df_train.pop('valence')\n",
        "df_train.pop('arousal')\n",
        "\n",
        "df_val.pop('song_id')\n",
        "df_val.pop('frame_num')\n",
        "df_val.pop('valence')\n",
        "df_val.pop('arousal')\n",
        "\n",
        "df_test.pop('song_id')\n",
        "df_test.pop('frame_num')\n",
        "df_test.pop('valence')\n",
        "df_test.pop('arousal')\n"
      ],
      "execution_count": 84,
      "outputs": [
        {
          "output_type": "execute_result",
          "data": {
            "text/plain": [
              "74880   -0.081863\n",
              "74881   -0.060454\n",
              "74882    0.167915\n",
              "74883    0.335623\n",
              "74884    0.274963\n",
              "           ...   \n",
              "8515    -1.249852\n",
              "8516    -1.240696\n",
              "8517    -1.254780\n",
              "8518    -1.291768\n",
              "8519    -1.318454\n",
              "Name: arousal, Length: 31440, dtype: float64"
            ]
          },
          "metadata": {
            "tags": []
          },
          "execution_count": 84
        }
      ]
    },
    {
      "cell_type": "code",
      "metadata": {
        "id": "m9D8jECKsP4-"
      },
      "source": [
        "train_X = df_train\n",
        "train_X = train_X.to_numpy() \n",
        "\n",
        "val_X = df_val\n",
        "val_X = val_X.to_numpy() \n",
        "\n",
        "test_X = df_test\n",
        "test_X = test_X.to_numpy()\n",
        "\n",
        "train_y = y[:65880]\n",
        "train_y = train_y.to_numpy()\n",
        "\n",
        "val_y = y[65880:73200]\n",
        "val_y = val_y.to_numpy()\n",
        "\n",
        "test_y = y[73200:104640]\n",
        "test_y = test_y.to_numpy()"
      ],
      "execution_count": 85,
      "outputs": []
    },
    {
      "cell_type": "code",
      "metadata": {
        "id": "OEskMSB0pk7A"
      },
      "source": [
        "# #With Normalization\n",
        "train_X = train_X.reshape(1098,60,70)\n",
        "train_y = train_y.reshape(1098,60,2)\n",
        "val_X = val_X.reshape(122,60,70)\n",
        "val_y = val_y.reshape(122,60,2)\n",
        "test_X = test_X.reshape(524,60,70)\n",
        "test_y = test_y.reshape(524,60,2)"
      ],
      "execution_count": 86,
      "outputs": []
    },
    {
      "cell_type": "markdown",
      "metadata": {
        "id": "BP1-GyOWqtO-"
      },
      "source": [
        "### Without Normalization"
      ]
    },
    {
      "cell_type": "code",
      "metadata": {
        "id": "yrUOopsQY6kx"
      },
      "source": [
        "# Without Normalization\n",
        "# df.pop('song_id')\n",
        "# df.pop('frame_num')\n",
        "# y = df.loc[:,'valence':'arousal']\n",
        "# # print(y.shape)\n",
        "# y.head()\n",
        "# df.pop('valence')\n",
        "# df.pop('arousal')\n",
        "# features = df.to_numpy()\n",
        "# y = y.to_numpy()\n",
        "# print(features.shape)\n",
        "# print(y.shape)"
      ],
      "execution_count": 87,
      "outputs": []
    },
    {
      "cell_type": "code",
      "metadata": {
        "id": "86W_1rgzlv1M"
      },
      "source": [
        "# Without Normalization\n",
        "# features = features.reshape(1744,60,70)\n",
        "# y = y.reshape(1744,60,2)\n",
        "# train_X , train_y = features[0:1098] , y[0:1098]\n",
        "# val_X, val_y = features[1098:1220] , y[1098:1220]\n",
        "# test_X , test_y = features[1220:1744] , y[1220:1744]\n",
        "# print(\"train_X :\" , train_X.shape , \"train_y shape:\" , train_y.shape)\n",
        "# print(\"test_X :\" , test_X.shape , \"test_y shape:\" , test_y.shape)\n",
        "# print(\"val_X :\" , val_X.shape , \"val_y shape:\" , val_y.shape)"
      ],
      "execution_count": 88,
      "outputs": []
    },
    {
      "cell_type": "markdown",
      "metadata": {
        "id": "aQwxiTrPqyIK"
      },
      "source": [
        "### Experiment"
      ]
    },
    {
      "cell_type": "code",
      "metadata": {
        "id": "ihLB68_nle5M",
        "outputId": "181e5c29-2675-4e63-e91d-84e6cddc44e0",
        "colab": {
          "base_uri": "https://localhost:8080/"
        }
      },
      "source": [
        "train_loss = DataFrame()\n",
        "val_loss = DataFrame()\n",
        "train_accuracy = DataFrame()\n",
        "val_accuracy = DataFrame()\n",
        "# model.add(Bidirectional(LSTM(128,return_sequences=True, input_shape=(60,70))))\n",
        "for i in range(5):\n",
        "  model = Sequential()\n",
        "  model.add(Bidirectional(LSTM(128,return_sequences=True, input_shape=(60,70))))\n",
        "  model.add(Dropout(0.3))\n",
        "  model.add(Bidirectional(LSTM(64,return_sequences=True, input_shape=(60,70))))\n",
        "  model.add(Dropout(0.3))\n",
        "  model.add(Dense(2))\n",
        "  model.compile(loss='mse', optimizer='adam',metrics=['accuracy'])\n",
        "  history = model.fit(train_X, train_y, epochs=20, validation_data=(val_X, val_y), verbose=2, shuffle=True)\n",
        "  train_loss[str(i)] = history.history['loss']\n",
        "  val_loss[str(i)] = history.history['val_loss']\n",
        "  train_accuracy[str(i)] = history.history['accuracy']\n",
        "  val_accuracy[str(i)] = history.history['val_accuracy']\n",
        "  \n",
        "\n",
        "# model.add(Bidirectional(LSTM(64,return_sequences=True, input_shape=(60,70))))\n",
        "# model.add(Dropout(0.3))\n",
        "# model.add(Bidirectional(LSTM(32,return_sequences=True, input_shape=(60,70))))\n",
        "# model.add(Bidirectional(LSTM(16,return_sequences=True, input_shape=(60,70))))\n",
        "# model.add(Bidirectional(LSTM(8,return_sequences=True, input_shape=(60,70))))\n",
        "\n",
        "\n",
        "\n",
        "\n"
      ],
      "execution_count": 89,
      "outputs": [
        {
          "output_type": "stream",
          "text": [
            "Epoch 1/20\n",
            "35/35 - 2s - loss: 0.0972 - accuracy: 0.5542 - val_loss: 0.0527 - val_accuracy: 0.6234\n",
            "Epoch 2/20\n",
            "35/35 - 1s - loss: 0.0535 - accuracy: 0.6206 - val_loss: 0.0409 - val_accuracy: 0.6801\n",
            "Epoch 3/20\n",
            "35/35 - 1s - loss: 0.0438 - accuracy: 0.6432 - val_loss: 0.0439 - val_accuracy: 0.6913\n",
            "Epoch 4/20\n",
            "35/35 - 1s - loss: 0.0392 - accuracy: 0.6546 - val_loss: 0.0401 - val_accuracy: 0.7027\n",
            "Epoch 5/20\n",
            "35/35 - 1s - loss: 0.0353 - accuracy: 0.6755 - val_loss: 0.0418 - val_accuracy: 0.6876\n",
            "Epoch 6/20\n",
            "35/35 - 1s - loss: 0.0323 - accuracy: 0.6768 - val_loss: 0.0404 - val_accuracy: 0.7209\n",
            "Epoch 7/20\n",
            "35/35 - 1s - loss: 0.0286 - accuracy: 0.6959 - val_loss: 0.0398 - val_accuracy: 0.7034\n",
            "Epoch 8/20\n",
            "35/35 - 1s - loss: 0.0256 - accuracy: 0.7036 - val_loss: 0.0419 - val_accuracy: 0.7109\n",
            "Epoch 9/20\n",
            "35/35 - 1s - loss: 0.0236 - accuracy: 0.7181 - val_loss: 0.0402 - val_accuracy: 0.6980\n",
            "Epoch 10/20\n",
            "35/35 - 1s - loss: 0.0215 - accuracy: 0.7273 - val_loss: 0.0413 - val_accuracy: 0.6878\n",
            "Epoch 11/20\n",
            "35/35 - 1s - loss: 0.0184 - accuracy: 0.7437 - val_loss: 0.0436 - val_accuracy: 0.7107\n",
            "Epoch 12/20\n",
            "35/35 - 1s - loss: 0.0164 - accuracy: 0.7446 - val_loss: 0.0411 - val_accuracy: 0.7175\n",
            "Epoch 13/20\n",
            "35/35 - 1s - loss: 0.0147 - accuracy: 0.7628 - val_loss: 0.0421 - val_accuracy: 0.6981\n",
            "Epoch 14/20\n",
            "35/35 - 1s - loss: 0.0139 - accuracy: 0.7675 - val_loss: 0.0436 - val_accuracy: 0.6755\n",
            "Epoch 15/20\n",
            "35/35 - 1s - loss: 0.0128 - accuracy: 0.7794 - val_loss: 0.0430 - val_accuracy: 0.7059\n",
            "Epoch 16/20\n",
            "35/35 - 1s - loss: 0.0109 - accuracy: 0.7837 - val_loss: 0.0437 - val_accuracy: 0.7111\n",
            "Epoch 17/20\n",
            "35/35 - 1s - loss: 0.0096 - accuracy: 0.8049 - val_loss: 0.0428 - val_accuracy: 0.6814\n",
            "Epoch 18/20\n",
            "35/35 - 1s - loss: 0.0085 - accuracy: 0.8137 - val_loss: 0.0450 - val_accuracy: 0.6831\n",
            "Epoch 19/20\n",
            "35/35 - 1s - loss: 0.0078 - accuracy: 0.8121 - val_loss: 0.0434 - val_accuracy: 0.6766\n",
            "Epoch 20/20\n",
            "35/35 - 1s - loss: 0.0070 - accuracy: 0.8253 - val_loss: 0.0430 - val_accuracy: 0.6940\n",
            "Epoch 1/20\n",
            "35/35 - 2s - loss: 0.0927 - accuracy: 0.5709 - val_loss: 0.0461 - val_accuracy: 0.6602\n",
            "Epoch 2/20\n",
            "35/35 - 1s - loss: 0.0533 - accuracy: 0.6124 - val_loss: 0.0428 - val_accuracy: 0.6668\n",
            "Epoch 3/20\n",
            "35/35 - 1s - loss: 0.0430 - accuracy: 0.6480 - val_loss: 0.0412 - val_accuracy: 0.6675\n",
            "Epoch 4/20\n",
            "35/35 - 1s - loss: 0.0382 - accuracy: 0.6592 - val_loss: 0.0399 - val_accuracy: 0.6929\n",
            "Epoch 5/20\n",
            "35/35 - 1s - loss: 0.0345 - accuracy: 0.6809 - val_loss: 0.0385 - val_accuracy: 0.6913\n",
            "Epoch 6/20\n",
            "35/35 - 1s - loss: 0.0314 - accuracy: 0.6901 - val_loss: 0.0412 - val_accuracy: 0.6892\n",
            "Epoch 7/20\n",
            "35/35 - 1s - loss: 0.0279 - accuracy: 0.7084 - val_loss: 0.0434 - val_accuracy: 0.6698\n",
            "Epoch 8/20\n",
            "35/35 - 1s - loss: 0.0259 - accuracy: 0.7136 - val_loss: 0.0403 - val_accuracy: 0.7027\n",
            "Epoch 9/20\n",
            "35/35 - 1s - loss: 0.0228 - accuracy: 0.7294 - val_loss: 0.0428 - val_accuracy: 0.6857\n",
            "Epoch 10/20\n",
            "35/35 - 1s - loss: 0.0222 - accuracy: 0.7324 - val_loss: 0.0404 - val_accuracy: 0.6948\n",
            "Epoch 11/20\n",
            "35/35 - 1s - loss: 0.0191 - accuracy: 0.7428 - val_loss: 0.0419 - val_accuracy: 0.7061\n",
            "Epoch 12/20\n",
            "35/35 - 1s - loss: 0.0173 - accuracy: 0.7580 - val_loss: 0.0420 - val_accuracy: 0.7031\n",
            "Epoch 13/20\n",
            "35/35 - 1s - loss: 0.0149 - accuracy: 0.7679 - val_loss: 0.0436 - val_accuracy: 0.7075\n",
            "Epoch 14/20\n",
            "35/35 - 1s - loss: 0.0135 - accuracy: 0.7744 - val_loss: 0.0428 - val_accuracy: 0.6746\n",
            "Epoch 15/20\n",
            "35/35 - 1s - loss: 0.0119 - accuracy: 0.7894 - val_loss: 0.0431 - val_accuracy: 0.6626\n",
            "Epoch 16/20\n",
            "35/35 - 1s - loss: 0.0107 - accuracy: 0.8016 - val_loss: 0.0431 - val_accuracy: 0.6762\n",
            "Epoch 17/20\n",
            "35/35 - 1s - loss: 0.0099 - accuracy: 0.8092 - val_loss: 0.0429 - val_accuracy: 0.6900\n",
            "Epoch 18/20\n",
            "35/35 - 1s - loss: 0.0087 - accuracy: 0.8170 - val_loss: 0.0457 - val_accuracy: 0.6671\n",
            "Epoch 19/20\n",
            "35/35 - 1s - loss: 0.0080 - accuracy: 0.8162 - val_loss: 0.0435 - val_accuracy: 0.6628\n",
            "Epoch 20/20\n",
            "35/35 - 1s - loss: 0.0076 - accuracy: 0.8307 - val_loss: 0.0417 - val_accuracy: 0.6724\n",
            "Epoch 1/20\n",
            "35/35 - 2s - loss: 0.0921 - accuracy: 0.5567 - val_loss: 0.0467 - val_accuracy: 0.6359\n",
            "Epoch 2/20\n",
            "35/35 - 1s - loss: 0.0520 - accuracy: 0.6037 - val_loss: 0.0441 - val_accuracy: 0.6866\n",
            "Epoch 3/20\n",
            "35/35 - 1s - loss: 0.0418 - accuracy: 0.6374 - val_loss: 0.0425 - val_accuracy: 0.6903\n",
            "Epoch 4/20\n",
            "35/35 - 1s - loss: 0.0378 - accuracy: 0.6506 - val_loss: 0.0429 - val_accuracy: 0.6850\n",
            "Epoch 5/20\n",
            "35/35 - 1s - loss: 0.0335 - accuracy: 0.6710 - val_loss: 0.0419 - val_accuracy: 0.6995\n",
            "Epoch 6/20\n",
            "35/35 - 1s - loss: 0.0302 - accuracy: 0.6806 - val_loss: 0.0411 - val_accuracy: 0.6960\n",
            "Epoch 7/20\n",
            "35/35 - 1s - loss: 0.0275 - accuracy: 0.6941 - val_loss: 0.0412 - val_accuracy: 0.7004\n",
            "Epoch 8/20\n",
            "35/35 - 1s - loss: 0.0243 - accuracy: 0.7081 - val_loss: 0.0417 - val_accuracy: 0.6780\n",
            "Epoch 9/20\n",
            "35/35 - 1s - loss: 0.0223 - accuracy: 0.7151 - val_loss: 0.0442 - val_accuracy: 0.7015\n",
            "Epoch 10/20\n",
            "35/35 - 1s - loss: 0.0200 - accuracy: 0.7270 - val_loss: 0.0431 - val_accuracy: 0.6893\n",
            "Epoch 11/20\n",
            "35/35 - 1s - loss: 0.0172 - accuracy: 0.7368 - val_loss: 0.0447 - val_accuracy: 0.7011\n",
            "Epoch 12/20\n",
            "35/35 - 1s - loss: 0.0152 - accuracy: 0.7571 - val_loss: 0.0411 - val_accuracy: 0.7092\n",
            "Epoch 13/20\n",
            "35/35 - 1s - loss: 0.0147 - accuracy: 0.7569 - val_loss: 0.0446 - val_accuracy: 0.6911\n",
            "Epoch 14/20\n",
            "35/35 - 1s - loss: 0.0126 - accuracy: 0.7732 - val_loss: 0.0438 - val_accuracy: 0.7067\n",
            "Epoch 15/20\n",
            "35/35 - 1s - loss: 0.0107 - accuracy: 0.7903 - val_loss: 0.0438 - val_accuracy: 0.7117\n",
            "Epoch 16/20\n",
            "35/35 - 1s - loss: 0.0098 - accuracy: 0.7943 - val_loss: 0.0409 - val_accuracy: 0.7016\n",
            "Epoch 17/20\n",
            "35/35 - 1s - loss: 0.0088 - accuracy: 0.8071 - val_loss: 0.0447 - val_accuracy: 0.7064\n",
            "Epoch 18/20\n",
            "35/35 - 1s - loss: 0.0084 - accuracy: 0.8118 - val_loss: 0.0450 - val_accuracy: 0.7105\n",
            "Epoch 19/20\n",
            "35/35 - 1s - loss: 0.0076 - accuracy: 0.8168 - val_loss: 0.0465 - val_accuracy: 0.7182\n",
            "Epoch 20/20\n",
            "35/35 - 1s - loss: 0.0069 - accuracy: 0.8269 - val_loss: 0.0457 - val_accuracy: 0.6832\n",
            "Epoch 1/20\n",
            "35/35 - 2s - loss: 0.0871 - accuracy: 0.5646 - val_loss: 0.0477 - val_accuracy: 0.6112\n",
            "Epoch 2/20\n",
            "35/35 - 1s - loss: 0.0503 - accuracy: 0.6138 - val_loss: 0.0419 - val_accuracy: 0.6693\n",
            "Epoch 3/20\n",
            "35/35 - 1s - loss: 0.0416 - accuracy: 0.6379 - val_loss: 0.0391 - val_accuracy: 0.6997\n",
            "Epoch 4/20\n",
            "35/35 - 1s - loss: 0.0371 - accuracy: 0.6544 - val_loss: 0.0402 - val_accuracy: 0.6893\n",
            "Epoch 5/20\n",
            "35/35 - 1s - loss: 0.0329 - accuracy: 0.6682 - val_loss: 0.0392 - val_accuracy: 0.6828\n",
            "Epoch 6/20\n",
            "35/35 - 1s - loss: 0.0304 - accuracy: 0.6833 - val_loss: 0.0420 - val_accuracy: 0.6820\n",
            "Epoch 7/20\n",
            "35/35 - 1s - loss: 0.0286 - accuracy: 0.6924 - val_loss: 0.0414 - val_accuracy: 0.6828\n",
            "Epoch 8/20\n",
            "35/35 - 1s - loss: 0.0256 - accuracy: 0.6965 - val_loss: 0.0391 - val_accuracy: 0.7098\n",
            "Epoch 9/20\n",
            "35/35 - 1s - loss: 0.0224 - accuracy: 0.7081 - val_loss: 0.0412 - val_accuracy: 0.7294\n",
            "Epoch 10/20\n",
            "35/35 - 1s - loss: 0.0197 - accuracy: 0.7320 - val_loss: 0.0403 - val_accuracy: 0.6932\n",
            "Epoch 11/20\n",
            "35/35 - 1s - loss: 0.0171 - accuracy: 0.7368 - val_loss: 0.0383 - val_accuracy: 0.7158\n",
            "Epoch 12/20\n",
            "35/35 - 1s - loss: 0.0152 - accuracy: 0.7523 - val_loss: 0.0406 - val_accuracy: 0.7288\n",
            "Epoch 13/20\n",
            "35/35 - 1s - loss: 0.0141 - accuracy: 0.7557 - val_loss: 0.0389 - val_accuracy: 0.7066\n",
            "Epoch 14/20\n",
            "35/35 - 1s - loss: 0.0121 - accuracy: 0.7728 - val_loss: 0.0416 - val_accuracy: 0.7150\n",
            "Epoch 15/20\n",
            "35/35 - 1s - loss: 0.0102 - accuracy: 0.7798 - val_loss: 0.0408 - val_accuracy: 0.7019\n",
            "Epoch 16/20\n",
            "35/35 - 1s - loss: 0.0091 - accuracy: 0.7947 - val_loss: 0.0409 - val_accuracy: 0.7157\n",
            "Epoch 17/20\n",
            "35/35 - 1s - loss: 0.0085 - accuracy: 0.8091 - val_loss: 0.0405 - val_accuracy: 0.7191\n",
            "Epoch 18/20\n",
            "35/35 - 1s - loss: 0.0079 - accuracy: 0.8120 - val_loss: 0.0406 - val_accuracy: 0.7264\n",
            "Epoch 19/20\n",
            "35/35 - 1s - loss: 0.0072 - accuracy: 0.8229 - val_loss: 0.0415 - val_accuracy: 0.7275\n",
            "Epoch 20/20\n",
            "35/35 - 1s - loss: 0.0068 - accuracy: 0.8311 - val_loss: 0.0402 - val_accuracy: 0.6926\n",
            "Epoch 1/20\n",
            "35/35 - 2s - loss: 0.0844 - accuracy: 0.5656 - val_loss: 0.0484 - val_accuracy: 0.6574\n",
            "Epoch 2/20\n",
            "35/35 - 1s - loss: 0.0493 - accuracy: 0.6193 - val_loss: 0.0437 - val_accuracy: 0.6755\n",
            "Epoch 3/20\n",
            "35/35 - 1s - loss: 0.0417 - accuracy: 0.6432 - val_loss: 0.0425 - val_accuracy: 0.7000\n",
            "Epoch 4/20\n",
            "35/35 - 1s - loss: 0.0370 - accuracy: 0.6659 - val_loss: 0.0424 - val_accuracy: 0.7068\n",
            "Epoch 5/20\n",
            "35/35 - 1s - loss: 0.0340 - accuracy: 0.6775 - val_loss: 0.0393 - val_accuracy: 0.6880\n",
            "Epoch 6/20\n",
            "35/35 - 1s - loss: 0.0305 - accuracy: 0.6838 - val_loss: 0.0396 - val_accuracy: 0.6854\n",
            "Epoch 7/20\n",
            "35/35 - 1s - loss: 0.0280 - accuracy: 0.6977 - val_loss: 0.0406 - val_accuracy: 0.6652\n",
            "Epoch 8/20\n",
            "35/35 - 1s - loss: 0.0248 - accuracy: 0.7103 - val_loss: 0.0401 - val_accuracy: 0.6760\n",
            "Epoch 9/20\n",
            "35/35 - 1s - loss: 0.0228 - accuracy: 0.7216 - val_loss: 0.0379 - val_accuracy: 0.6969\n",
            "Epoch 10/20\n",
            "35/35 - 1s - loss: 0.0204 - accuracy: 0.7299 - val_loss: 0.0397 - val_accuracy: 0.6605\n",
            "Epoch 11/20\n",
            "35/35 - 1s - loss: 0.0183 - accuracy: 0.7450 - val_loss: 0.0434 - val_accuracy: 0.6874\n",
            "Epoch 12/20\n",
            "35/35 - 1s - loss: 0.0167 - accuracy: 0.7571 - val_loss: 0.0421 - val_accuracy: 0.6825\n",
            "Epoch 13/20\n",
            "35/35 - 1s - loss: 0.0143 - accuracy: 0.7663 - val_loss: 0.0392 - val_accuracy: 0.6861\n",
            "Epoch 14/20\n",
            "35/35 - 1s - loss: 0.0122 - accuracy: 0.7759 - val_loss: 0.0399 - val_accuracy: 0.6757\n",
            "Epoch 15/20\n",
            "35/35 - 1s - loss: 0.0105 - accuracy: 0.7932 - val_loss: 0.0451 - val_accuracy: 0.6786\n",
            "Epoch 16/20\n",
            "35/35 - 1s - loss: 0.0097 - accuracy: 0.8003 - val_loss: 0.0401 - val_accuracy: 0.6917\n",
            "Epoch 17/20\n",
            "35/35 - 1s - loss: 0.0092 - accuracy: 0.8111 - val_loss: 0.0416 - val_accuracy: 0.6858\n",
            "Epoch 18/20\n",
            "35/35 - 1s - loss: 0.0080 - accuracy: 0.8173 - val_loss: 0.0453 - val_accuracy: 0.6862\n",
            "Epoch 19/20\n",
            "35/35 - 1s - loss: 0.0075 - accuracy: 0.8301 - val_loss: 0.0461 - val_accuracy: 0.6765\n",
            "Epoch 20/20\n",
            "35/35 - 1s - loss: 0.0078 - accuracy: 0.8262 - val_loss: 0.0457 - val_accuracy: 0.6649\n"
          ],
          "name": "stdout"
        }
      ]
    },
    {
      "cell_type": "code",
      "metadata": {
        "id": "UKSk4qNeJhxs",
        "outputId": "edaec3e9-35f1-4861-ca7e-d3a8e3de26cc",
        "colab": {
          "base_uri": "https://localhost:8080/",
          "height": 295
        }
      },
      "source": [
        "# plot train and validation loss across multiple runs\n",
        "plt.plot(train_loss, color='blue', label='train')\n",
        "plt.plot(val_loss, color='orange', label='validation')\n",
        "plt.title('model train vs validation loss')\n",
        "plt.ylabel('loss')\n",
        "plt.xlabel('epoch')\n",
        "plt.show()"
      ],
      "execution_count": 90,
      "outputs": [
        {
          "output_type": "display_data",
          "data": {
            "image/png": "[encoded data removed]",
            "text/plain": [
              "<Figure size 432x288 with 1 Axes>"
            ]
          },
          "metadata": {
            "tags": [],
            "needs_background": "light"
          }
        }
      ]
    },
    {
      "cell_type": "code",
      "metadata": {
        "id": "TimEY-IGJpHg",
        "outputId": "2d378634-7f9e-4e9e-d042-bca7b862432e",
        "colab": {
          "base_uri": "https://localhost:8080/",
          "height": 295
        }
      },
      "source": [
        "plt.plot(train_accuracy, color='blue', label='train')\n",
        "plt.plot(val_accuracy, color='orange', label='validation')\n",
        "plt.title('model train vs validation accuracy')\n",
        "plt.ylabel('accuracy')\n",
        "plt.xlabel('epoch')\n",
        "plt.show()"
      ],
      "execution_count": 91,
      "outputs": [
        {
          "output_type": "display_data",
          "data": {
            "image/png": "[encoded data removed]",
            "text/plain": [
              "<Figure size 432x288 with 1 Axes>"
            ]
          },
          "metadata": {
            "tags": [],
            "needs_background": "light"
          }
        }
      ]
    },
    {
      "cell_type": "code",
      "metadata": {
        "id": "27usXwSelDL0"
      },
      "source": [
        "# history = model.fit(train_X, train_y, epochs=300, validation_data=(val_X, val_y), verbose=2, shuffle=False)\n"
      ],
      "execution_count": 92,
      "outputs": []
    },
    {
      "cell_type": "code",
      "metadata": {
        "id": "wPSl1dxweAgt",
        "outputId": "4c27be66-3aee-4f38-f261-6da0b82cf1d4",
        "colab": {
          "base_uri": "https://localhost:8080/",
          "height": 295
        }
      },
      "source": [
        "plt.plot(history.history['accuracy'])\n",
        "plt.plot(history.history['val_accuracy'])\n",
        "plt.title('model accuracy')\n",
        "plt.ylabel('accuracy')\n",
        "plt.xlabel('epoch')\n",
        "plt.legend(['train', 'test'], loc='upper right')\n",
        "plt.show()"
      ],
      "execution_count": 93,
      "outputs": [
        {
          "output_type": "display_data",
          "data": {
            "image/png": "[encoded data removed]",
            "text/plain": [
              "<Figure size 432x288 with 1 Axes>"
            ]
          },
          "metadata": {
            "tags": [],
            "needs_background": "light"
          }
        }
      ]
    },
    {
      "cell_type": "code",
      "metadata": {
        "id": "_ACHp8c0YFOP",
        "outputId": "156f6f3c-4619-4735-ae19-6aedcb7c8e60",
        "colab": {
          "base_uri": "https://localhost:8080/",
          "height": 295
        }
      },
      "source": [
        "plt.plot(history.history['loss'])\n",
        "plt.plot(history.history['val_loss'])\n",
        "plt.legend(['train', 'test'], loc='upper right')\n",
        "plt.title('model loss')\n",
        "plt.ylabel('loss')\n",
        "plt.xlabel('epoch')\n",
        "plt.show()"
      ],
      "execution_count": 94,
      "outputs": [
        {
          "output_type": "display_data",
          "data": {
            "image/png": "[encoded data removed]",
            "text/plain": [
              "<Figure size 432x288 with 1 Axes>"
            ]
          },
          "metadata": {
            "tags": [],
            "needs_background": "light"
          }
        }
      ]
    },
    {
      "cell_type": "code",
      "metadata": {
        "id": "SwKISLlZXV2d",
        "outputId": "f703b3b8-16c5-46c6-b19b-49d0e874bbd7",
        "colab": {
          "base_uri": "https://localhost:8080/"
        }
      },
      "source": [
        "history.history\n",
        "print('overall loss' , np.mean(history.history['loss']))\n",
        "print('overall val_loss' , np.mean(history.history['val_loss']))"
      ],
      "execution_count": 95,
      "outputs": [
        {
          "output_type": "stream",
          "text": [
            "overall loss 0.02434236048720777\n",
            "overall val_loss 0.04213930852711201\n"
          ],
          "name": "stdout"
        }
      ]
    },
    {
      "cell_type": "code",
      "metadata": {
        "id": "Pw8CtS1BlHPk"
      },
      "source": [
        "predicted_y = model.predict(test_X)\n"
      ],
      "execution_count": 96,
      "outputs": []
    },
    {
      "cell_type": "code",
      "metadata": {
        "id": "4s5LCQCHzgjS",
        "outputId": "e2fd5f0e-8e43-49ff-86c9-97ffe11adef4",
        "colab": {
          "base_uri": "https://localhost:8080/"
        }
      },
      "source": [
        "print(predicted_y.shape)\n",
        "print(test_y.shape)"
      ],
      "execution_count": 97,
      "outputs": [
        {
          "output_type": "stream",
          "text": [
            "(524, 60, 2)\n",
            "(524, 60, 2)\n"
          ],
          "name": "stdout"
        }
      ]
    },
    {
      "cell_type": "code",
      "metadata": {
        "id": "tQZgAGhuBAGj"
      },
      "source": [
        "predicted_valence = predicted_y[:,:,0]\n",
        "predicted_arousal = predicted_y[:,:,1]\n",
        "test_valence = test_y[:,:,0]\n",
        "test_arousal = test_y[:,:,1]"
      ],
      "execution_count": 98,
      "outputs": []
    },
    {
      "cell_type": "code",
      "metadata": {
        "id": "Bx3FtbF1CC-q"
      },
      "source": [
        "# for i in range(1):\n",
        "  # print(predicted_valence[i])\n",
        "  # print(predicted_arousal[i])\n",
        "  # print(test_valence[i])\n",
        "  # print(test_arousal[i])"
      ],
      "execution_count": 99,
      "outputs": []
    },
    {
      "cell_type": "code",
      "metadata": {
        "id": "vAZfp3jyV0_f"
      },
      "source": [
        "predicted_valence = predicted_valence.reshape(31440,)\n",
        "test_valence = test_valence.reshape(31440,)\n",
        "predicted_arousal = predicted_arousal.reshape(31440,)\n",
        "test_arousal = test_arousal.reshape(31440,)"
      ],
      "execution_count": 100,
      "outputs": []
    },
    {
      "cell_type": "code",
      "metadata": {
        "id": "-cQpvl4DYkwQ"
      },
      "source": [
        "def metrics(y_true,y_pred,name):\n",
        "  print(name,\"\")\n",
        "  mae = mean_absolute_error(y_true,y_pred)\n",
        "  rmse = sqrt(mean_squared_error(y_true,y_pred))\n",
        "  r2 = r2_score(y_true,y_pred)\n",
        "  pearson_corr = pearsonr(y_true,y_pred)\n",
        "  spearman_corr = spearmanr(y_true,y_pred)\n",
        "  \n",
        "  print('RMSE : ',rmse)\n",
        "  print('Pearson : ',pearson_corr)\n",
        "  print('MAE : ',mae)\n",
        "  print('R2 : ',r2)\n",
        "  print('Spearman : ',spearman_corr,'\\n')\n"
      ],
      "execution_count": 101,
      "outputs": []
    },
    {
      "cell_type": "code",
      "metadata": {
        "id": "wI22IyyxfafF"
      },
      "source": [
        "def graph_results(x,y,title, xlim=-1, ylim=-1):\n",
        "  #x and y are variables ( y_pred vs y_true )\n",
        "  #Important\n",
        "  plt.scatter(x,y,s=15)\n",
        "\n",
        "  # if xlim != -1: plt.xlim([0, xlim])\n",
        "  # if ylim != -1: plt.ylim([0, ylim])\n",
        "  # plt.gca().set_ylim([1.5,7.5])\n",
        "  # plt.gca().set_xlim([1.5,9])\n",
        "  #Fix \n",
        "  plt.xlabel(\"Actual\")\n",
        "  plt.ylabel(\"Predicted\")\n",
        "  plt.title((title))\n",
        "  # m, b = np.polyfit(x, y, 1)\n",
        "  # plt.plot(x, m*x + b, color='red')  \n",
        "  plt.savefig(title)\n",
        "\n",
        "  plt.show()"
      ],
      "execution_count": 102,
      "outputs": []
    },
    {
      "cell_type": "code",
      "metadata": {
        "id": "zbJaq7WqaLB9",
        "outputId": "ca3f8db1-407e-40cf-bf92-d505ec594689",
        "colab": {
          "base_uri": "https://localhost:8080/",
          "height": 417
        }
      },
      "source": [
        "metrics(test_valence,predicted_valence,'valence')\n",
        "graph_results(test_valence,predicted_valence,'valence actual vs prediction')\n"
      ],
      "execution_count": 103,
      "outputs": [
        {
          "output_type": "stream",
          "text": [
            "valence \n",
            "RMSE :  0.22721838253917725\n",
            "Pearson :  (0.4389122141261539, 0.0)\n",
            "MAE :  0.1800711222844774\n",
            "R2 :  0.06783145742256946\n",
            "Spearman :  SpearmanrResult(correlation=0.44568876605941565, pvalue=0.0) \n",
            "\n"
          ],
          "name": "stdout"
        },
        {
          "output_type": "display_data",
          "data": {
            "image/png": "[encoded data removed]",
            "text/plain": [
              "<Figure size 432x288 with 1 Axes>"
            ]
          },
          "metadata": {
            "tags": [],
            "needs_background": "light"
          }
        }
      ]
    },
    {
      "cell_type": "code",
      "metadata": {
        "id": "ZaFzNqaBC-9q",
        "outputId": "9364db6b-36df-4362-f295-04f01143168e",
        "colab": {
          "base_uri": "https://localhost:8080/",
          "height": 417
        }
      },
      "source": [
        "metrics(test_arousal,predicted_arousal,'arousal')\n",
        "graph_results(test_arousal,predicted_arousal,'arousal actual vs prediction')"
      ],
      "execution_count": 104,
      "outputs": [
        {
          "output_type": "stream",
          "text": [
            "arousal \n",
            "RMSE :  0.19668035777356135\n",
            "Pearson :  (0.7410767810754699, 0.0)\n",
            "MAE :  0.15411112318263326\n",
            "R2 :  0.533214980497681\n",
            "Spearman :  SpearmanrResult(correlation=0.7525038056598623, pvalue=0.0) \n",
            "\n"
          ],
          "name": "stdout"
        },
        {
          "output_type": "display_data",
          "data": {
            "image/png": "[encoded data removed]",
            "text/plain": [
              "<Figure size 432x288 with 1 Axes>"
            ]
          },
          "metadata": {
            "tags": [],
            "needs_background": "light"
          }
        }
      ]
    },
    {
      "cell_type": "code",
      "metadata": {
        "id": "pcQaHYbFSziG"
      },
      "source": [
        ""
      ],
      "execution_count": 104,
      "outputs": []
    }
  ]
}